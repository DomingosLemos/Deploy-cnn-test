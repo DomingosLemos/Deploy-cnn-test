{
  "nbformat": 4,
  "nbformat_minor": 0,
  "metadata": {
    "colab": {
      "name": "Copy of DLNN_v01.ipynb",
      "provenance": [],
      "collapsed_sections": [],
      "include_colab_link": true
    },
    "kernelspec": {
      "name": "python3",
      "display_name": "Python 3"
    },
    "accelerator": "GPU"
  },
  "cells": [
    {
      "cell_type": "markdown",
      "metadata": {
        "id": "view-in-github",
        "colab_type": "text"
      },
      "source": [
        "<a href=\"https://colab.research.google.com/github/DomingosLemos/Deploy-cnn-test/blob/main/Copy_of_DLNN_v01.ipynb\" target=\"_parent\"><img src=\"https://colab.research.google.com/assets/colab-badge.svg\" alt=\"Open In Colab\"/></a>"
      ]
    },
    {
      "cell_type": "markdown",
      "metadata": {
        "id": "2cJR6fWqQJH1"
      },
      "source": [
        "# Os código seguinte são lixo para apagar.\r\n",
        "Serviram para testes"
      ]
    },
    {
      "cell_type": "code",
      "metadata": {
        "colab": {
          "base_uri": "https://localhost:8080/"
        },
        "id": "hvL02fSdjVfM",
        "outputId": "c728b1cb-9048-4ecc-c18a-41d5d436d66a"
      },
      "source": [
        "%tensorflow_version 2.x\r\n",
        "import tensorflow as tf\r\n",
        "device_name = tf.test.gpu_device_name()\r\n",
        "if device_name != '/device:GPU:0':\r\n",
        "  raise SystemError('GPU device not found')\r\n",
        "print('Found GPU at: {}'.format(device_name))"
      ],
      "execution_count": 1,
      "outputs": [
        {
          "output_type": "stream",
          "text": [
            "Found GPU at: /device:GPU:0\n"
          ],
          "name": "stdout"
        }
      ]
    },
    {
      "cell_type": "code",
      "metadata": {
        "colab": {
          "base_uri": "https://localhost:8080/"
        },
        "id": "JXavUfmhoK5U",
        "outputId": "5ce2e083-8d08-4249-e3eb-ee83d35072fa"
      },
      "source": [
        "from google.colab import drive\n",
        "drive.mount('/content/drive')"
      ],
      "execution_count": 2,
      "outputs": [
        {
          "output_type": "stream",
          "text": [
            "Mounted at /content/drive\n"
          ],
          "name": "stdout"
        }
      ]
    },
    {
      "cell_type": "code",
      "metadata": {
        "colab": {
          "base_uri": "https://localhost:8080/"
        },
        "id": "hfETxsFEjZyg",
        "outputId": "092f2422-6ac0-4bb7-a188-43fd0b8fb3f4"
      },
      "source": [
        "%tensorflow_version 2.x\r\n",
        "import tensorflow as tf\r\n",
        "import timeit\r\n",
        "\r\n",
        "device_name = tf.test.gpu_device_name()\r\n",
        "if device_name != '/device:GPU:0':\r\n",
        "  print(\r\n",
        "      '\\n\\nThis error most likely means that this notebook is not '\r\n",
        "      'configured to use a GPU.  Change this in Notebook Settings via the '\r\n",
        "      'command palette (cmd/ctrl-shift-P) or the Edit menu.\\n\\n')\r\n",
        "  raise SystemError('GPU device not found')\r\n",
        "\r\n",
        "def cpu():\r\n",
        "  with tf.device('/cpu:0'):\r\n",
        "    random_image_cpu = tf.random.normal((100, 100, 100, 3))\r\n",
        "    net_cpu = tf.keras.layers.Conv2D(32, 7)(random_image_cpu)\r\n",
        "    return tf.math.reduce_sum(net_cpu)\r\n",
        "\r\n",
        "def gpu():\r\n",
        "  with tf.device('/device:GPU:0'):\r\n",
        "    random_image_gpu = tf.random.normal((100, 100, 100, 3))\r\n",
        "    net_gpu = tf.keras.layers.Conv2D(32, 7)(random_image_gpu)\r\n",
        "    return tf.math.reduce_sum(net_gpu)\r\n",
        "  \r\n",
        "# We run each op once to warm up; see: https://stackoverflow.com/a/45067900\r\n",
        "cpu()\r\n",
        "gpu()\r\n",
        "\r\n",
        "# Run the op several times.\r\n",
        "print('Time (s) to convolve 32x7x7x3 filter over random 100x100x100x3 images '\r\n",
        "      '(batch x height x width x channel). Sum of ten runs.')\r\n",
        "print('CPU (s):')\r\n",
        "cpu_time = timeit.timeit('cpu()', number=10, setup=\"from __main__ import cpu\")\r\n",
        "print(cpu_time)\r\n",
        "print('GPU (s):')\r\n",
        "gpu_time = timeit.timeit('gpu()', number=10, setup=\"from __main__ import gpu\")\r\n",
        "print(gpu_time)\r\n",
        "print('GPU speedup over CPU: {}x'.format(int(cpu_time/gpu_time)))"
      ],
      "execution_count": 3,
      "outputs": [
        {
          "output_type": "stream",
          "text": [
            "Time (s) to convolve 32x7x7x3 filter over random 100x100x100x3 images (batch x height x width x channel). Sum of ten runs.\n",
            "CPU (s):\n",
            "3.222182425999989\n",
            "GPU (s):\n",
            "0.038368724999997994\n",
            "GPU speedup over CPU: 83x\n"
          ],
          "name": "stdout"
        }
      ]
    },
    {
      "cell_type": "markdown",
      "metadata": {
        "id": "F8Pv3qyYQgD6"
      },
      "source": [
        "# Importar as livrarias necessárias"
      ]
    },
    {
      "cell_type": "code",
      "metadata": {
        "id": "yLvSpNQqkT08"
      },
      "source": [
        "import numpy as np\r\n",
        "import pandas as pd\r\n",
        "import matplotlib.pyplot as plt\r\n",
        "import h5py\r\n",
        "import gc\r\n",
        "import tensorflow as tf\r\n",
        "from sklearn.model_selection import train_test_split\r\n",
        "from keras_preprocessing.image import ImageDataGenerator\r\n",
        "from keras import models\r\n",
        "from keras import layers\r\n",
        "from keras import optimizers\r\n",
        "from keras import regularizers\r\n",
        "from keras.callbacks import EarlyStopping\r\n",
        "from keras.callbacks import ModelCheckpoint\r\n",
        "\r\n",
        "#models\r\n",
        "from keras.applications.resnet50 import ResNet50\r\n",
        "from keras.applications.inception_v3 import InceptionV3"
      ],
      "execution_count": 4,
      "outputs": []
    },
    {
      "cell_type": "code",
      "metadata": {
        "id": "7rf_GDC6fkUR"
      },
      "source": [
        "def plot_results(history, simple_style=False):\r\n",
        "    # Results analysis:\r\n",
        "    if simple_style:\r\n",
        "        losses = pd.DataFrame(history.history, columns=['loss', 'val_loss'])\r\n",
        "        accuracies = pd.DataFrame(history.history, columns=['acc', 'val_acc'])\r\n",
        "        losses.plot()\r\n",
        "        accuracies.plot()\r\n",
        "    else:\r\n",
        "        acc = history.history['acc']\r\n",
        "        val_acc = history.history['val_acc']\r\n",
        "        loss = history.history['loss']\r\n",
        "        val_loss = history.history['val_loss']\r\n",
        "\r\n",
        "        epochs = range(1, len(acc) + 1)\r\n",
        "\r\n",
        "        plt.plot(epochs, acc, 'b', color='blue', label='Training acc')\r\n",
        "        plt.plot(epochs, val_acc, 'b', color='red', label='Validation acc')\r\n",
        "        plt.title('Training and validation accuracy')\r\n",
        "        plt.legend()\r\n",
        "        plt.figure()\r\n",
        "\r\n",
        "        plt.plot(epochs, loss, 'b', color='blue', label='Training loss')\r\n",
        "        plt.plot(epochs, val_loss, 'b', color='red', label='Validation loss')\r\n",
        "        plt.title('Training and validation loss')\r\n",
        "        plt.legend()\r\n",
        "\r\n",
        "        plt.show()"
      ],
      "execution_count": 5,
      "outputs": []
    },
    {
      "cell_type": "markdown",
      "metadata": {
        "id": "eVRowUAkQw2E"
      },
      "source": [
        "### Fazer amount do google drive onde temos um zip com totalidade das imagens"
      ]
    },
    {
      "cell_type": "markdown",
      "metadata": {
        "id": "uUveKwCcRACy"
      },
      "source": [
        "### Descompactar imagens para pastas"
      ]
    },
    {
      "cell_type": "code",
      "metadata": {
        "colab": {
          "base_uri": "https://localhost:8080/"
        },
        "id": "Wk1fVSGHp7WU",
        "outputId": "d070170e-aa86-48f4-84f7-43e2b83a6eae"
      },
      "source": [
        "!7z x /content/drive/MyDrive/EDSA/images.zip -o/content/images"
      ],
      "execution_count": 8,
      "outputs": [
        {
          "output_type": "stream",
          "text": [
            "\n",
            "7-Zip [64] 16.02 : Copyright (c) 1999-2016 Igor Pavlov : 2016-05-21\n",
            "p7zip Version 16.02 (locale=en_US.UTF-8,Utf16=on,HugeFiles=on,64 bits,2 CPUs Intel(R) Xeon(R) CPU @ 2.20GHz (406F0),ASM,AES-NI)\n",
            "\n",
            "Scanning the drive for archives:\n",
            "  0M Scan /content/drive/MyDrive/EDSA/\b\b\b\b\b\b\b\b\b\b\b\b\b\b\b\b\b\b\b\b\b\b\b\b\b\b\b\b\b\b\b\b\b\b\b\b\b\b                                      \b\b\b\b\b\b\b\b\b\b\b\b\b\b\b\b\b\b\b\b\b\b\b\b\b\b\b\b\b\b\b\b\b\b\b\b\b\b1 file, 5132666035 bytes (4895 MiB)\n",
            "\n",
            "Extracting archive: /content/drive/MyDrive/EDSA/images.zip\n",
            "  4% 4096 Open\b\b\b\b\b\b\b\b\b\b\b\b\b\b              \b\b\b\b\b\b\b\b\b\b\b\b\b\b--\n",
            "Path = /content/drive/MyDrive/EDSA/images.zip\n",
            "Type = zip\n",
            "Physical Size = 5132666035\n",
            "64-bit = +\n",
            "\n",
            "  0%\b\b\b\b    \b\b\b\b  0% 662 - apple_pie/3277458.jpg\b\b\b\b\b\b\b\b\b\b\b\b\b\b\b\b\b\b\b\b\b\b\b\b\b\b\b\b\b\b\b\b                                \b\b\b\b\b\b\b\b\b\b\b\b\b\b\b\b\b\b\b\b\b\b\b\b\b\b\b\b\b\b\b\b  1% 1183 - baby_back_ribs/1615155.jpg\b\b\b\b\b\b\b\b\b\b\b\b\b\b\b\b\b\b\b\b\b\b\b\b\b\b\b\b\b\b\b\b\b\b\b\b\b\b                                      \b\b\b\b\b\b\b\b\b\b\b\b\b\b\b\b\b\b\b\b\b\b\b\b\b\b\b\b\b\b\b\b\b\b\b\b\b\b  1% 1749 - baby_back_ribs/3724591.jpg\b\b\b\b\b\b\b\b\b\b\b\b\b\b\b\b\b\b\b\b\b\b\b\b\b\b\b\b\b\b\b\b\b\b\b\b\b\b                                      \b\b\b\b\b\b\b\b\b\b\b\b\b\b\b\b\b\b\b\b\b\b\b\b\b\b\b\b\b\b\b\b\b\b\b\b\b\b  2% 2114 - baklava/1389963.jpg\b\b\b\b\b\b\b\b\b\b\b\b\b\b\b\b\b\b\b\b\b\b\b\b\b\b\b\b\b\b\b                               \b\b\b\b\b\b\b\b\b\b\b\b\b\b\b\b\b\b\b\b\b\b\b\b\b\b\b\b\b\b\b  2% 2579 - baklava/3024485.jpg\b\b\b\b\b\b\b\b\b\b\b\b\b\b\b\b\b\b\b\b\b\b\b\b\b\b\b\b\b\b\b                               \b\b\b\b\b\b\b\b\b\b\b\b\b\b\b\b\b\b\b\b\b\b\b\b\b\b\b\b\b\b\b  2% 2992 - baklava/942743.jpg\b\b\b\b\b\b\b\b\b\b\b\b\b\b\b\b\b\b\b\b\b\b\b\b\b\b\b\b\b\b                              \b\b\b\b\b\b\b\b\b\b\b\b\b\b\b\b\b\b\b\b\b\b\b\b\b\b\b\b\b\b  3% 3576 - beef_carpaccio/2914338.jpg\b\b\b\b\b\b\b\b\b\b\b\b\b\b\b\b\b\b\b\b\b\b\b\b\b\b\b\b\b\b\b\b\b\b\b\b\b\b                                      \b\b\b\b\b\b\b\b\b\b\b\b\b\b\b\b\b\b\b\b\b\b\b\b\b\b\b\b\b\b\b\b\b\b\b\b\b\b  4% 3960 - beef_carpaccio/847775.jpg\b\b\b\b\b\b\b\b\b\b\b\b\b\b\b\b\b\b\b\b\b\b\b\b\b\b\b\b\b\b\b\b\b\b\b\b\b                                     \b\b\b\b\b\b\b\b\b\b\b\b\b\b\b\b\b\b\b\b\b\b\b\b\b\b\b\b\b\b\b\b\b\b\b\b\b  4% 4517 - beef_tartare/2923073.jpg\b\b\b\b\b\b\b\b\b\b\b\b\b\b\b\b\b\b\b\b\b\b\b\b\b\b\b\b\b\b\b\b\b\b\b\b                                    \b\b\b\b\b\b\b\b\b\b\b\b\b\b\b\b\b\b\b\b\b\b\b\b\b\b\b\b\b\b\b\b\b\b\b\b  4% 4924 - beef_tartare/700095.jpg\b\b\b\b\b\b\b\b\b\b\b\b\b\b\b\b\b\b\b\b\b\b\b\b\b\b\b\b\b\b\b\b\b\b\b                                   \b\b\b\b\b\b\b\b\b\b\b\b\b\b\b\b\b\b\b\b\b\b\b\b\b\b\b\b\b\b\b\b\b\b\b  5% 5542 - beet_salad/296709.jpg\b\b\b\b\b\b\b\b\b\b\b\b\b\b\b\b\b\b\b\b\b\b\b\b\b\b\b\b\b\b\b\b\b                                 \b\b\b\b\b\b\b\b\b\b\b\b\b\b\b\b\b\b\b\b\b\b\b\b\b\b\b\b\b\b\b\b\b  6% 5911 - beet_salad/614218.jpg\b\b\b\b\b\b\b\b\b\b\b\b\b\b\b\b\b\b\b\b\b\b\b\b\b\b\b\b\b\b\b\b\b                                 \b\b\b\b\b\b\b\b\b\b\b\b\b\b\b\b\b\b\b\b\b\b\b\b\b\b\b\b\b\b\b\b\b  6% 6491 - beignets/2720453.jpg\b\b\b\b\b\b\b\b\b\b\b\b\b\b\b\b\b\b\b\b\b\b\b\b\b\b\b\b\b\b\b\b                                \b\b\b\b\b\b\b\b\b\b\b\b\b\b\b\b\b\b\b\b\b\b\b\b\b\b\b\b\b\b\b\b  7% 6881 - beignets/609614.jpg\b\b\b\b\b\b\b\b\b\b\b\b\b\b\b\b\b\b\b\b\b\b\b\b\b\b\b\b\b\b\b                               \b\b\b\b\b\b\b\b\b\b\b\b\b\b\b\b\b\b\b\b\b\b\b\b\b\b\b\b\b\b\b  7% 7415 - bibimbap/2466377.jpg\b\b\b\b\b\b\b\b\b\b\b\b\b\b\b\b\b\b\b\b\b\b\b\b\b\b\b\b\b\b\b\b                                \b\b\b\b\b\b\b\b\b\b\b\b\b\b\b\b\b\b\b\b\b\b\b\b\b\b\b\b\b\b\b\b  8% 7864 - bibimbap/4741.jpg\b\b\b\b\b\b\b\b\b\b\b\b\b\b\b\b\b\b\b\b\b\b\b\b\b\b\b\b\b                             \b\b\b\b\b\b\b\b\b\b\b\b\b\b\b\b\b\b\b\b\b\b\b\b\b\b\b\b\b  8% 8536 - bread_pudding/2883885.jpg\b\b\b\b\b\b\b\b\b\b\b\b\b\b\b\b\b\b\b\b\b\b\b\b\b\b\b\b\b\b\b\b\b\b\b\b\b                                     \b\b\b\b\b\b\b\b\b\b\b\b\b\b\b\b\b\b\b\b\b\b\b\b\b\b\b\b\b\b\b\b\b\b\b\b\b  9% 8897 - bread_pudding/574264.jpg\b\b\b\b\b\b\b\b\b\b\b\b\b\b\b\b\b\b\b\b\b\b\b\b\b\b\b\b\b\b\b\b\b\b\b\b                                    \b\b\b\b\b\b\b\b\b\b\b\b\b\b\b\b\b\b\b\b\b\b\b\b\b\b\b\b\b\b\b\b\b\b\b\b  9% 9437 - breakfast_burrito/2540328.jpg\b\b\b\b\b\b\b\b\b\b\b\b\b\b\b\b\b\b\b\b\b\b\b\b\b\b\b\b\b\b\b\b\b\b\b\b\b\b\b\b\b                                         \b\b\b\b\b\b\b\b\b\b\b\b\b\b\b\b\b\b\b\b\b\b\b\b\b\b\b\b\b\b\b\b\b\b\b\b\b\b\b\b\b  9% 9881 - breakfast_burrito/640082.jpg\b\b\b\b\b\b\b\b\b\b\b\b\b\b\b\b\b\b\b\b\b\b\b\b\b\b\b\b\b\b\b\b\b\b\b\b\b\b\b\b                                        \b\b\b\b\b\b\b\b\b\b\b\b\b\b\b\b\b\b\b\b\b\b\b\b\b\b\b\b\b\b\b\b\b\b\b\b\b\b\b\b 10% 10465 - bruschetta/2654498.jpg\b\b\b\b\b\b\b\b\b\b\b\b\b\b\b\b\b\b\b\b\b\b\b\b\b\b\b\b\b\b\b\b\b\b\b                                   \b\b\b\b\b\b\b\b\b\b\b\b\b\b\b\b\b\b\b\b\b\b\b\b\b\b\b\b\b\b\b\b\b\b\b 11% 10952 - bruschetta/829232.jpg\b\b\b\b\b\b\b\b\b\b\b\b\b\b\b\b\b\b\b\b\b\b\b\b\b\b\b\b\b\b\b\b\b\b                                  \b\b\b\b\b\b\b\b\b\b\b\b\b\b\b\b\b\b\b\b\b\b\b\b\b\b\b\b\b\b\b\b\b\b 11% 11403\b\b\b\b\b\b\b\b\b\b          \b\b\b\b\b\b\b\b\b\b 12% 11852\b\b\b\b\b\b\b\b\b\b          \b\b\b\b\b\b\b\b\b\b 12% 12378 - cannoli/2228757.jpg\b\b\b\b\b\b\b\b\b\b\b\b\b\b\b\b\b\b\b\b\b\b\b\b\b\b\b\b\b\b\b\b                                \b\b\b\b\b\b\b\b\b\b\b\b\b\b\b\b\b\b\b\b\b\b\b\b\b\b\b\b\b\b\b\b 13% 12855\b\b\b\b\b\b\b\b\b\b          \b\b\b\b\b\b\b\b\b\b 13% 13392 - caprese_salad/2353043.jpg\b\b\b\b\b\b\b\b\b\b\b\b\b\b\b\b\b\b\b\b\b\b\b\b\b\b\b\b\b\b\b\b\b\b\b\b\b\b                                      \b\b\b\b\b\b\b\b\b\b\b\b\b\b\b\b\b\b\b\b\b\b\b\b\b\b\b\b\b\b\b\b\b\b\b\b\b\b 14% 13839 - caprese_salad/529752.jpg\b\b\b\b\b\b\b\b\b\b\b\b\b\b\b\b\b\b\b\b\b\b\b\b\b\b\b\b\b\b\b\b\b\b\b\b\b                                     \b\b\b\b\b\b\b\b\b\b\b\b\b\b\b\b\b\b\b\b\b\b\b\b\b\b\b\b\b\b\b\b\b\b\b\b\b 14% 14387\b\b\b\b\b\b\b\b\b\b          \b\b\b\b\b\b\b\b\b\b 15% 14858 - carrot_cake/489139.jpg\b\b\b\b\b\b\b\b\b\b\b\b\b\b\b\b\b\b\b\b\b\b\b\b\b\b\b\b\b\b\b\b\b\b\b                                   \b\b\b\b\b\b\b\b\b\b\b\b\b\b\b\b\b\b\b\b\b\b\b\b\b\b\b\b\b\b\b\b\b\b\b 15% 15465 - ceviche/2593075.jpg\b\b\b\b\b\b\b\b\b\b\b\b\b\b\b\b\b\b\b\b\b\b\b\b\b\b\b\b\b\b\b\b                                \b\b\b\b\b\b\b\b\b\b\b\b\b\b\b\b\b\b\b\b\b\b\b\b\b\b\b\b\b\b\b\b 15% 15814 - ceviche/3905182.jpg\b\b\b\b\b\b\b\b\b\b\b\b\b\b\b\b\b\b\b\b\b\b\b\b\b\b\b\b\b\b\b\b                                \b\b\b\b\b\b\b\b\b\b\b\b\b\b\b\b\b\b\b\b\b\b\b\b\b\b\b\b\b\b\b\b 16% 16339 - cheesecake/2221386.jpg\b\b\b\b\b\b\b\b\b\b\b\b\b\b\b\b\b\b\b\b\b\b\b\b\b\b\b\b\b\b\b\b\b\b\b                                   \b\b\b\b\b\b\b\b\b\b\b\b\b\b\b\b\b\b\b\b\b\b\b\b\b\b\b\b\b\b\b\b\b\b\b 16% 16827 - cheesecake/3845030.jpg\b\b\b\b\b\b\b\b\b\b\b\b\b\b\b\b\b\b\b\b\b\b\b\b\b\b\b\b\b\b\b\b\b\b\b                                   \b\b\b\b\b\b\b\b\b\b\b\b\b\b\b\b\b\b\b\b\b\b\b\b\b\b\b\b\b\b\b\b\b\b\b 17% 17437 - cheese_plate/2427527.jpg\b\b\b\b\b\b\b\b\b\b\b\b\b\b\b\b\b\b\b\b\b\b\b\b\b\b\b\b\b\b\b\b\b\b\b\b\b                                     \b\b\b\b\b\b\b\b\b\b\b\b\b\b\b\b\b\b\b\b\b\b\b\b\b\b\b\b\b\b\b\b\b\b\b\b\b 17% 17858 - cheese_plate/523219.jpg\b\b\b\b\b\b\b\b\b\b\b\b\b\b\b\b\b\b\b\b\b\b\b\b\b\b\b\b\b\b\b\b\b\b\b\b                                    \b\b\b\b\b\b\b\b\b\b\b\b\b\b\b\b\b\b\b\b\b\b\b\b\b\b\b\b\b\b\b\b\b\b\b\b 18% 18412 - chicken_curry/237125.jpg\b\b\b\b\b\b\b\b\b\b\b\b\b\b\b\b\b\b\b\b\b\b\b\b\b\b\b\b\b\b\b\b\b\b\b\b\b                                     \b\b\b\b\b\b\b\b\b\b\b\b\b\b\b\b\b\b\b\b\b\b\b\b\b\b\b\b\b\b\b\b\b\b\b\b\b 18% 18856 - chicken_curry/476425.jpg\b\b\b\b\b\b\b\b\b\b\b\b\b\b\b\b\b\b\b\b\b\b\b\b\b\b\b\b\b\b\b\b\b\b\b\b\b                                     \b\b\b\b\b\b\b\b\b\b\b\b\b\b\b\b\b\b\b\b\b\b\b\b\b\b\b\b\b\b\b\b\b\b\b\b\b 19% 19457 - chicken_quesadilla/2574698.jpg\b\b\b\b\b\b\b\b\b\b\b\b\b\b\b\b\b\b\b\b\b\b\b\b\b\b\b\b\b\b\b\b\b\b\b\b\b\b\b\b\b\b\b                                           \b\b\b\b\b\b\b\b\b\b\b\b\b\b\b\b\b\b\b\b\b\b\b\b\b\b\b\b\b\b\b\b\b\b\b\b\b\b\b\b\b\b\b 19% 19876 - chicken_quesadilla/529858.jpg\b\b\b\b\b\b\b\b\b\b\b\b\b\b\b\b\b\b\b\b\b\b\b\b\b\b\b\b\b\b\b\b\b\b\b\b\b\b\b\b\b\b                                          \b\b\b\b\b\b\b\b\b\b\b\b\b\b\b\b\b\b\b\b\b\b\b\b\b\b\b\b\b\b\b\b\b\b\b\b\b\b\b\b\b\b 20% 20418 - chicken_wings/2418718.jpg\b\b\b\b\b\b\b\b\b\b\b\b\b\b\b\b\b\b\b\b\b\b\b\b\b\b\b\b\b\b\b\b\b\b\b\b\b\b                                      \b\b\b\b\b\b\b\b\b\b\b\b\b\b\b\b\b\b\b\b\b\b\b\b\b\b\b\b\b\b\b\b\b\b\b\b\b\b 20% 20830 - chicken_wings/414061.jpg\b\b\b\b\b\b\b\b\b\b\b\b\b\b\b\b\b\b\b\b\b\b\b\b\b\b\b\b\b\b\b\b\b\b\b\b\b                                     \b\b\b\b\b\b\b\b\b\b\b\b\b\b\b\b\b\b\b\b\b\b\b\b\b\b\b\b\b\b\b\b\b\b\b\b\b 21% 21363 - chocolate_cake/2302760.jpg\b\b\b\b\b\b\b\b\b\b\b\b\b\b\b\b\b\b\b\b\b\b\b\b\b\b\b\b\b\b\b\b\b\b\b\b\b\b\b                                       \b\b\b\b\b\b\b\b\b\b\b\b\b\b\b\b\b\b\b\b\b\b\b\b\b\b\b\b\b\b\b\b\b\b\b\b\b\b\b 21% 21816 - chocolate_cake/3793884.jpg\b\b\b\b\b\b\b\b\b\b\b\b\b\b\b\b\b\b\b\b\b\b\b\b\b\b\b\b\b\b\b\b\b\b\b\b\b\b\b                                       \b\b\b\b\b\b\b\b\b\b\b\b\b\b\b\b\b\b\b\b\b\b\b\b\b\b\b\b\b\b\b\b\b\b\b\b\b\b\b 22% 22374 - chocolate_mousse/2269642.jpg\b\b\b\b\b\b\b\b\b\b\b\b\b\b\b\b\b\b\b\b\b\b\b\b\b\b\b\b\b\b\b\b\b\b\b\b\b\b\b\b\b                                         \b\b\b\b\b\b\b\b\b\b\b\b\b\b\b\b\b\b\b\b\b\b\b\b\b\b\b\b\b\b\b\b\b\b\b\b\b\b\b\b\b 22% 22847 - chocolate_mousse/445483.jpg\b\b\b\b\b\b\b\b\b\b\b\b\b\b\b\b\b\b\b\b\b\b\b\b\b\b\b\b\b\b\b\b\b\b\b\b\b\b\b\b                                        \b\b\b\b\b\b\b\b\b\b\b\b\b\b\b\b\b\b\b\b\b\b\b\b\b\b\b\b\b\b\b\b\b\b\b\b\b\b\b\b 23% 23472 - churros/2547960.jpg\b\b\b\b\b\b\b\b\b\b\b\b\b\b\b\b\b\b\b\b\b\b\b\b\b\b\b\b\b\b\b\b                                \b\b\b\b\b\b\b\b\b\b\b\b\b\b\b\b\b\b\b\b\b\b\b\b\b\b\b\b\b\b\b\b 23% 23744 - churros/348715.jpg\b\b\b\b\b\b\b\b\b\b\b\b\b\b\b\b\b\b\b\b\b\b\b\b\b\b\b\b\b\b\b                               \b\b\b\b\b\b\b\b\b\b\b\b\b\b\b\b\b\b\b\b\b\b\b\b\b\b\b\b\b\b\b 23% 24228 - clam_chowder/1753097.jpg\b\b\b\b\b\b\b\b\b\b\b\b\b\b\b\b\b\b\b\b\b\b\b\b\b\b\b\b\b\b\b\b\b\b\b\b\b                                     \b\b\b\b\b\b\b\b\b\b\b\b\b\b\b\b\b\b\b\b\b\b\b\b\b\b\b\b\b\b\b\b\b\b\b\b\b 24% 24765 - clam_chowder/3656593.jpg\b\b\b\b\b\b\b\b\b\b\b\b\b\b\b\b\b\b\b\b\b\b\b\b\b\b\b\b\b\b\b\b\b\b\b\b\b                                     \b\b\b\b\b\b\b\b\b\b\b\b\b\b\b\b\b\b\b\b\b\b\b\b\b\b\b\b\b\b\b\b\b\b\b\b\b 24% 25322 - club_sandwich/1949834.jpg\b\b\b\b\b\b\b\b\b\b\b\b\b\b\b\b\b\b\b\b\b\b\b\b\b\b\b\b\b\b\b\b\b\b\b\b\b\b                                      \b\b\b\b\b\b\b\b\b\b\b\b\b\b\b\b\b\b\b\b\b\b\b\b\b\b\b\b\b\b\b\b\b\b\b\b\b\b 25% 25845 - club_sandwich/3866537.jpg\b\b\b\b\b\b\b\b\b\b\b\b\b\b\b\b\b\b\b\b\b\b\b\b\b\b\b\b\b\b\b\b\b\b\b\b\b\b                                      \b\b\b\b\b\b\b\b\b\b\b\b\b\b\b\b\b\b\b\b\b\b\b\b\b\b\b\b\b\b\b\b\b\b\b\b\b\b 25% 26160 - crab_cakes/1449457.jpg\b\b\b\b\b\b\b\b\b\b\b\b\b\b\b\b\b\b\b\b\b\b\b\b\b\b\b\b\b\b\b\b\b\b\b                                   \b\b\b\b\b\b\b\b\b\b\b\b\b\b\b\b\b\b\b\b\b\b\b\b\b\b\b\b\b\b\b\b\b\b\b 26% 26689 - crab_cakes/3319652.jpg\b\b\b\b\b\b\b\b\b\b\b\b\b\b\b\b\b\b\b\b\b\b\b\b\b\b\b\b\b\b\b\b\b\b\b                                   \b\b\b\b\b\b\b\b\b\b\b\b\b\b\b\b\b\b\b\b\b\b\b\b\b\b\b\b\b\b\b\b\b\b\b 26% 27125 - creme_brulee/1247131.jpg\b\b\b\b\b\b\b\b\b\b\b\b\b\b\b\b\b\b\b\b\b\b\b\b\b\b\b\b\b\b\b\b\b\b\b\b\b                                     \b\b\b\b\b\b\b\b\b\b\b\b\b\b\b\b\b\b\b\b\b\b\b\b\b\b\b\b\b\b\b\b\b\b\b\b\b 27% 27730 - creme_brulee/34249.jpg\b\b\b\b\b\b\b\b\b\b\b\b\b\b\b\b\b\b\b\b\b\b\b\b\b\b\b\b\b\b\b\b\b\b\b                                   \b\b\b\b\b\b\b\b\b\b\b\b\b\b\b\b\b\b\b\b\b\b\b\b\b\b\b\b\b\b\b\b\b\b\b 27% 28056 - croque_madame/1118786.jpg\b\b\b\b\b\b\b\b\b\b\b\b\b\b\b\b\b\b\b\b\b\b\b\b\b\b\b\b\b\b\b\b\b\b\b\b\b\b                                      \b\b\b\b\b\b\b\b\b\b\b\b\b\b\b\b\b\b\b\b\b\b\b\b\b\b\b\b\b\b\b\b\b\b\b\b\b\b 28% 28602 - croque_madame/3042107.jpg\b\b\b\b\b\b\b\b\b\b\b\b\b\b\b\b\b\b\b\b\b\b\b\b\b\b\b\b\b\b\b\b\b\b\b\b\b\b                                      \b\b\b\b\b\b\b\b\b\b\b\b\b\b\b\b\b\b\b\b\b\b\b\b\b\b\b\b\b\b\b\b\b\b\b\b\b\b 28% 29000 - croque_madame/899807.jpg\b\b\b\b\b\b\b\b\b\b\b\b\b\b\b\b\b\b\b\b\b\b\b\b\b\b\b\b\b\b\b\b\b\b\b\b\b                                     \b\b\b\b\b\b\b\b\b\b\b\b\b\b\b\b\b\b\b\b\b\b\b\b\b\b\b\b\b\b\b\b\b\b\b\b\b 29% 29638 - cup_cakes/3191355.jpg\b\b\b\b\b\b\b\b\b\b\b\b\b\b\b\b\b\b\b\b\b\b\b\b\b\b\b\b\b\b\b\b\b\b                                  \b\b\b\b\b\b\b\b\b\b\b\b\b\b\b\b\b\b\b\b\b\b\b\b\b\b\b\b\b\b\b\b\b\b 29% 29938 - cup_cakes/753616.jpg\b\b\b\b\b\b\b\b\b\b\b\b\b\b\b\b\b\b\b\b\b\b\b\b\b\b\b\b\b\b\b\b\b                                 \b\b\b\b\b\b\b\b\b\b\b\b\b\b\b\b\b\b\b\b\b\b\b\b\b\b\b\b\b\b\b\b\b 29% 30431 - deviled_eggs/2344873.jpg\b\b\b\b\b\b\b\b\b\b\b\b\b\b\b\b\b\b\b\b\b\b\b\b\b\b\b\b\b\b\b\b\b\b\b\b\b                                     \b\b\b\b\b\b\b\b\b\b\b\b\b\b\b\b\b\b\b\b\b\b\b\b\b\b\b\b\b\b\b\b\b\b\b\b\b 29% 30455 - deviled_eggs/2448321.jpg\b\b\b\b\b\b\b\b\b\b\b\b\b\b\b\b\b\b\b\b\b\b\b\b\b\b\b\b\b\b\b\b\b\b\b\b\b                                     \b\b\b\b\b\b\b\b\b\b\b\b\b\b\b\b\b\b\b\b\b\b\b\b\b\b\b\b\b\b\b\b\b\b\b\b\b 30% 30763 - deviled_eggs/3693955.jpg\b\b\b\b\b\b\b\b\b\b\b\b\b\b\b\b\b\b\b\b\b\b\b\b\b\b\b\b\b\b\b\b\b\b\b\b\b                                     \b\b\b\b\b\b\b\b\b\b\b\b\b\b\b\b\b\b\b\b\b\b\b\b\b\b\b\b\b\b\b\b\b\b\b\b\b 30% 30984 - deviled_eggs/836977.jpg\b\b\b\b\b\b\b\b\b\b\b\b\b\b\b\b\b\b\b\b\b\b\b\b\b\b\b\b\b\b\b\b\b\b\b\b                                    \b\b\b\b\b\b\b\b\b\b\b\b\b\b\b\b\b\b\b\b\b\b\b\b\b\b\b\b\b\b\b\b\b\b\b\b 30% 30994 - deviled_eggs/881070.jpg\b\b\b\b\b\b\b\b\b\b\b\b\b\b\b\b\b\b\b\b\b\b\b\b\b\b\b\b\b\b\b\b\b\b\b\b                                    \b\b\b\b\b\b\b\b\b\b\b\b\b\b\b\b\b\b\b\b\b\b\b\b\b\b\b\b\b\b\b\b\b\b\b\b 30% 31151 - donuts/1418364.jpg\b\b\b\b\b\b\b\b\b\b\b\b\b\b\b\b\b\b\b\b\b\b\b\b\b\b\b\b\b\b\b                               \b\b\b\b\b\b\b\b\b\b\b\b\b\b\b\b\b\b\b\b\b\b\b\b\b\b\b\b\b\b\b 30% 31306 - donuts/196578.jpg\b\b\b\b\b\b\b\b\b\b\b\b\b\b\b\b\b\b\b\b\b\b\b\b\b\b\b\b\b\b                              \b\b\b\b\b\b\b\b\b\b\b\b\b\b\b\b\b\b\b\b\b\b\b\b\b\b\b\b\b\b 30% 31444 - donuts/242282.jpg\b\b\b\b\b\b\b\b\b\b\b\b\b\b\b\b\b\b\b\b\b\b\b\b\b\b\b\b\b\b                              \b\b\b\b\b\b\b\b\b\b\b\b\b\b\b\b\b\b\b\b\b\b\b\b\b\b\b\b\b\b 30% 31600 - donuts/2912309.jpg\b\b\b\b\b\b\b\b\b\b\b\b\b\b\b\b\b\b\b\b\b\b\b\b\b\b\b\b\b\b\b                               \b\b\b\b\b\b\b\b\b\b\b\b\b\b\b\b\b\b\b\b\b\b\b\b\b\b\b\b\b\b\b 31% 31735 - donuts/3502569.jpg\b\b\b\b\b\b\b\b\b\b\b\b\b\b\b\b\b\b\b\b\b\b\b\b\b\b\b\b\b\b\b                               \b\b\b\b\b\b\b\b\b\b\b\b\b\b\b\b\b\b\b\b\b\b\b\b\b\b\b\b\b\b\b 31% 31856 - donuts/521700.jpg\b\b\b\b\b\b\b\b\b\b\b\b\b\b\b\b\b\b\b\b\b\b\b\b\b\b\b\b\b\b                              \b\b\b\b\b\b\b\b\b\b\b\b\b\b\b\b\b\b\b\b\b\b\b\b\b\b\b\b\b\b 31% 31941 - donuts/748321.jpg\b\b\b\b\b\b\b\b\b\b\b\b\b\b\b\b\b\b\b\b\b\b\b\b\b\b\b\b\b\b                              \b\b\b\b\b\b\b\b\b\b\b\b\b\b\b\b\b\b\b\b\b\b\b\b\b\b\b\b\b\b 31% 31949 - donuts/767848.jpg\b\b\b\b\b\b\b\b\b\b\b\b\b\b\b\b\b\b\b\b\b\b\b\b\b\b\b\b\b\b                              \b\b\b\b\b\b\b\b\b\b\b\b\b\b\b\b\b\b\b\b\b\b\b\b\b\b\b\b\b\b 31% 31984 - donuts/839126.jpg\b\b\b\b\b\b\b\b\b\b\b\b\b\b\b\b\b\b\b\b\b\b\b\b\b\b\b\b\b\b                              \b\b\b\b\b\b\b\b\b\b\b\b\b\b\b\b\b\b\b\b\b\b\b\b\b\b\b\b\b\b 31% 32101 - dumplings/11823.jpg\b\b\b\b\b\b\b\b\b\b\b\b\b\b\b\b\b\b\b\b\b\b\b\b\b\b\b\b\b\b\b\b                                \b\b\b\b\b\b\b\b\b\b\b\b\b\b\b\b\b\b\b\b\b\b\b\b\b\b\b\b\b\b\b\b 31% 32255 - dumplings/169172.jpg\b\b\b\b\b\b\b\b\b\b\b\b\b\b\b\b\b\b\b\b\b\b\b\b\b\b\b\b\b\b\b\b\b                                 \b\b\b\b\b\b\b\b\b\b\b\b\b\b\b\b\b\b\b\b\b\b\b\b\b\b\b\b\b\b\b\b\b 31% 32581 - dumplings/2890183.jpg\b\b\b\b\b\b\b\b\b\b\b\b\b\b\b\b\b\b\b\b\b\b\b\b\b\b\b\b\b\b\b\b\b\b                                  \b\b\b\b\b\b\b\b\b\b\b\b\b\b\b\b\b\b\b\b\b\b\b\b\b\b\b\b\b\b\b\b\b\b 32% 32999 - dumplings/911149.jpg\b\b\b\b\b\b\b\b\b\b\b\b\b\b\b\b\b\b\b\b\b\b\b\b\b\b\b\b\b\b\b\b\b                                 \b\b\b\b\b\b\b\b\b\b\b\b\b\b\b\b\b\b\b\b\b\b\b\b\b\b\b\b\b\b\b\b\b 32% 33538 - edamame/288773.jpg\b\b\b\b\b\b\b\b\b\b\b\b\b\b\b\b\b\b\b\b\b\b\b\b\b\b\b\b\b\b\b                               \b\b\b\b\b\b\b\b\b\b\b\b\b\b\b\b\b\b\b\b\b\b\b\b\b\b\b\b\b\b\b 33% 33965 - edamame/756500.jpg\b\b\b\b\b\b\b\b\b\b\b\b\b\b\b\b\b\b\b\b\b\b\b\b\b\b\b\b\b\b\b                               \b\b\b\b\b\b\b\b\b\b\b\b\b\b\b\b\b\b\b\b\b\b\b\b\b\b\b\b\b\b\b 33% 34539 - eggs_benedict/2835535.jpg\b\b\b\b\b\b\b\b\b\b\b\b\b\b\b\b\b\b\b\b\b\b\b\b\b\b\b\b\b\b\b\b\b\b\b\b\b\b                                      \b\b\b\b\b\b\b\b\b\b\b\b\b\b\b\b\b\b\b\b\b\b\b\b\b\b\b\b\b\b\b\b\b\b\b\b\b\b 34% 34944 - eggs_benedict/729698.jpg\b\b\b\b\b\b\b\b\b\b\b\b\b\b\b\b\b\b\b\b\b\b\b\b\b\b\b\b\b\b\b\b\b\b\b\b\b                                     \b\b\b\b\b\b\b\b\b\b\b\b\b\b\b\b\b\b\b\b\b\b\b\b\b\b\b\b\b\b\b\b\b\b\b\b\b 34% 35167 - escargots/1453435.jpg\b\b\b\b\b\b\b\b\b\b\b\b\b\b\b\b\b\b\b\b\b\b\b\b\b\b\b\b\b\b\b\b\b\b                                  \b\b\b\b\b\b\b\b\b\b\b\b\b\b\b\b\b\b\b\b\b\b\b\b\b\b\b\b\b\b\b\b\b\b 34% 35336 - escargots/2022296.jpg\b\b\b\b\b\b\b\b\b\b\b\b\b\b\b\b\b\b\b\b\b\b\b\b\b\b\b\b\b\b\b\b\b\b                                  \b\b\b\b\b\b\b\b\b\b\b\b\b\b\b\b\b\b\b\b\b\b\b\b\b\b\b\b\b\b\b\b\b\b 34% 35676 - escargots/3254313.jpg\b\b\b\b\b\b\b\b\b\b\b\b\b\b\b\b\b\b\b\b\b\b\b\b\b\b\b\b\b\b\b\b\b\b                                  \b\b\b\b\b\b\b\b\b\b\b\b\b\b\b\b\b\b\b\b\b\b\b\b\b\b\b\b\b\b\b\b\b\b 34% 35766 - escargots/3583046.jpg\b\b\b\b\b\b\b\b\b\b\b\b\b\b\b\b\b\b\b\b\b\b\b\b\b\b\b\b\b\b\b\b\b\b                                  \b\b\b\b\b\b\b\b\b\b\b\b\b\b\b\b\b\b\b\b\b\b\b\b\b\b\b\b\b\b\b\b\b\b 35% 35872 - escargots/447531.jpg\b\b\b\b\b\b\b\b\b\b\b\b\b\b\b\b\b\b\b\b\b\b\b\b\b\b\b\b\b\b\b\b\b                                 \b\b\b\b\b\b\b\b\b\b\b\b\b\b\b\b\b\b\b\b\b\b\b\b\b\b\b\b\b\b\b\b\b 35% 35950 - escargots/709180.jpg\b\b\b\b\b\b\b\b\b\b\b\b\b\b\b\b\b\b\b\b\b\b\b\b\b\b\b\b\b\b\b\b\b                                 \b\b\b\b\b\b\b\b\b\b\b\b\b\b\b\b\b\b\b\b\b\b\b\b\b\b\b\b\b\b\b\b\b 35% 36016 - escargots/942183.jpg\b\b\b\b\b\b\b\b\b\b\b\b\b\b\b\b\b\b\b\b\b\b\b\b\b\b\b\b\b\b\b\b\b                                 \b\b\b\b\b\b\b\b\b\b\b\b\b\b\b\b\b\b\b\b\b\b\b\b\b\b\b\b\b\b\b\b\b 35% 36017\b\b\b\b\b\b\b\b\b\b          \b\b\b\b\b\b\b\b\b\b 35% 36159 - falafel/1463895.jpg\b\b\b\b\b\b\b\b\b\b\b\b\b\b\b\b\b\b\b\b\b\b\b\b\b\b\b\b\b\b\b\b                                \b\b\b\b\b\b\b\b\b\b\b\b\b\b\b\b\b\b\b\b\b\b\b\b\b\b\b\b\b\b\b\b 35% 36313 - falafel/1971205.jpg\b\b\b\b\b\b\b\b\b\b\b\b\b\b\b\b\b\b\b\b\b\b\b\b\b\b\b\b\b\b\b\b                                \b\b\b\b\b\b\b\b\b\b\b\b\b\b\b\b\b\b\b\b\b\b\b\b\b\b\b\b\b\b\b\b 35% 36318 - falafel/1988894.jpg\b\b\b\b\b\b\b\b\b\b\b\b\b\b\b\b\b\b\b\b\b\b\b\b\b\b\b\b\b\b\b\b                                \b\b\b\b\b\b\b\b\b\b\b\b\b\b\b\b\b\b\b\b\b\b\b\b\b\b\b\b\b\b\b\b 35% 36399 - falafel/2280700.jpg\b\b\b\b\b\b\b\b\b\b\b\b\b\b\b\b\b\b\b\b\b\b\b\b\b\b\b\b\b\b\b\b                                \b\b\b\b\b\b\b\b\b\b\b\b\b\b\b\b\b\b\b\b\b\b\b\b\b\b\b\b\b\b\b\b 35% 36484 - falafel/2609020.jpg\b\b\b\b\b\b\b\b\b\b\b\b\b\b\b\b\b\b\b\b\b\b\b\b\b\b\b\b\b\b\b\b                                \b\b\b\b\b\b\b\b\b\b\b\b\b\b\b\b\b\b\b\b\b\b\b\b\b\b\b\b\b\b\b\b 35% 36578 - falafel/299819.jpg\b\b\b\b\b\b\b\b\b\b\b\b\b\b\b\b\b\b\b\b\b\b\b\b\b\b\b\b\b\b\b                               \b\b\b\b\b\b\b\b\b\b\b\b\b\b\b\b\b\b\b\b\b\b\b\b\b\b\b\b\b\b\b 35% 36581 - falafel/3001734.jpg\b\b\b\b\b\b\b\b\b\b\b\b\b\b\b\b\b\b\b\b\b\b\b\b\b\b\b\b\b\b\b\b                                \b\b\b\b\b\b\b\b\b\b\b\b\b\b\b\b\b\b\b\b\b\b\b\b\b\b\b\b\b\b\b\b 35% 36586 - falafel/3017322.jpg\b\b\b\b\b\b\b\b\b\b\b\b\b\b\b\b\b\b\b\b\b\b\b\b\b\b\b\b\b\b\b\b                                \b\b\b\b\b\b\b\b\b\b\b\b\b\b\b\b\b\b\b\b\b\b\b\b\b\b\b\b\b\b\b\b 35% 36593 - falafel/3045055.jpg\b\b\b\b\b\b\b\b\b\b\b\b\b\b\b\b\b\b\b\b\b\b\b\b\b\b\b\b\b\b\b\b                                \b\b\b\b\b\b\b\b\b\b\b\b\b\b\b\b\b\b\b\b\b\b\b\b\b\b\b\b\b\b\b\b 35% 36718 - falafel/34649.jpg\b\b\b\b\b\b\b\b\b\b\b\b\b\b\b\b\b\b\b\b\b\b\b\b\b\b\b\b\b\b                              \b\b\b\b\b\b\b\b\b\b\b\b\b\b\b\b\b\b\b\b\b\b\b\b\b\b\b\b\b\b 36% 36841 - falafel/3901012.jpg\b\b\b\b\b\b\b\b\b\b\b\b\b\b\b\b\b\b\b\b\b\b\b\b\b\b\b\b\b\b\b\b                                \b\b\b\b\b\b\b\b\b\b\b\b\b\b\b\b\b\b\b\b\b\b\b\b\b\b\b\b\b\b\b\b 36% 36963 - falafel/774393.jpg\b\b\b\b\b\b\b\b\b\b\b\b\b\b\b\b\b\b\b\b\b\b\b\b\b\b\b\b\b\b\b                               \b\b\b\b\b\b\b\b\b\b\b\b\b\b\b\b\b\b\b\b\b\b\b\b\b\b\b\b\b\b\b 36% 37095 - filet_mignon/1193043.jpg\b\b\b\b\b\b\b\b\b\b\b\b\b\b\b\b\b\b\b\b\b\b\b\b\b\b\b\b\b\b\b\b\b\b\b\b\b                                     \b\b\b\b\b\b\b\b\b\b\b\b\b\b\b\b\b\b\b\b\b\b\b\b\b\b\b\b\b\b\b\b\b\b\b\b\b 36% 37187 - filet_mignon/1500926.jpg\b\b\b\b\b\b\b\b\b\b\b\b\b\b\b\b\b\b\b\b\b\b\b\b\b\b\b\b\b\b\b\b\b\b\b\b\b                                     \b\b\b\b\b\b\b\b\b\b\b\b\b\b\b\b\b\b\b\b\b\b\b\b\b\b\b\b\b\b\b\b\b\b\b\b\b 36% 37253 - filet_mignon/1745161.jpg\b\b\b\b\b\b\b\b\b\b\b\b\b\b\b\b\b\b\b\b\b\b\b\b\b\b\b\b\b\b\b\b\b\b\b\b\b                                     \b\b\b\b\b\b\b\b\b\b\b\b\b\b\b\b\b\b\b\b\b\b\b\b\b\b\b\b\b\b\b\b\b\b\b\b\b 36% 37319 - filet_mignon/2050418.jpg\b\b\b\b\b\b\b\b\b\b\b\b\b\b\b\b\b\b\b\b\b\b\b\b\b\b\b\b\b\b\b\b\b\b\b\b\b                                     \b\b\b\b\b\b\b\b\b\b\b\b\b\b\b\b\b\b\b\b\b\b\b\b\b\b\b\b\b\b\b\b\b\b\b\b\b 36% 37381 - filet_mignon/2285291.jpg\b\b\b\b\b\b\b\b\b\b\b\b\b\b\b\b\b\b\b\b\b\b\b\b\b\b\b\b\b\b\b\b\b\b\b\b\b                                     \b\b\b\b\b\b\b\b\b\b\b\b\b\b\b\b\b\b\b\b\b\b\b\b\b\b\b\b\b\b\b\b\b\b\b\b\b 36% 37456 - filet_mignon/253507.jpg\b\b\b\b\b\b\b\b\b\b\b\b\b\b\b\b\b\b\b\b\b\b\b\b\b\b\b\b\b\b\b\b\b\b\b\b                                    \b\b\b\b\b\b\b\b\b\b\b\b\b\b\b\b\b\b\b\b\b\b\b\b\b\b\b\b\b\b\b\b\b\b\b\b 36% 37596 - filet_mignon/29409.jpg\b\b\b\b\b\b\b\b\b\b\b\b\b\b\b\b\b\b\b\b\b\b\b\b\b\b\b\b\b\b\b\b\b\b\b                                   \b\b\b\b\b\b\b\b\b\b\b\b\b\b\b\b\b\b\b\b\b\b\b\b\b\b\b\b\b\b\b\b\b\b\b 36% 37724 - filet_mignon/3473088.jpg\b\b\b\b\b\b\b\b\b\b\b\b\b\b\b\b\b\b\b\b\b\b\b\b\b\b\b\b\b\b\b\b\b\b\b\b\b                                     \b\b\b\b\b\b\b\b\b\b\b\b\b\b\b\b\b\b\b\b\b\b\b\b\b\b\b\b\b\b\b\b\b\b\b\b\b 37% 37857 - filet_mignon/469337.jpg\b\b\b\b\b\b\b\b\b\b\b\b\b\b\b\b\b\b\b\b\b\b\b\b\b\b\b\b\b\b\b\b\b\b\b\b                                    \b\b\b\b\b\b\b\b\b\b\b\b\b\b\b\b\b\b\b\b\b\b\b\b\b\b\b\b\b\b\b\b\b\b\b\b 37% 37954 - filet_mignon/768583.jpg\b\b\b\b\b\b\b\b\b\b\b\b\b\b\b\b\b\b\b\b\b\b\b\b\b\b\b\b\b\b\b\b\b\b\b\b                                    \b\b\b\b\b\b\b\b\b\b\b\b\b\b\b\b\b\b\b\b\b\b\b\b\b\b\b\b\b\b\b\b\b\b\b\b 37% 38023 - filet_mignon/967956.jpg\b\b\b\b\b\b\b\b\b\b\b\b\b\b\b\b\b\b\b\b\b\b\b\b\b\b\b\b\b\b\b\b\b\b\b\b                                    \b\b\b\b\b\b\b\b\b\b\b\b\b\b\b\b\b\b\b\b\b\b\b\b\b\b\b\b\b\b\b\b\b\b\b\b 37% 38091 - fish_and_chips/119967.jpg\b\b\b\b\b\b\b\b\b\b\b\b\b\b\b\b\b\b\b\b\b\b\b\b\b\b\b\b\b\b\b\b\b\b\b\b\b\b                                      \b\b\b\b\b\b\b\b\b\b\b\b\b\b\b\b\b\b\b\b\b\b\b\b\b\b\b\b\b\b\b\b\b\b\b\b\b\b 37% 38180 - fish_and_chips/1542365.jpg\b\b\b\b\b\b\b\b\b\b\b\b\b\b\b\b\b\b\b\b\b\b\b\b\b\b\b\b\b\b\b\b\b\b\b\b\b\b\b                                       \b\b\b\b\b\b\b\b\b\b\b\b\b\b\b\b\b\b\b\b\b\b\b\b\b\b\b\b\b\b\b\b\b\b\b\b\b\b\b 37% 38255 - fish_and_chips/1828092.jpg\b\b\b\b\b\b\b\b\b\b\b\b\b\b\b\b\b\b\b\b\b\b\b\b\b\b\b\b\b\b\b\b\b\b\b\b\b\b\b                                       \b\b\b\b\b\b\b\b\b\b\b\b\b\b\b\b\b\b\b\b\b\b\b\b\b\b\b\b\b\b\b\b\b\b\b\b\b\b\b 37% 38340 - fish_and_chips/2116208.jpg\b\b\b\b\b\b\b\b\b\b\b\b\b\b\b\b\b\b\b\b\b\b\b\b\b\b\b\b\b\b\b\b\b\b\b\b\b\b\b                                       \b\b\b\b\b\b\b\b\b\b\b\b\b\b\b\b\b\b\b\b\b\b\b\b\b\b\b\b\b\b\b\b\b\b\b\b\b\b\b 37% 38583\b\b\b\b\b\b\b\b\b\b          \b\b\b\b\b\b\b\b\b\b 38% 38994 - fish_and_chips/884966.jpg\b\b\b\b\b\b\b\b\b\b\b\b\b\b\b\b\b\b\b\b\b\b\b\b\b\b\b\b\b\b\b\b\b\b\b\b\b\b                                      \b\b\b\b\b\b\b\b\b\b\b\b\b\b\b\b\b\b\b\b\b\b\b\b\b\b\b\b\b\b\b\b\b\b\b\b\b\b 38% 39638 - foie_gras/3030466.jpg\b\b\b\b\b\b\b\b\b\b\b\b\b\b\b\b\b\b\b\b\b\b\b\b\b\b\b\b\b\b\b\b\b\b                                  \b\b\b\b\b\b\b\b\b\b\b\b\b\b\b\b\b\b\b\b\b\b\b\b\b\b\b\b\b\b\b\b\b\b 39% 40052 - french_fries/1062594.jpg\b\b\b\b\b\b\b\b\b\b\b\b\b\b\b\b\b\b\b\b\b\b\b\b\b\b\b\b\b\b\b\b\b\b\b\b\b                                     \b\b\b\b\b\b\b\b\b\b\b\b\b\b\b\b\b\b\b\b\b\b\b\b\b\b\b\b\b\b\b\b\b\b\b\b\b 39% 40192 - french_fries/1653893.jpg\b\b\b\b\b\b\b\b\b\b\b\b\b\b\b\b\b\b\b\b\b\b\b\b\b\b\b\b\b\b\b\b\b\b\b\b\b                                     \b\b\b\b\b\b\b\b\b\b\b\b\b\b\b\b\b\b\b\b\b\b\b\b\b\b\b\b\b\b\b\b\b\b\b\b\b 39% 40319 - french_fries/2128557.jpg\b\b\b\b\b\b\b\b\b\b\b\b\b\b\b\b\b\b\b\b\b\b\b\b\b\b\b\b\b\b\b\b\b\b\b\b\b                                     \b\b\b\b\b\b\b\b\b\b\b\b\b\b\b\b\b\b\b\b\b\b\b\b\b\b\b\b\b\b\b\b\b\b\b\b\b 39% 40458 - french_fries/2603436.jpg\b\b\b\b\b\b\b\b\b\b\b\b\b\b\b\b\b\b\b\b\b\b\b\b\b\b\b\b\b\b\b\b\b\b\b\b\b                                     \b\b\b\b\b\b\b\b\b\b\b\b\b\b\b\b\b\b\b\b\b\b\b\b\b\b\b\b\b\b\b\b\b\b\b\b\b 39% 40598 - french_fries/3012487.jpg\b\b\b\b\b\b\b\b\b\b\b\b\b\b\b\b\b\b\b\b\b\b\b\b\b\b\b\b\b\b\b\b\b\b\b\b\b                                     \b\b\b\b\b\b\b\b\b\b\b\b\b\b\b\b\b\b\b\b\b\b\b\b\b\b\b\b\b\b\b\b\b\b\b\b\b 39% 40745 - french_fries/3495789.jpg\b\b\b\b\b\b\b\b\b\b\b\b\b\b\b\b\b\b\b\b\b\b\b\b\b\b\b\b\b\b\b\b\b\b\b\b\b                                     \b\b\b\b\b\b\b\b\b\b\b\b\b\b\b\b\b\b\b\b\b\b\b\b\b\b\b\b\b\b\b\b\b\b\b\b\b 39% 40911 - french_fries/535675.jpg\b\b\b\b\b\b\b\b\b\b\b\b\b\b\b\b\b\b\b\b\b\b\b\b\b\b\b\b\b\b\b\b\b\b\b\b                                    \b\b\b\b\b\b\b\b\b\b\b\b\b\b\b\b\b\b\b\b\b\b\b\b\b\b\b\b\b\b\b\b\b\b\b\b 39% 40920 - french_fries/566728.jpg\b\b\b\b\b\b\b\b\b\b\b\b\b\b\b\b\b\b\b\b\b\b\b\b\b\b\b\b\b\b\b\b\b\b\b\b                                    \b\b\b\b\b\b\b\b\b\b\b\b\b\b\b\b\b\b\b\b\b\b\b\b\b\b\b\b\b\b\b\b\b\b\b\b 39% 40922 - french_fries/573932.jpg\b\b\b\b\b\b\b\b\b\b\b\b\b\b\b\b\b\b\b\b\b\b\b\b\b\b\b\b\b\b\b\b\b\b\b\b                                    \b\b\b\b\b\b\b\b\b\b\b\b\b\b\b\b\b\b\b\b\b\b\b\b\b\b\b\b\b\b\b\b\b\b\b\b 39% 40924 - french_fries/575247.jpg\b\b\b\b\b\b\b\b\b\b\b\b\b\b\b\b\b\b\b\b\b\b\b\b\b\b\b\b\b\b\b\b\b\b\b\b                                    \b\b\b\b\b\b\b\b\b\b\b\b\b\b\b\b\b\b\b\b\b\b\b\b\b\b\b\b\b\b\b\b\b\b\b\b 39% 40927 - french_fries/577360.jpg\b\b\b\b\b\b\b\b\b\b\b\b\b\b\b\b\b\b\b\b\b\b\b\b\b\b\b\b\b\b\b\b\b\b\b\b                                    \b\b\b\b\b\b\b\b\b\b\b\b\b\b\b\b\b\b\b\b\b\b\b\b\b\b\b\b\b\b\b\b\b\b\b\b 40% 40929 - french_fries/580652.jpg\b\b\b\b\b\b\b\b\b\b\b\b\b\b\b\b\b\b\b\b\b\b\b\b\b\b\b\b\b\b\b\b\b\b\b\b                                    \b\b\b\b\b\b\b\b\b\b\b\b\b\b\b\b\b\b\b\b\b\b\b\b\b\b\b\b\b\b\b\b\b\b\b\b 40% 41354 - french_onion_soup/2028165.jpg\b\b\b\b\b\b\b\b\b\b\b\b\b\b\b\b\b\b\b\b\b\b\b\b\b\b\b\b\b\b\b\b\b\b\b\b\b\b\b\b\b\b                                          \b\b\b\b\b\b\b\b\b\b\b\b\b\b\b\b\b\b\b\b\b\b\b\b\b\b\b\b\b\b\b\b\b\b\b\b\b\b\b\b\b\b 40% 41648 - french_onion_soup/3039559.jpg\b\b\b\b\b\b\b\b\b\b\b\b\b\b\b\b\b\b\b\b\b\b\b\b\b\b\b\b\b\b\b\b\b\b\b\b\b\b\b\b\b\b                                          \b\b\b\b\b\b\b\b\b\b\b\b\b\b\b\b\b\b\b\b\b\b\b\b\b\b\b\b\b\b\b\b\b\b\b\b\b\b\b\b\b\b 40% 41899 - french_onion_soup/490545.jpg\b\b\b\b\b\b\b\b\b\b\b\b\b\b\b\b\b\b\b\b\b\b\b\b\b\b\b\b\b\b\b\b\b\b\b\b\b\b\b\b\b                                         \b\b\b\b\b\b\b\b\b\b\b\b\b\b\b\b\b\b\b\b\b\b\b\b\b\b\b\b\b\b\b\b\b\b\b\b\b\b\b\b\b 41% 42111 - french_toast/1241709.jpg\b\b\b\b\b\b\b\b\b\b\b\b\b\b\b\b\b\b\b\b\b\b\b\b\b\b\b\b\b\b\b\b\b\b\b\b\b                                     \b\b\b\b\b\b\b\b\b\b\b\b\b\b\b\b\b\b\b\b\b\b\b\b\b\b\b\b\b\b\b\b\b\b\b\b\b 41% 42285 - french_toast/1841356.jpg\b\b\b\b\b\b\b\b\b\b\b\b\b\b\b\b\b\b\b\b\b\b\b\b\b\b\b\b\b\b\b\b\b\b\b\b\b                                     \b\b\b\b\b\b\b\b\b\b\b\b\b\b\b\b\b\b\b\b\b\b\b\b\b\b\b\b\b\b\b\b\b\b\b\b\b 41% 42448 - french_toast/2371425.jpg\b\b\b\b\b\b\b\b\b\b\b\b\b\b\b\b\b\b\b\b\b\b\b\b\b\b\b\b\b\b\b\b\b\b\b\b\b                                     \b\b\b\b\b\b\b\b\b\b\b\b\b\b\b\b\b\b\b\b\b\b\b\b\b\b\b\b\b\b\b\b\b\b\b\b\b 41% 42596 - french_toast/2910297.jpg\b\b\b\b\b\b\b\b\b\b\b\b\b\b\b\b\b\b\b\b\b\b\b\b\b\b\b\b\b\b\b\b\b\b\b\b\b                                     \b\b\b\b\b\b\b\b\b\b\b\b\b\b\b\b\b\b\b\b\b\b\b\b\b\b\b\b\b\b\b\b\b\b\b\b\b 41% 42716 - french_toast/3391265.jpg\b\b\b\b\b\b\b\b\b\b\b\b\b\b\b\b\b\b\b\b\b\b\b\b\b\b\b\b\b\b\b\b\b\b\b\b\b                                     \b\b\b\b\b\b\b\b\b\b\b\b\b\b\b\b\b\b\b\b\b\b\b\b\b\b\b\b\b\b\b\b\b\b\b\b\b 41% 42723 - french_toast/3439984.jpg\b\b\b\b\b\b\b\b\b\b\b\b\b\b\b\b\b\b\b\b\b\b\b\b\b\b\b\b\b\b\b\b\b\b\b\b\b                                     \b\b\b\b\b\b\b\b\b\b\b\b\b\b\b\b\b\b\b\b\b\b\b\b\b\b\b\b\b\b\b\b\b\b\b\b\b 41% 42725 - french_toast/3442803.jpg\b\b\b\b\b\b\b\b\b\b\b\b\b\b\b\b\b\b\b\b\b\b\b\b\b\b\b\b\b\b\b\b\b\b\b\b\b                                     \b\b\b\b\b\b\b\b\b\b\b\b\b\b\b\b\b\b\b\b\b\b\b\b\b\b\b\b\b\b\b\b\b\b\b\b\b 41% 42730 - french_toast/3471619.jpg\b\b\b\b\b\b\b\b\b\b\b\b\b\b\b\b\b\b\b\b\b\b\b\b\b\b\b\b\b\b\b\b\b\b\b\b\b                                     \b\b\b\b\b\b\b\b\b\b\b\b\b\b\b\b\b\b\b\b\b\b\b\b\b\b\b\b\b\b\b\b\b\b\b\b\b 42% 43042 - french_toast/99857.jpg\b\b\b\b\b\b\b\b\b\b\b\b\b\b\b\b\b\b\b\b\b\b\b\b\b\b\b\b\b\b\b\b\b\b\b                                   \b\b\b\b\b\b\b\b\b\b\b\b\b\b\b\b\b\b\b\b\b\b\b\b\b\b\b\b\b\b\b\b\b\b\b 42% 43605 - fried_calamari/2813534.jpg\b\b\b\b\b\b\b\b\b\b\b\b\b\b\b\b\b\b\b\b\b\b\b\b\b\b\b\b\b\b\b\b\b\b\b\b\b\b\b                                       \b\b\b\b\b\b\b\b\b\b\b\b\b\b\b\b\b\b\b\b\b\b\b\b\b\b\b\b\b\b\b\b\b\b\b\b\b\b\b 43% 44006 - fried_calamari/901925.jpg\b\b\b\b\b\b\b\b\b\b\b\b\b\b\b\b\b\b\b\b\b\b\b\b\b\b\b\b\b\b\b\b\b\b\b\b\b\b                                      \b\b\b\b\b\b\b\b\b\b\b\b\b\b\b\b\b\b\b\b\b\b\b\b\b\b\b\b\b\b\b\b\b\b\b\b\b\b 43% 44620 - fried_rice/2947946.jpg\b\b\b\b\b\b\b\b\b\b\b\b\b\b\b\b\b\b\b\b\b\b\b\b\b\b\b\b\b\b\b\b\b\b\b                                   \b\b\b\b\b\b\b\b\b\b\b\b\b\b\b\b\b\b\b\b\b\b\b\b\b\b\b\b\b\b\b\b\b\b\b 43% 44696 - fried_rice/3237595.jpg\b\b\b\b\b\b\b\b\b\b\b\b\b\b\b\b\b\b\b\b\b\b\b\b\b\b\b\b\b\b\b\b\b\b\b                                   \b\b\b\b\b\b\b\b\b\b\b\b\b\b\b\b\b\b\b\b\b\b\b\b\b\b\b\b\b\b\b\b\b\b\b 43% 44726 - fried_rice/3359397.jpg\b\b\b\b\b\b\b\b\b\b\b\b\b\b\b\b\b\b\b\b\b\b\b\b\b\b\b\b\b\b\b\b\b\b\b                                   \b\b\b\b\b\b\b\b\b\b\b\b\b\b\b\b\b\b\b\b\b\b\b\b\b\b\b\b\b\b\b\b\b\b\b 43% 44730 - fried_rice/3374940.jpg\b\b\b\b\b\b\b\b\b\b\b\b\b\b\b\b\b\b\b\b\b\b\b\b\b\b\b\b\b\b\b\b\b\b\b                                   \b\b\b\b\b\b\b\b\b\b\b\b\b\b\b\b\b\b\b\b\b\b\b\b\b\b\b\b\b\b\b\b\b\b\b 43% 44735 - fried_rice/3400029.jpg\b\b\b\b\b\b\b\b\b\b\b\b\b\b\b\b\b\b\b\b\b\b\b\b\b\b\b\b\b\b\b\b\b\b\b                                   \b\b\b\b\b\b\b\b\b\b\b\b\b\b\b\b\b\b\b\b\b\b\b\b\b\b\b\b\b\b\b\b\b\b\b 43% 44740 - fried_rice/341581.jpg\b\b\b\b\b\b\b\b\b\b\b\b\b\b\b\b\b\b\b\b\b\b\b\b\b\b\b\b\b\b\b\b\b\b                                  \b\b\b\b\b\b\b\b\b\b\b\b\b\b\b\b\b\b\b\b\b\b\b\b\b\b\b\b\b\b\b\b\b\b 43% 44744 - fried_rice/3434228.jpg\b\b\b\b\b\b\b\b\b\b\b\b\b\b\b\b\b\b\b\b\b\b\b\b\b\b\b\b\b\b\b\b\b\b\b                                   \b\b\b\b\b\b\b\b\b\b\b\b\b\b\b\b\b\b\b\b\b\b\b\b\b\b\b\b\b\b\b\b\b\b\b 44% 45077 - frozen_yogurt/1123309.jpg\b\b\b\b\b\b\b\b\b\b\b\b\b\b\b\b\b\b\b\b\b\b\b\b\b\b\b\b\b\b\b\b\b\b\b\b\b\b                                      \b\b\b\b\b\b\b\b\b\b\b\b\b\b\b\b\b\b\b\b\b\b\b\b\b\b\b\b\b\b\b\b\b\b\b\b\b\b 44% 45177 - frozen_yogurt/1507666.jpg\b\b\b\b\b\b\b\b\b\b\b\b\b\b\b\b\b\b\b\b\b\b\b\b\b\b\b\b\b\b\b\b\b\b\b\b\b\b                                      \b\b\b\b\b\b\b\b\b\b\b\b\b\b\b\b\b\b\b\b\b\b\b\b\b\b\b\b\b\b\b\b\b\b\b\b\b\b 44% 45263 - frozen_yogurt/1761149.jpg\b\b\b\b\b\b\b\b\b\b\b\b\b\b\b\b\b\b\b\b\b\b\b\b\b\b\b\b\b\b\b\b\b\b\b\b\b\b                                      \b\b\b\b\b\b\b\b\b\b\b\b\b\b\b\b\b\b\b\b\b\b\b\b\b\b\b\b\b\b\b\b\b\b\b\b\b\b 44% 45826 - frozen_yogurt/424663.jpg\b\b\b\b\b\b\b\b\b\b\b\b\b\b\b\b\b\b\b\b\b\b\b\b\b\b\b\b\b\b\b\b\b\b\b\b\b                                     \b\b\b\b\b\b\b\b\b\b\b\b\b\b\b\b\b\b\b\b\b\b\b\b\b\b\b\b\b\b\b\b\b\b\b\b\b 45% 46413 - garlic_bread/2370539.jpg\b\b\b\b\b\b\b\b\b\b\b\b\b\b\b\b\b\b\b\b\b\b\b\b\b\b\b\b\b\b\b\b\b\b\b\b\b                                     \b\b\b\b\b\b\b\b\b\b\b\b\b\b\b\b\b\b\b\b\b\b\b\b\b\b\b\b\b\b\b\b\b\b\b\b\b 45% 46631 - garlic_bread/3047708.jpg\b\b\b\b\b\b\b\b\b\b\b\b\b\b\b\b\b\b\b\b\b\b\b\b\b\b\b\b\b\b\b\b\b\b\b\b\b                                     \b\b\b\b\b\b\b\b\b\b\b\b\b\b\b\b\b\b\b\b\b\b\b\b\b\b\b\b\b\b\b\b\b\b\b\b\b 45% 46635 - garlic_bread/3065317.jpg\b\b\b\b\b\b\b\b\b\b\b\b\b\b\b\b\b\b\b\b\b\b\b\b\b\b\b\b\b\b\b\b\b\b\b\b\b                                     \b\b\b\b\b\b\b\b\b\b\b\b\b\b\b\b\b\b\b\b\b\b\b\b\b\b\b\b\b\b\b\b\b\b\b\b\b 45% 46640 - garlic_bread/3087878.jpg\b\b\b\b\b\b\b\b\b\b\b\b\b\b\b\b\b\b\b\b\b\b\b\b\b\b\b\b\b\b\b\b\b\b\b\b\b                                     \b\b\b\b\b\b\b\b\b\b\b\b\b\b\b\b\b\b\b\b\b\b\b\b\b\b\b\b\b\b\b\b\b\b\b\b\b 45% 46645 - garlic_bread/3114314.jpg\b\b\b\b\b\b\b\b\b\b\b\b\b\b\b\b\b\b\b\b\b\b\b\b\b\b\b\b\b\b\b\b\b\b\b\b\b                                     \b\b\b\b\b\b\b\b\b\b\b\b\b\b\b\b\b\b\b\b\b\b\b\b\b\b\b\b\b\b\b\b\b\b\b\b\b 46% 47074 - gnocchi/1098016.jpg\b\b\b\b\b\b\b\b\b\b\b\b\b\b\b\b\b\b\b\b\b\b\b\b\b\b\b\b\b\b\b\b                                \b\b\b\b\b\b\b\b\b\b\b\b\b\b\b\b\b\b\b\b\b\b\b\b\b\b\b\b\b\b\b\b 46% 47417 - gnocchi/2450762.jpg\b\b\b\b\b\b\b\b\b\b\b\b\b\b\b\b\b\b\b\b\b\b\b\b\b\b\b\b\b\b\b\b                                \b\b\b\b\b\b\b\b\b\b\b\b\b\b\b\b\b\b\b\b\b\b\b\b\b\b\b\b\b\b\b\b 46% 47613 - gnocchi/3211278.jpg\b\b\b\b\b\b\b\b\b\b\b\b\b\b\b\b\b\b\b\b\b\b\b\b\b\b\b\b\b\b\b\b                                \b\b\b\b\b\b\b\b\b\b\b\b\b\b\b\b\b\b\b\b\b\b\b\b\b\b\b\b\b\b\b\b 46% 47794 - gnocchi/374405.jpg\b\b\b\b\b\b\b\b\b\b\b\b\b\b\b\b\b\b\b\b\b\b\b\b\b\b\b\b\b\b\b                               \b\b\b\b\b\b\b\b\b\b\b\b\b\b\b\b\b\b\b\b\b\b\b\b\b\b\b\b\b\b\b 46% 47959 - gnocchi/717649.jpg\b\b\b\b\b\b\b\b\b\b\b\b\b\b\b\b\b\b\b\b\b\b\b\b\b\b\b\b\b\b\b                               \b\b\b\b\b\b\b\b\b\b\b\b\b\b\b\b\b\b\b\b\b\b\b\b\b\b\b\b\b\b\b 47% 48102 - greek_salad/1237218.jpg\b\b\b\b\b\b\b\b\b\b\b\b\b\b\b\b\b\b\b\b\b\b\b\b\b\b\b\b\b\b\b\b\b\b\b\b                                    \b\b\b\b\b\b\b\b\b\b\b\b\b\b\b\b\b\b\b\b\b\b\b\b\b\b\b\b\b\b\b\b\b\b\b\b 47% 48225 - greek_salad/1721092.jpg\b\b\b\b\b\b\b\b\b\b\b\b\b\b\b\b\b\b\b\b\b\b\b\b\b\b\b\b\b\b\b\b\b\b\b\b                                    \b\b\b\b\b\b\b\b\b\b\b\b\b\b\b\b\b\b\b\b\b\b\b\b\b\b\b\b\b\b\b\b\b\b\b\b 47% 48352 - greek_salad/2136242.jpg\b\b\b\b\b\b\b\b\b\b\b\b\b\b\b\b\b\b\b\b\b\b\b\b\b\b\b\b\b\b\b\b\b\b\b\b                                    \b\b\b\b\b\b\b\b\b\b\b\b\b\b\b\b\b\b\b\b\b\b\b\b\b\b\b\b\b\b\b\b\b\b\b\b 47% 48475 - greek_salad/2534926.jpg\b\b\b\b\b\b\b\b\b\b\b\b\b\b\b\b\b\b\b\b\b\b\b\b\b\b\b\b\b\b\b\b\b\b\b\b                                    \b\b\b\b\b\b\b\b\b\b\b\b\b\b\b\b\b\b\b\b\b\b\b\b\b\b\b\b\b\b\b\b\b\b\b\b 47% 48608 - greek_salad/3132900.jpg\b\b\b\b\b\b\b\b\b\b\b\b\b\b\b\b\b\b\b\b\b\b\b\b\b\b\b\b\b\b\b\b\b\b\b\b                                    \b\b\b\b\b\b\b\b\b\b\b\b\b\b\b\b\b\b\b\b\b\b\b\b\b\b\b\b\b\b\b\b\b\b\b\b 47% 48734 - greek_salad/3574346.jpg\b\b\b\b\b\b\b\b\b\b\b\b\b\b\b\b\b\b\b\b\b\b\b\b\b\b\b\b\b\b\b\b\b\b\b\b                                    \b\b\b\b\b\b\b\b\b\b\b\b\b\b\b\b\b\b\b\b\b\b\b\b\b\b\b\b\b\b\b\b\b\b\b\b 47% 48864 - greek_salad/3914220.jpg\b\b\b\b\b\b\b\b\b\b\b\b\b\b\b\b\b\b\b\b\b\b\b\b\b\b\b\b\b\b\b\b\b\b\b\b                                    \b\b\b\b\b\b\b\b\b\b\b\b\b\b\b\b\b\b\b\b\b\b\b\b\b\b\b\b\b\b\b\b\b\b\b\b 48% 48995 - greek_salad/809216.jpg\b\b\b\b\b\b\b\b\b\b\b\b\b\b\b\b\b\b\b\b\b\b\b\b\b\b\b\b\b\b\b\b\b\b\b                                   \b\b\b\b\b\b\b\b\b\b\b\b\b\b\b\b\b\b\b\b\b\b\b\b\b\b\b\b\b\b\b\b\b\b\b 48% 49117 - grilled_cheese_sandwich/117007.jpg\b\b\b\b\b\b\b\b\b\b\b\b\b\b\b\b\b\b\b\b\b\b\b\b\b\b\b\b\b\b\b\b\b\b\b\b\b\b\b\b\b\b\b\b\b\b\b                                               \b\b\b\b\b\b\b\b\b\b\b\b\b\b\b\b\b\b\b\b\b\b\b\b\b\b\b\b\b\b\b\b\b\b\b\b\b\b\b\b\b\b\b\b\b\b\b 48% 49232 - grilled_cheese_sandwich/1589468.jpg\b\b\b\b\b\b\b\b\b\b\b\b\b\b\b\b\b\b\b\b\b\b\b\b\b\b\b\b\b\b\b\b\b\b\b\b\b\b\b\b\b\b\b\b\b\b\b\b                                                \b\b\b\b\b\b\b\b\b\b\b\b\b\b\b\b\b\b\b\b\b\b\b\b\b\b\b\b\b\b\b\b\b\b\b\b\b\b\b\b\b\b\b\b\b\b\b\b 48% 49236 - grilled_cheese_sandwich/160221.jpg\b\b\b\b\b\b\b\b\b\b\b\b\b\b\b\b\b\b\b\b\b\b\b\b\b\b\b\b\b\b\b\b\b\b\b\b\b\b\b\b\b\b\b\b\b\b\b                                               \b\b\b\b\b\b\b\b\b\b\b\b\b\b\b\b\b\b\b\b\b\b\b\b\b\b\b\b\b\b\b\b\b\b\b\b\b\b\b\b\b\b\b\b\b\b\b 48% 49242 - grilled_cheese_sandwich/1627986.jpg\b\b\b\b\b\b\b\b\b\b\b\b\b\b\b\b\b\b\b\b\b\b\b\b\b\b\b\b\b\b\b\b\b\b\b\b\b\b\b\b\b\b\b\b\b\b\b\b                                                \b\b\b\b\b\b\b\b\b\b\b\b\b\b\b\b\b\b\b\b\b\b\b\b\b\b\b\b\b\b\b\b\b\b\b\b\b\b\b\b\b\b\b\b\b\b\b\b 48% 49247 - grilled_cheese_sandwich/1649984.jpg\b\b\b\b\b\b\b\b\b\b\b\b\b\b\b\b\b\b\b\b\b\b\b\b\b\b\b\b\b\b\b\b\b\b\b\b\b\b\b\b\b\b\b\b\b\b\b\b                                                \b\b\b\b\b\b\b\b\b\b\b\b\b\b\b\b\b\b\b\b\b\b\b\b\b\b\b\b\b\b\b\b\b\b\b\b\b\b\b\b\b\b\b\b\b\b\b\b 48% 49290 - grilled_cheese_sandwich/1819587.jpg\b\b\b\b\b\b\b\b\b\b\b\b\b\b\b\b\b\b\b\b\b\b\b\b\b\b\b\b\b\b\b\b\b\b\b\b\b\b\b\b\b\b\b\b\b\b\b\b                                                \b\b\b\b\b\b\b\b\b\b\b\b\b\b\b\b\b\b\b\b\b\b\b\b\b\b\b\b\b\b\b\b\b\b\b\b\b\b\b\b\b\b\b\b\b\b\b\b 48% 49337 - grilled_cheese_sandwich/1925241.jpg\b\b\b\b\b\b\b\b\b\b\b\b\b\b\b\b\b\b\b\b\b\b\b\b\b\b\b\b\b\b\b\b\b\b\b\b\b\b\b\b\b\b\b\b\b\b\b\b                                                \b\b\b\b\b\b\b\b\b\b\b\b\b\b\b\b\b\b\b\b\b\b\b\b\b\b\b\b\b\b\b\b\b\b\b\b\b\b\b\b\b\b\b\b\b\b\b\b 48% 49405 - grilled_cheese_sandwich/2122689.jpg\b\b\b\b\b\b\b\b\b\b\b\b\b\b\b\b\b\b\b\b\b\b\b\b\b\b\b\b\b\b\b\b\b\b\b\b\b\b\b\b\b\b\b\b\b\b\b\b                                                \b\b\b\b\b\b\b\b\b\b\b\b\b\b\b\b\b\b\b\b\b\b\b\b\b\b\b\b\b\b\b\b\b\b\b\b\b\b\b\b\b\b\b\b\b\b\b\b 48% 49733 - grilled_cheese_sandwich/3649933.jpg\b\b\b\b\b\b\b\b\b\b\b\b\b\b\b\b\b\b\b\b\b\b\b\b\b\b\b\b\b\b\b\b\b\b\b\b\b\b\b\b\b\b\b\b\b\b\b\b                                                \b\b\b\b\b\b\b\b\b\b\b\b\b\b\b\b\b\b\b\b\b\b\b\b\b\b\b\b\b\b\b\b\b\b\b\b\b\b\b\b\b\b\b\b\b\b\b\b 49% 50176 - grilled_salmon/1523685.jpg\b\b\b\b\b\b\b\b\b\b\b\b\b\b\b\b\b\b\b\b\b\b\b\b\b\b\b\b\b\b\b\b\b\b\b\b\b\b\b                                       \b\b\b\b\b\b\b\b\b\b\b\b\b\b\b\b\b\b\b\b\b\b\b\b\b\b\b\b\b\b\b\b\b\b\b\b\b\b\b 49% 50701 - grilled_salmon/3342897.jpg\b\b\b\b\b\b\b\b\b\b\b\b\b\b\b\b\b\b\b\b\b\b\b\b\b\b\b\b\b\b\b\b\b\b\b\b\b\b\b                                       \b\b\b\b\b\b\b\b\b\b\b\b\b\b\b\b\b\b\b\b\b\b\b\b\b\b\b\b\b\b\b\b\b\b\b\b\b\b\b 50% 51192 - guacamole/153387.jpg\b\b\b\b\b\b\b\b\b\b\b\b\b\b\b\b\b\b\b\b\b\b\b\b\b\b\b\b\b\b\b\b\b                                 \b\b\b\b\b\b\b\b\b\b\b\b\b\b\b\b\b\b\b\b\b\b\b\b\b\b\b\b\b\b\b\b\b 50% 51333 - guacamole/2053414.jpg\b\b\b\b\b\b\b\b\b\b\b\b\b\b\b\b\b\b\b\b\b\b\b\b\b\b\b\b\b\b\b\b\b\b                                  \b\b\b\b\b\b\b\b\b\b\b\b\b\b\b\b\b\b\b\b\b\b\b\b\b\b\b\b\b\b\b\b\b\b 50% 51421\b\b\b\b\b\b\b\b\b\b          \b\b\b\b\b\b\b\b\b\b 50% 51520 - guacamole/2760182.jpg\b\b\b\b\b\b\b\b\b\b\b\b\b\b\b\b\b\b\b\b\b\b\b\b\b\b\b\b\b\b\b\b\b\b                                  \b\b\b\b\b\b\b\b\b\b\b\b\b\b\b\b\b\b\b\b\b\b\b\b\b\b\b\b\b\b\b\b\b\b 50% 51627 - guacamole/3189215.jpg\b\b\b\b\b\b\b\b\b\b\b\b\b\b\b\b\b\b\b\b\b\b\b\b\b\b\b\b\b\b\b\b\b\b                                  \b\b\b\b\b\b\b\b\b\b\b\b\b\b\b\b\b\b\b\b\b\b\b\b\b\b\b\b\b\b\b\b\b\b 50% 51737 - guacamole/3556914.jpg\b\b\b\b\b\b\b\b\b\b\b\b\b\b\b\b\b\b\b\b\b\b\b\b\b\b\b\b\b\b\b\b\b\b                                  \b\b\b\b\b\b\b\b\b\b\b\b\b\b\b\b\b\b\b\b\b\b\b\b\b\b\b\b\b\b\b\b\b\b 50% 51749 - guacamole/3586426.jpg\b\b\b\b\b\b\b\b\b\b\b\b\b\b\b\b\b\b\b\b\b\b\b\b\b\b\b\b\b\b\b\b\b\b                                  \b\b\b\b\b\b\b\b\b\b\b\b\b\b\b\b\b\b\b\b\b\b\b\b\b\b\b\b\b\b\b\b\b\b 50% 51751 - guacamole/3600148.jpg\b\b\b\b\b\b\b\b\b\b\b\b\b\b\b\b\b\b\b\b\b\b\b\b\b\b\b\b\b\b\b\b\b\b                                  \b\b\b\b\b\b\b\b\b\b\b\b\b\b\b\b\b\b\b\b\b\b\b\b\b\b\b\b\b\b\b\b\b\b 50% 51754 - guacamole/3607333.jpg\b\b\b\b\b\b\b\b\b\b\b\b\b\b\b\b\b\b\b\b\b\b\b\b\b\b\b\b\b\b\b\b\b\b                                  \b\b\b\b\b\b\b\b\b\b\b\b\b\b\b\b\b\b\b\b\b\b\b\b\b\b\b\b\b\b\b\b\b\b 50% 51757 - guacamole/3613863.jpg\b\b\b\b\b\b\b\b\b\b\b\b\b\b\b\b\b\b\b\b\b\b\b\b\b\b\b\b\b\b\b\b\b\b                                  \b\b\b\b\b\b\b\b\b\b\b\b\b\b\b\b\b\b\b\b\b\b\b\b\b\b\b\b\b\b\b\b\b\b 51% 52255 - gyoza/1838980.jpg\b\b\b\b\b\b\b\b\b\b\b\b\b\b\b\b\b\b\b\b\b\b\b\b\b\b\b\b\b\b                              \b\b\b\b\b\b\b\b\b\b\b\b\b\b\b\b\b\b\b\b\b\b\b\b\b\b\b\b\b\b 51% 52667 - gyoza/325253.jpg\b\b\b\b\b\b\b\b\b\b\b\b\b\b\b\b\b\b\b\b\b\b\b\b\b\b\b\b\b                             \b\b\b\b\b\b\b\b\b\b\b\b\b\b\b\b\b\b\b\b\b\b\b\b\b\b\b\b\b 51% 52837 - gyoza/3869133.jpg\b\b\b\b\b\b\b\b\b\b\b\b\b\b\b\b\b\b\b\b\b\b\b\b\b\b\b\b\b\b                              \b\b\b\b\b\b\b\b\b\b\b\b\b\b\b\b\b\b\b\b\b\b\b\b\b\b\b\b\b\b 52% 52975 - gyoza/747928.jpg\b\b\b\b\b\b\b\b\b\b\b\b\b\b\b\b\b\b\b\b\b\b\b\b\b\b\b\b\b                             \b\b\b\b\b\b\b\b\b\b\b\b\b\b\b\b\b\b\b\b\b\b\b\b\b\b\b\b\b 52% 53106 - hamburger/1175157.jpg\b\b\b\b\b\b\b\b\b\b\b\b\b\b\b\b\b\b\b\b\b\b\b\b\b\b\b\b\b\b\b\b\b\b                                  \b\b\b\b\b\b\b\b\b\b\b\b\b\b\b\b\b\b\b\b\b\b\b\b\b\b\b\b\b\b\b\b\b\b 52% 53239 - hamburger/166566.jpg\b\b\b\b\b\b\b\b\b\b\b\b\b\b\b\b\b\b\b\b\b\b\b\b\b\b\b\b\b\b\b\b\b                                 \b\b\b\b\b\b\b\b\b\b\b\b\b\b\b\b\b\b\b\b\b\b\b\b\b\b\b\b\b\b\b\b\b 52% 53362 - hamburger/2145273.jpg\b\b\b\b\b\b\b\b\b\b\b\b\b\b\b\b\b\b\b\b\b\b\b\b\b\b\b\b\b\b\b\b\b\b                                  \b\b\b\b\b\b\b\b\b\b\b\b\b\b\b\b\b\b\b\b\b\b\b\b\b\b\b\b\b\b\b\b\b\b 52% 53487 - hamburger/2599548.jpg\b\b\b\b\b\b\b\b\b\b\b\b\b\b\b\b\b\b\b\b\b\b\b\b\b\b\b\b\b\b\b\b\b\b                                  \b\b\b\b\b\b\b\b\b\b\b\b\b\b\b\b\b\b\b\b\b\b\b\b\b\b\b\b\b\b\b\b\b\b 52% 53583 - hamburger/2988095.jpg\b\b\b\b\b\b\b\b\b\b\b\b\b\b\b\b\b\b\b\b\b\b\b\b\b\b\b\b\b\b\b\b\b\b                                  \b\b\b\b\b\b\b\b\b\b\b\b\b\b\b\b\b\b\b\b\b\b\b\b\b\b\b\b\b\b\b\b\b\b 52% 53589 - hamburger/302613.jpg\b\b\b\b\b\b\b\b\b\b\b\b\b\b\b\b\b\b\b\b\b\b\b\b\b\b\b\b\b\b\b\b\b                                 \b\b\b\b\b\b\b\b\b\b\b\b\b\b\b\b\b\b\b\b\b\b\b\b\b\b\b\b\b\b\b\b\b 52% 53594 - hamburger/3037400.jpg\b\b\b\b\b\b\b\b\b\b\b\b\b\b\b\b\b\b\b\b\b\b\b\b\b\b\b\b\b\b\b\b\b\b                                  \b\b\b\b\b\b\b\b\b\b\b\b\b\b\b\b\b\b\b\b\b\b\b\b\b\b\b\b\b\b\b\b\b\b 52% 53598 - hamburger/3062381.jpg\b\b\b\b\b\b\b\b\b\b\b\b\b\b\b\b\b\b\b\b\b\b\b\b\b\b\b\b\b\b\b\b\b\b                                  \b\b\b\b\b\b\b\b\b\b\b\b\b\b\b\b\b\b\b\b\b\b\b\b\b\b\b\b\b\b\b\b\b\b 53% 54011 - hamburger/845305.jpg\b\b\b\b\b\b\b\b\b\b\b\b\b\b\b\b\b\b\b\b\b\b\b\b\b\b\b\b\b\b\b\b\b                                 \b\b\b\b\b\b\b\b\b\b\b\b\b\b\b\b\b\b\b\b\b\b\b\b\b\b\b\b\b\b\b\b\b 53% 54614 - hot_and_sour_soup/2887780.jpg\b\b\b\b\b\b\b\b\b\b\b\b\b\b\b\b\b\b\b\b\b\b\b\b\b\b\b\b\b\b\b\b\b\b\b\b\b\b\b\b\b\b                                          \b\b\b\b\b\b\b\b\b\b\b\b\b\b\b\b\b\b\b\b\b\b\b\b\b\b\b\b\b\b\b\b\b\b\b\b\b\b\b\b\b\b 54% 55035 - hot_and_sour_soup/944744.jpg\b\b\b\b\b\b\b\b\b\b\b\b\b\b\b\b\b\b\b\b\b\b\b\b\b\b\b\b\b\b\b\b\b\b\b\b\b\b\b\b\b                                         \b\b\b\b\b\b\b\b\b\b\b\b\b\b\b\b\b\b\b\b\b\b\b\b\b\b\b\b\b\b\b\b\b\b\b\b\b\b\b\b\b 54% 55721 - hot_dog/3622018.jpg\b\b\b\b\b\b\b\b\b\b\b\b\b\b\b\b\b\b\b\b\b\b\b\b\b\b\b\b\b\b\b\b                                \b\b\b\b\b\b\b\b\b\b\b\b\b\b\b\b\b\b\b\b\b\b\b\b\b\b\b\b\b\b\b\b 54% 55847 - hot_dog/486658.jpg\b\b\b\b\b\b\b\b\b\b\b\b\b\b\b\b\b\b\b\b\b\b\b\b\b\b\b\b\b\b\b                               \b\b\b\b\b\b\b\b\b\b\b\b\b\b\b\b\b\b\b\b\b\b\b\b\b\b\b\b\b\b\b 54% 55851 - hot_dog/498141.jpg\b\b\b\b\b\b\b\b\b\b\b\b\b\b\b\b\b\b\b\b\b\b\b\b\b\b\b\b\b\b\b                               \b\b\b\b\b\b\b\b\b\b\b\b\b\b\b\b\b\b\b\b\b\b\b\b\b\b\b\b\b\b\b 54% 55855 - hot_dog/505563.jpg\b\b\b\b\b\b\b\b\b\b\b\b\b\b\b\b\b\b\b\b\b\b\b\b\b\b\b\b\b\b\b                               \b\b\b\b\b\b\b\b\b\b\b\b\b\b\b\b\b\b\b\b\b\b\b\b\b\b\b\b\b\b\b 54% 55861 - hot_dog/510674.jpg\b\b\b\b\b\b\b\b\b\b\b\b\b\b\b\b\b\b\b\b\b\b\b\b\b\b\b\b\b\b\b                               \b\b\b\b\b\b\b\b\b\b\b\b\b\b\b\b\b\b\b\b\b\b\b\b\b\b\b\b\b\b\b 55% 56383 - huevos_rancheros/2115045.jpg\b\b\b\b\b\b\b\b\b\b\b\b\b\b\b\b\b\b\b\b\b\b\b\b\b\b\b\b\b\b\b\b\b\b\b\b\b\b\b\b\b                                         \b\b\b\b\b\b\b\b\b\b\b\b\b\b\b\b\b\b\b\b\b\b\b\b\b\b\b\b\b\b\b\b\b\b\b\b\b\b\b\b\b 55% 56705 - huevos_rancheros/3349824.jpg\b\b\b\b\b\b\b\b\b\b\b\b\b\b\b\b\b\b\b\b\b\b\b\b\b\b\b\b\b\b\b\b\b\b\b\b\b\b\b\b\b                                         \b\b\b\b\b\b\b\b\b\b\b\b\b\b\b\b\b\b\b\b\b\b\b\b\b\b\b\b\b\b\b\b\b\b\b\b\b\b\b\b\b 55% 56828 - huevos_rancheros/3805869.jpg\b\b\b\b\b\b\b\b\b\b\b\b\b\b\b\b\b\b\b\b\b\b\b\b\b\b\b\b\b\b\b\b\b\b\b\b\b\b\b\b\b                                         \b\b\b\b\b\b\b\b\b\b\b\b\b\b\b\b\b\b\b\b\b\b\b\b\b\b\b\b\b\b\b\b\b\b\b\b\b\b\b\b\b 56% 56956 - huevos_rancheros/71240.jpg\b\b\b\b\b\b\b\b\b\b\b\b\b\b\b\b\b\b\b\b\b\b\b\b\b\b\b\b\b\b\b\b\b\b\b\b\b\b\b                                       \b\b\b\b\b\b\b\b\b\b\b\b\b\b\b\b\b\b\b\b\b\b\b\b\b\b\b\b\b\b\b\b\b\b\b\b\b\b\b 56% 57094 - hummus/1146889.jpg\b\b\b\b\b\b\b\b\b\b\b\b\b\b\b\b\b\b\b\b\b\b\b\b\b\b\b\b\b\b\b                               \b\b\b\b\b\b\b\b\b\b\b\b\b\b\b\b\b\b\b\b\b\b\b\b\b\b\b\b\b\b\b 56% 57229 - hummus/1701533.jpg\b\b\b\b\b\b\b\b\b\b\b\b\b\b\b\b\b\b\b\b\b\b\b\b\b\b\b\b\b\b\b                               \b\b\b\b\b\b\b\b\b\b\b\b\b\b\b\b\b\b\b\b\b\b\b\b\b\b\b\b\b\b\b 56% 57357 - hummus/2139235.jpg\b\b\b\b\b\b\b\b\b\b\b\b\b\b\b\b\b\b\b\b\b\b\b\b\b\b\b\b\b\b\b                               \b\b\b\b\b\b\b\b\b\b\b\b\b\b\b\b\b\b\b\b\b\b\b\b\b\b\b\b\b\b\b 56% 57497 - hummus/267254.jpg\b\b\b\b\b\b\b\b\b\b\b\b\b\b\b\b\b\b\b\b\b\b\b\b\b\b\b\b\b\b                              \b\b\b\b\b\b\b\b\b\b\b\b\b\b\b\b\b\b\b\b\b\b\b\b\b\b\b\b\b\b 56% 57643 - hummus/318517.jpg\b\b\b\b\b\b\b\b\b\b\b\b\b\b\b\b\b\b\b\b\b\b\b\b\b\b\b\b\b\b                              \b\b\b\b\b\b\b\b\b\b\b\b\b\b\b\b\b\b\b\b\b\b\b\b\b\b\b\b\b\b 56% 57779 - hummus/3624888.jpg\b\b\b\b\b\b\b\b\b\b\b\b\b\b\b\b\b\b\b\b\b\b\b\b\b\b\b\b\b\b\b                               \b\b\b\b\b\b\b\b\b\b\b\b\b\b\b\b\b\b\b\b\b\b\b\b\b\b\b\b\b\b\b 56% 57929 - hummus/624546.jpg\b\b\b\b\b\b\b\b\b\b\b\b\b\b\b\b\b\b\b\b\b\b\b\b\b\b\b\b\b\b                              \b\b\b\b\b\b\b\b\b\b\b\b\b\b\b\b\b\b\b\b\b\b\b\b\b\b\b\b\b\b 57% 58074 - ice_cream/1101126.jpg\b\b\b\b\b\b\b\b\b\b\b\b\b\b\b\b\b\b\b\b\b\b\b\b\b\b\b\b\b\b\b\b\b\b                                  \b\b\b\b\b\b\b\b\b\b\b\b\b\b\b\b\b\b\b\b\b\b\b\b\b\b\b\b\b\b\b\b\b\b 57% 58221 - ice_cream/1770826.jpg\b\b\b\b\b\b\b\b\b\b\b\b\b\b\b\b\b\b\b\b\b\b\b\b\b\b\b\b\b\b\b\b\b\b                                  \b\b\b\b\b\b\b\b\b\b\b\b\b\b\b\b\b\b\b\b\b\b\b\b\b\b\b\b\b\b\b\b\b\b 57% 58354 - ice_cream/2081798.jpg\b\b\b\b\b\b\b\b\b\b\b\b\b\b\b\b\b\b\b\b\b\b\b\b\b\b\b\b\b\b\b\b\b\b                                  \b\b\b\b\b\b\b\b\b\b\b\b\b\b\b\b\b\b\b\b\b\b\b\b\b\b\b\b\b\b\b\b\b\b 57% 58510 - ice_cream/2527966.jpg\b\b\b\b\b\b\b\b\b\b\b\b\b\b\b\b\b\b\b\b\b\b\b\b\b\b\b\b\b\b\b\b\b\b                                  \b\b\b\b\b\b\b\b\b\b\b\b\b\b\b\b\b\b\b\b\b\b\b\b\b\b\b\b\b\b\b\b\b\b 57% 58584 - ice_cream/2854274.jpg\b\b\b\b\b\b\b\b\b\b\b\b\b\b\b\b\b\b\b\b\b\b\b\b\b\b\b\b\b\b\b\b\b\b                                  \b\b\b\b\b\b\b\b\b\b\b\b\b\b\b\b\b\b\b\b\b\b\b\b\b\b\b\b\b\b\b\b\b\b 57% 58587 - ice_cream/2876209.jpg\b\b\b\b\b\b\b\b\b\b\b\b\b\b\b\b\b\b\b\b\b\b\b\b\b\b\b\b\b\b\b\b\b\b                                  \b\b\b\b\b\b\b\b\b\b\b\b\b\b\b\b\b\b\b\b\b\b\b\b\b\b\b\b\b\b\b\b\b\b 57% 58592 - ice_cream/2908015.jpg\b\b\b\b\b\b\b\b\b\b\b\b\b\b\b\b\b\b\b\b\b\b\b\b\b\b\b\b\b\b\b\b\b\b                                  \b\b\b\b\b\b\b\b\b\b\b\b\b\b\b\b\b\b\b\b\b\b\b\b\b\b\b\b\b\b\b\b\b\b 57% 58597 - ice_cream/2926695.jpg\b\b\b\b\b\b\b\b\b\b\b\b\b\b\b\b\b\b\b\b\b\b\b\b\b\b\b\b\b\b\b\b\b\b                                  \b\b\b\b\b\b\b\b\b\b\b\b\b\b\b\b\b\b\b\b\b\b\b\b\b\b\b\b\b\b\b\b\b\b 57% 58999 - ice_cream/806395.jpg\b\b\b\b\b\b\b\b\b\b\b\b\b\b\b\b\b\b\b\b\b\b\b\b\b\b\b\b\b\b\b\b\b                                 \b\b\b\b\b\b\b\b\b\b\b\b\b\b\b\b\b\b\b\b\b\b\b\b\b\b\b\b\b\b\b\b\b 58% 59544 - lasagna/2846781.jpg\b\b\b\b\b\b\b\b\b\b\b\b\b\b\b\b\b\b\b\b\b\b\b\b\b\b\b\b\b\b\b\b                                \b\b\b\b\b\b\b\b\b\b\b\b\b\b\b\b\b\b\b\b\b\b\b\b\b\b\b\b\b\b\b\b 58% 59963 - lasagna/562152.jpg\b\b\b\b\b\b\b\b\b\b\b\b\b\b\b\b\b\b\b\b\b\b\b\b\b\b\b\b\b\b\b                               \b\b\b\b\b\b\b\b\b\b\b\b\b\b\b\b\b\b\b\b\b\b\b\b\b\b\b\b\b\b\b 59% 60547 - lobster_bisque/2757356.jpg\b\b\b\b\b\b\b\b\b\b\b\b\b\b\b\b\b\b\b\b\b\b\b\b\b\b\b\b\b\b\b\b\b\b\b\b\b\b\b                                       \b\b\b\b\b\b\b\b\b\b\b\b\b\b\b\b\b\b\b\b\b\b\b\b\b\b\b\b\b\b\b\b\b\b\b\b\b\b\b 59% 60896 - lobster_bisque/3898672.jpg\b\b\b\b\b\b\b\b\b\b\b\b\b\b\b\b\b\b\b\b\b\b\b\b\b\b\b\b\b\b\b\b\b\b\b\b\b\b\b                                       \b\b\b\b\b\b\b\b\b\b\b\b\b\b\b\b\b\b\b\b\b\b\b\b\b\b\b\b\b\b\b\b\b\b\b\b\b\b\b 59% 61235 - lobster_roll_sandwich/1656704.jpg\b\b\b\b\b\b\b\b\b\b\b\b\b\b\b\b\b\b\b\b\b\b\b\b\b\b\b\b\b\b\b\b\b\b\b\b\b\b\b\b\b\b\b\b\b\b                                              \b\b\b\b\b\b\b\b\b\b\b\b\b\b\b\b\b\b\b\b\b\b\b\b\b\b\b\b\b\b\b\b\b\b\b\b\b\b\b\b\b\b\b\b\b\b 60% 61528 - lobster_roll_sandwich/2542156.jpg\b\b\b\b\b\b\b\b\b\b\b\b\b\b\b\b\b\b\b\b\b\b\b\b\b\b\b\b\b\b\b\b\b\b\b\b\b\b\b\b\b\b\b\b\b\b                                              \b\b\b\b\b\b\b\b\b\b\b\b\b\b\b\b\b\b\b\b\b\b\b\b\b\b\b\b\b\b\b\b\b\b\b\b\b\b\b\b\b\b\b\b\b\b 60% 61979 - lobster_roll_sandwich/825190.jpg\b\b\b\b\b\b\b\b\b\b\b\b\b\b\b\b\b\b\b\b\b\b\b\b\b\b\b\b\b\b\b\b\b\b\b\b\b\b\b\b\b\b\b\b\b                                             \b\b\b\b\b\b\b\b\b\b\b\b\b\b\b\b\b\b\b\b\b\b\b\b\b\b\b\b\b\b\b\b\b\b\b\b\b\b\b\b\b\b\b\b\b 60% 62154 - macaroni_and_cheese/1310868.jpg\b\b\b\b\b\b\b\b\b\b\b\b\b\b\b\b\b\b\b\b\b\b\b\b\b\b\b\b\b\b\b\b\b\b\b\b\b\b\b\b\b\b\b\b                                            \b\b\b\b\b\b\b\b\b\b\b\b\b\b\b\b\b\b\b\b\b\b\b\b\b\b\b\b\b\b\b\b\b\b\b\b\b\b\b\b\b\b\b\b 60% 62159 - macaroni_and_cheese/1333.jpg\b\b\b\b\b\b\b\b\b\b\b\b\b\b\b\b\b\b\b\b\b\b\b\b\b\b\b\b\b\b\b\b\b\b\b\b\b\b\b\b\b                                         \b\b\b\b\b\b\b\b\b\b\b\b\b\b\b\b\b\b\b\b\b\b\b\b\b\b\b\b\b\b\b\b\b\b\b\b\b\b\b\b\b 60% 62165 - macaroni_and_cheese/1345299.jpg\b\b\b\b\b\b\b\b\b\b\b\b\b\b\b\b\b\b\b\b\b\b\b\b\b\b\b\b\b\b\b\b\b\b\b\b\b\b\b\b\b\b\b\b                                            \b\b\b\b\b\b\b\b\b\b\b\b\b\b\b\b\b\b\b\b\b\b\b\b\b\b\b\b\b\b\b\b\b\b\b\b\b\b\b\b\b\b\b\b 60% 62171 - macaroni_and_cheese/136016.jpg\b\b\b\b\b\b\b\b\b\b\b\b\b\b\b\b\b\b\b\b\b\b\b\b\b\b\b\b\b\b\b\b\b\b\b\b\b\b\b\b\b\b\b                                           \b\b\b\b\b\b\b\b\b\b\b\b\b\b\b\b\b\b\b\b\b\b\b\b\b\b\b\b\b\b\b\b\b\b\b\b\b\b\b\b\b\b\b 61% 62322 - macaroni_and_cheese/191003.jpg\b\b\b\b\b\b\b\b\b\b\b\b\b\b\b\b\b\b\b\b\b\b\b\b\b\b\b\b\b\b\b\b\b\b\b\b\b\b\b\b\b\b\b                                           \b\b\b\b\b\b\b\b\b\b\b\b\b\b\b\b\b\b\b\b\b\b\b\b\b\b\b\b\b\b\b\b\b\b\b\b\b\b\b\b\b\b\b 61% 62460 - macaroni_and_cheese/2408294.jpg\b\b\b\b\b\b\b\b\b\b\b\b\b\b\b\b\b\b\b\b\b\b\b\b\b\b\b\b\b\b\b\b\b\b\b\b\b\b\b\b\b\b\b\b                                            \b\b\b\b\b\b\b\b\b\b\b\b\b\b\b\b\b\b\b\b\b\b\b\b\b\b\b\b\b\b\b\b\b\b\b\b\b\b\b\b\b\b\b\b 61% 62594 - macaroni_and_cheese/2854156.jpg\b\b\b\b\b\b\b\b\b\b\b\b\b\b\b\b\b\b\b\b\b\b\b\b\b\b\b\b\b\b\b\b\b\b\b\b\b\b\b\b\b\b\b\b                                            \b\b\b\b\b\b\b\b\b\b\b\b\b\b\b\b\b\b\b\b\b\b\b\b\b\b\b\b\b\b\b\b\b\b\b\b\b\b\b\b\b\b\b\b 61% 62720 - macaroni_and_cheese/3342262.jpg\b\b\b\b\b\b\b\b\b\b\b\b\b\b\b\b\b\b\b\b\b\b\b\b\b\b\b\b\b\b\b\b\b\b\b\b\b\b\b\b\b\b\b\b                                            \b\b\b\b\b\b\b\b\b\b\b\b\b\b\b\b\b\b\b\b\b\b\b\b\b\b\b\b\b\b\b\b\b\b\b\b\b\b\b\b\b\b\b\b 61% 62854 - macaroni_and_cheese/3868937.jpg\b\b\b\b\b\b\b\b\b\b\b\b\b\b\b\b\b\b\b\b\b\b\b\b\b\b\b\b\b\b\b\b\b\b\b\b\b\b\b\b\b\b\b\b                                            \b\b\b\b\b\b\b\b\b\b\b\b\b\b\b\b\b\b\b\b\b\b\b\b\b\b\b\b\b\b\b\b\b\b\b\b\b\b\b\b\b\b\b\b 61% 62990 - macaroni_and_cheese/767127.jpg\b\b\b\b\b\b\b\b\b\b\b\b\b\b\b\b\b\b\b\b\b\b\b\b\b\b\b\b\b\b\b\b\b\b\b\b\b\b\b\b\b\b\b                                           \b\b\b\b\b\b\b\b\b\b\b\b\b\b\b\b\b\b\b\b\b\b\b\b\b\b\b\b\b\b\b\b\b\b\b\b\b\b\b\b\b\b\b 61% 63113 - macarons/1161488.jpg\b\b\b\b\b\b\b\b\b\b\b\b\b\b\b\b\b\b\b\b\b\b\b\b\b\b\b\b\b\b\b\b\b                                 \b\b\b\b\b\b\b\b\b\b\b\b\b\b\b\b\b\b\b\b\b\b\b\b\b\b\b\b\b\b\b\b\b 61% 63232\b\b\b\b\b\b\b\b\b\b          \b\b\b\b\b\b\b\b\b\b 62% 63367 - macarons/2055475.jpg\b\b\b\b\b\b\b\b\b\b\b\b\b\b\b\b\b\b\b\b\b\b\b\b\b\b\b\b\b\b\b\b\b                                 \b\b\b\b\b\b\b\b\b\b\b\b\b\b\b\b\b\b\b\b\b\b\b\b\b\b\b\b\b\b\b\b\b 62% 63500 - macarons/2516967.jpg\b\b\b\b\b\b\b\b\b\b\b\b\b\b\b\b\b\b\b\b\b\b\b\b\b\b\b\b\b\b\b\b\b                                 \b\b\b\b\b\b\b\b\b\b\b\b\b\b\b\b\b\b\b\b\b\b\b\b\b\b\b\b\b\b\b\b\b 62% 63631 - macarons/2998800.jpg\b\b\b\b\b\b\b\b\b\b\b\b\b\b\b\b\b\b\b\b\b\b\b\b\b\b\b\b\b\b\b\b\b                                 \b\b\b\b\b\b\b\b\b\b\b\b\b\b\b\b\b\b\b\b\b\b\b\b\b\b\b\b\b\b\b\b\b 62% 63766 - macarons/3526647.jpg\b\b\b\b\b\b\b\b\b\b\b\b\b\b\b\b\b\b\b\b\b\b\b\b\b\b\b\b\b\b\b\b\b                                 \b\b\b\b\b\b\b\b\b\b\b\b\b\b\b\b\b\b\b\b\b\b\b\b\b\b\b\b\b\b\b\b\b 62% 63898 - macarons/513306.jpg\b\b\b\b\b\b\b\b\b\b\b\b\b\b\b\b\b\b\b\b\b\b\b\b\b\b\b\b\b\b\b\b                                \b\b\b\b\b\b\b\b\b\b\b\b\b\b\b\b\b\b\b\b\b\b\b\b\b\b\b\b\b\b\b\b 62% 64029 - macarons/900250.jpg\b\b\b\b\b\b\b\b\b\b\b\b\b\b\b\b\b\b\b\b\b\b\b\b\b\b\b\b\b\b\b\b                                \b\b\b\b\b\b\b\b\b\b\b\b\b\b\b\b\b\b\b\b\b\b\b\b\b\b\b\b\b\b\b\b 62% 64167 - miso_soup/1334371.jpg\b\b\b\b\b\b\b\b\b\b\b\b\b\b\b\b\b\b\b\b\b\b\b\b\b\b\b\b\b\b\b\b\b\b                                  \b\b\b\b\b\b\b\b\b\b\b\b\b\b\b\b\b\b\b\b\b\b\b\b\b\b\b\b\b\b\b\b\b\b 62% 64315 - miso_soup/1851174.jpg\b\b\b\b\b\b\b\b\b\b\b\b\b\b\b\b\b\b\b\b\b\b\b\b\b\b\b\b\b\b\b\b\b\b                                  \b\b\b\b\b\b\b\b\b\b\b\b\b\b\b\b\b\b\b\b\b\b\b\b\b\b\b\b\b\b\b\b\b\b 63% 64407 - miso_soup/2185588.jpg\b\b\b\b\b\b\b\b\b\b\b\b\b\b\b\b\b\b\b\b\b\b\b\b\b\b\b\b\b\b\b\b\b\b                                  \b\b\b\b\b\b\b\b\b\b\b\b\b\b\b\b\b\b\b\b\b\b\b\b\b\b\b\b\b\b\b\b\b\b 63% 64484 - miso_soup/2496444.jpg\b\b\b\b\b\b\b\b\b\b\b\b\b\b\b\b\b\b\b\b\b\b\b\b\b\b\b\b\b\b\b\b\b\b                                  \b\b\b\b\b\b\b\b\b\b\b\b\b\b\b\b\b\b\b\b\b\b\b\b\b\b\b\b\b\b\b\b\b\b 63% 64550 - miso_soup/2706567.jpg\b\b\b\b\b\b\b\b\b\b\b\b\b\b\b\b\b\b\b\b\b\b\b\b\b\b\b\b\b\b\b\b\b\b                                  \b\b\b\b\b\b\b\b\b\b\b\b\b\b\b\b\b\b\b\b\b\b\b\b\b\b\b\b\b\b\b\b\b\b 63% 64594 - miso_soup/2839957.jpg\b\b\b\b\b\b\b\b\b\b\b\b\b\b\b\b\b\b\b\b\b\b\b\b\b\b\b\b\b\b\b\b\b\b                                  \b\b\b\b\b\b\b\b\b\b\b\b\b\b\b\b\b\b\b\b\b\b\b\b\b\b\b\b\b\b\b\b\b\b 63% 64639 - miso_soup/2977117.jpg\b\b\b\b\b\b\b\b\b\b\b\b\b\b\b\b\b\b\b\b\b\b\b\b\b\b\b\b\b\b\b\b\b\b                                  \b\b\b\b\b\b\b\b\b\b\b\b\b\b\b\b\b\b\b\b\b\b\b\b\b\b\b\b\b\b\b\b\b\b 63% 64686 - miso_soup/312662.jpg\b\b\b\b\b\b\b\b\b\b\b\b\b\b\b\b\b\b\b\b\b\b\b\b\b\b\b\b\b\b\b\b\b                                 \b\b\b\b\b\b\b\b\b\b\b\b\b\b\b\b\b\b\b\b\b\b\b\b\b\b\b\b\b\b\b\b\b 63% 64731 - miso_soup/3261810.jpg\b\b\b\b\b\b\b\b\b\b\b\b\b\b\b\b\b\b\b\b\b\b\b\b\b\b\b\b\b\b\b\b\b\b                                  \b\b\b\b\b\b\b\b\b\b\b\b\b\b\b\b\b\b\b\b\b\b\b\b\b\b\b\b\b\b\b\b\b\b 63% 64814 - miso_soup/3587028.jpg\b\b\b\b\b\b\b\b\b\b\b\b\b\b\b\b\b\b\b\b\b\b\b\b\b\b\b\b\b\b\b\b\b\b                                  \b\b\b\b\b\b\b\b\b\b\b\b\b\b\b\b\b\b\b\b\b\b\b\b\b\b\b\b\b\b\b\b\b\b 63% 64952 - miso_soup/630227.jpg\b\b\b\b\b\b\b\b\b\b\b\b\b\b\b\b\b\b\b\b\b\b\b\b\b\b\b\b\b\b\b\b\b                                 \b\b\b\b\b\b\b\b\b\b\b\b\b\b\b\b\b\b\b\b\b\b\b\b\b\b\b\b\b\b\b\b\b 63% 65079 - mussels/1049923.jpg\b\b\b\b\b\b\b\b\b\b\b\b\b\b\b\b\b\b\b\b\b\b\b\b\b\b\b\b\b\b\b\b                                \b\b\b\b\b\b\b\b\b\b\b\b\b\b\b\b\b\b\b\b\b\b\b\b\b\b\b\b\b\b\b\b 63% 65122 - mussels/1239360.jpg\b\b\b\b\b\b\b\b\b\b\b\b\b\b\b\b\b\b\b\b\b\b\b\b\b\b\b\b\b\b\b\b                                \b\b\b\b\b\b\b\b\b\b\b\b\b\b\b\b\b\b\b\b\b\b\b\b\b\b\b\b\b\b\b\b 63% 65123 - mussels/1240581.jpg\b\b\b\b\b\b\b\b\b\b\b\b\b\b\b\b\b\b\b\b\b\b\b\b\b\b\b\b\b\b\b\b                                \b\b\b\b\b\b\b\b\b\b\b\b\b\b\b\b\b\b\b\b\b\b\b\b\b\b\b\b\b\b\b\b 63% 65125 - mussels/1242929.jpg\b\b\b\b\b\b\b\b\b\b\b\b\b\b\b\b\b\b\b\b\b\b\b\b\b\b\b\b\b\b\b\b                                \b\b\b\b\b\b\b\b\b\b\b\b\b\b\b\b\b\b\b\b\b\b\b\b\b\b\b\b\b\b\b\b 64% 65507 - mussels/2692000.jpg\b\b\b\b\b\b\b\b\b\b\b\b\b\b\b\b\b\b\b\b\b\b\b\b\b\b\b\b\b\b\b\b                                \b\b\b\b\b\b\b\b\b\b\b\b\b\b\b\b\b\b\b\b\b\b\b\b\b\b\b\b\b\b\b\b 64% 65941 - mussels/578173.jpg\b\b\b\b\b\b\b\b\b\b\b\b\b\b\b\b\b\b\b\b\b\b\b\b\b\b\b\b\b\b\b                               \b\b\b\b\b\b\b\b\b\b\b\b\b\b\b\b\b\b\b\b\b\b\b\b\b\b\b\b\b\b\b 64% 66235 - nachos/1612344.jpg\b\b\b\b\b\b\b\b\b\b\b\b\b\b\b\b\b\b\b\b\b\b\b\b\b\b\b\b\b\b\b                               \b\b\b\b\b\b\b\b\b\b\b\b\b\b\b\b\b\b\b\b\b\b\b\b\b\b\b\b\b\b\b 64% 66321 - nachos/1916048.jpg\b\b\b\b\b\b\b\b\b\b\b\b\b\b\b\b\b\b\b\b\b\b\b\b\b\b\b\b\b\b\b                               \b\b\b\b\b\b\b\b\b\b\b\b\b\b\b\b\b\b\b\b\b\b\b\b\b\b\b\b\b\b\b 64% 66325 - nachos/1930360.jpg\b\b\b\b\b\b\b\b\b\b\b\b\b\b\b\b\b\b\b\b\b\b\b\b\b\b\b\b\b\b\b                               \b\b\b\b\b\b\b\b\b\b\b\b\b\b\b\b\b\b\b\b\b\b\b\b\b\b\b\b\b\b\b 64% 66330 - nachos/1944387.jpg\b\b\b\b\b\b\b\b\b\b\b\b\b\b\b\b\b\b\b\b\b\b\b\b\b\b\b\b\b\b\b                               \b\b\b\b\b\b\b\b\b\b\b\b\b\b\b\b\b\b\b\b\b\b\b\b\b\b\b\b\b\b\b 64% 66334 - nachos/1951620.jpg\b\b\b\b\b\b\b\b\b\b\b\b\b\b\b\b\b\b\b\b\b\b\b\b\b\b\b\b\b\b\b                               \b\b\b\b\b\b\b\b\b\b\b\b\b\b\b\b\b\b\b\b\b\b\b\b\b\b\b\b\b\b\b 64% 66339 - nachos/197034.jpg\b\b\b\b\b\b\b\b\b\b\b\b\b\b\b\b\b\b\b\b\b\b\b\b\b\b\b\b\b\b                              \b\b\b\b\b\b\b\b\b\b\b\b\b\b\b\b\b\b\b\b\b\b\b\b\b\b\b\b\b\b 64% 66344 - nachos/198664.jpg\b\b\b\b\b\b\b\b\b\b\b\b\b\b\b\b\b\b\b\b\b\b\b\b\b\b\b\b\b\b                              \b\b\b\b\b\b\b\b\b\b\b\b\b\b\b\b\b\b\b\b\b\b\b\b\b\b\b\b\b\b 65% 66467 - nachos/2465420.jpg\b\b\b\b\b\b\b\b\b\b\b\b\b\b\b\b\b\b\b\b\b\b\b\b\b\b\b\b\b\b\b                               \b\b\b\b\b\b\b\b\b\b\b\b\b\b\b\b\b\b\b\b\b\b\b\b\b\b\b\b\b\b\b 65% 66583 - nachos/2887448.jpg\b\b\b\b\b\b\b\b\b\b\b\b\b\b\b\b\b\b\b\b\b\b\b\b\b\b\b\b\b\b\b                               \b\b\b\b\b\b\b\b\b\b\b\b\b\b\b\b\b\b\b\b\b\b\b\b\b\b\b\b\b\b\b 65% 66686 - nachos/3264375.jpg\b\b\b\b\b\b\b\b\b\b\b\b\b\b\b\b\b\b\b\b\b\b\b\b\b\b\b\b\b\b\b                               \b\b\b\b\b\b\b\b\b\b\b\b\b\b\b\b\b\b\b\b\b\b\b\b\b\b\b\b\b\b\b 65% 66793 - nachos/3570145.jpg\b\b\b\b\b\b\b\b\b\b\b\b\b\b\b\b\b\b\b\b\b\b\b\b\b\b\b\b\b\b\b                               \b\b\b\b\b\b\b\b\b\b\b\b\b\b\b\b\b\b\b\b\b\b\b\b\b\b\b\b\b\b\b 65% 66891 - nachos/42294.jpg\b\b\b\b\b\b\b\b\b\b\b\b\b\b\b\b\b\b\b\b\b\b\b\b\b\b\b\b\b                             \b\b\b\b\b\b\b\b\b\b\b\b\b\b\b\b\b\b\b\b\b\b\b\b\b\b\b\b\b 65% 66984 - nachos/79004.jpg\b\b\b\b\b\b\b\b\b\b\b\b\b\b\b\b\b\b\b\b\b\b\b\b\b\b\b\b\b                             \b\b\b\b\b\b\b\b\b\b\b\b\b\b\b\b\b\b\b\b\b\b\b\b\b\b\b\b\b 65% 67054 - nachos/983209.jpg\b\b\b\b\b\b\b\b\b\b\b\b\b\b\b\b\b\b\b\b\b\b\b\b\b\b\b\b\b\b                              \b\b\b\b\b\b\b\b\b\b\b\b\b\b\b\b\b\b\b\b\b\b\b\b\b\b\b\b\b\b 65% 67314 - omelette/1919620.jpg\b\b\b\b\b\b\b\b\b\b\b\b\b\b\b\b\b\b\b\b\b\b\b\b\b\b\b\b\b\b\b\b\b                                 \b\b\b\b\b\b\b\b\b\b\b\b\b\b\b\b\b\b\b\b\b\b\b\b\b\b\b\b\b\b\b\b\b 66% 67507 - omelette/2599313.jpg\b\b\b\b\b\b\b\b\b\b\b\b\b\b\b\b\b\b\b\b\b\b\b\b\b\b\b\b\b\b\b\b\b                                 \b\b\b\b\b\b\b\b\b\b\b\b\b\b\b\b\b\b\b\b\b\b\b\b\b\b\b\b\b\b\b\b\b 66% 67679 - omelette/3222802.jpg\b\b\b\b\b\b\b\b\b\b\b\b\b\b\b\b\b\b\b\b\b\b\b\b\b\b\b\b\b\b\b\b\b                                 \b\b\b\b\b\b\b\b\b\b\b\b\b\b\b\b\b\b\b\b\b\b\b\b\b\b\b\b\b\b\b\b\b 66% 67829 - omelette/3789818.jpg\b\b\b\b\b\b\b\b\b\b\b\b\b\b\b\b\b\b\b\b\b\b\b\b\b\b\b\b\b\b\b\b\b                                 \b\b\b\b\b\b\b\b\b\b\b\b\b\b\b\b\b\b\b\b\b\b\b\b\b\b\b\b\b\b\b\b\b 66% 67964 - omelette/629164.jpg\b\b\b\b\b\b\b\b\b\b\b\b\b\b\b\b\b\b\b\b\b\b\b\b\b\b\b\b\b\b\b\b                                \b\b\b\b\b\b\b\b\b\b\b\b\b\b\b\b\b\b\b\b\b\b\b\b\b\b\b\b\b\b\b\b 66% 68099 - onion_rings/1121509.jpg\b\b\b\b\b\b\b\b\b\b\b\b\b\b\b\b\b\b\b\b\b\b\b\b\b\b\b\b\b\b\b\b\b\b\b\b                                    \b\b\b\b\b\b\b\b\b\b\b\b\b\b\b\b\b\b\b\b\b\b\b\b\b\b\b\b\b\b\b\b\b\b\b\b 66% 68228 - onion_rings/1585332.jpg\b\b\b\b\b\b\b\b\b\b\b\b\b\b\b\b\b\b\b\b\b\b\b\b\b\b\b\b\b\b\b\b\b\b\b\b                                    \b\b\b\b\b\b\b\b\b\b\b\b\b\b\b\b\b\b\b\b\b\b\b\b\b\b\b\b\b\b\b\b\b\b\b\b 67% 68353 - onion_rings/2020560.jpg\b\b\b\b\b\b\b\b\b\b\b\b\b\b\b\b\b\b\b\b\b\b\b\b\b\b\b\b\b\b\b\b\b\b\b\b                                    \b\b\b\b\b\b\b\b\b\b\b\b\b\b\b\b\b\b\b\b\b\b\b\b\b\b\b\b\b\b\b\b\b\b\b\b 67% 68469 - onion_rings/2411104.jpg\b\b\b\b\b\b\b\b\b\b\b\b\b\b\b\b\b\b\b\b\b\b\b\b\b\b\b\b\b\b\b\b\b\b\b\b                                    \b\b\b\b\b\b\b\b\b\b\b\b\b\b\b\b\b\b\b\b\b\b\b\b\b\b\b\b\b\b\b\b\b\b\b\b 67% 68581 - onion_rings/2788959.jpg\b\b\b\b\b\b\b\b\b\b\b\b\b\b\b\b\b\b\b\b\b\b\b\b\b\b\b\b\b\b\b\b\b\b\b\b                                    \b\b\b\b\b\b\b\b\b\b\b\b\b\b\b\b\b\b\b\b\b\b\b\b\b\b\b\b\b\b\b\b\b\b\b\b 67% 68728 - onion_rings/3312655.jpg\b\b\b\b\b\b\b\b\b\b\b\b\b\b\b\b\b\b\b\b\b\b\b\b\b\b\b\b\b\b\b\b\b\b\b\b                                    \b\b\b\b\b\b\b\b\b\b\b\b\b\b\b\b\b\b\b\b\b\b\b\b\b\b\b\b\b\b\b\b\b\b\b\b 67% 68897 - onion_rings/424377.jpg\b\b\b\b\b\b\b\b\b\b\b\b\b\b\b\b\b\b\b\b\b\b\b\b\b\b\b\b\b\b\b\b\b\b\b                                   \b\b\b\b\b\b\b\b\b\b\b\b\b\b\b\b\b\b\b\b\b\b\b\b\b\b\b\b\b\b\b\b\b\b\b 67% 69049 - onion_rings/93684.jpg\b\b\b\b\b\b\b\b\b\b\b\b\b\b\b\b\b\b\b\b\b\b\b\b\b\b\b\b\b\b\b\b\b\b                                  \b\b\b\b\b\b\b\b\b\b\b\b\b\b\b\b\b\b\b\b\b\b\b\b\b\b\b\b\b\b\b\b\b\b 67% 69180 - oysters/1503723.jpg\b\b\b\b\b\b\b\b\b\b\b\b\b\b\b\b\b\b\b\b\b\b\b\b\b\b\b\b\b\b\b\b                                \b\b\b\b\b\b\b\b\b\b\b\b\b\b\b\b\b\b\b\b\b\b\b\b\b\b\b\b\b\b\b\b 67% 69326 - oysters/2014858.jpg\b\b\b\b\b\b\b\b\b\b\b\b\b\b\b\b\b\b\b\b\b\b\b\b\b\b\b\b\b\b\b\b                                \b\b\b\b\b\b\b\b\b\b\b\b\b\b\b\b\b\b\b\b\b\b\b\b\b\b\b\b\b\b\b\b 68% 69489 - oysters/2673668.jpg\b\b\b\b\b\b\b\b\b\b\b\b\b\b\b\b\b\b\b\b\b\b\b\b\b\b\b\b\b\b\b\b                                \b\b\b\b\b\b\b\b\b\b\b\b\b\b\b\b\b\b\b\b\b\b\b\b\b\b\b\b\b\b\b\b 68% 69847 - oysters/3798362.jpg\b\b\b\b\b\b\b\b\b\b\b\b\b\b\b\b\b\b\b\b\b\b\b\b\b\b\b\b\b\b\b\b                                \b\b\b\b\b\b\b\b\b\b\b\b\b\b\b\b\b\b\b\b\b\b\b\b\b\b\b\b\b\b\b\b 69% 70336 - pad_thai/1840017.jpg\b\b\b\b\b\b\b\b\b\b\b\b\b\b\b\b\b\b\b\b\b\b\b\b\b\b\b\b\b\b\b\b\b                                 \b\b\b\b\b\b\b\b\b\b\b\b\b\b\b\b\b\b\b\b\b\b\b\b\b\b\b\b\b\b\b\b\b 69% 70804 - pad_thai/3551397.jpg\b\b\b\b\b\b\b\b\b\b\b\b\b\b\b\b\b\b\b\b\b\b\b\b\b\b\b\b\b\b\b\b\b                                 \b\b\b\b\b\b\b\b\b\b\b\b\b\b\b\b\b\b\b\b\b\b\b\b\b\b\b\b\b\b\b\b\b 69% 71106 - paella/1136708.jpg\b\b\b\b\b\b\b\b\b\b\b\b\b\b\b\b\b\b\b\b\b\b\b\b\b\b\b\b\b\b\b                               \b\b\b\b\b\b\b\b\b\b\b\b\b\b\b\b\b\b\b\b\b\b\b\b\b\b\b\b\b\b\b 70% 71203 - paella/1465685.jpg\b\b\b\b\b\b\b\b\b\b\b\b\b\b\b\b\b\b\b\b\b\b\b\b\b\b\b\b\b\b\b                               \b\b\b\b\b\b\b\b\b\b\b\b\b\b\b\b\b\b\b\b\b\b\b\b\b\b\b\b\b\b\b 70% 71328 - paella/1840506.jpg\b\b\b\b\b\b\b\b\b\b\b\b\b\b\b\b\b\b\b\b\b\b\b\b\b\b\b\b\b\b\b                               \b\b\b\b\b\b\b\b\b\b\b\b\b\b\b\b\b\b\b\b\b\b\b\b\b\b\b\b\b\b\b 70% 71455 - paella/2314677.jpg\b\b\b\b\b\b\b\b\b\b\b\b\b\b\b\b\b\b\b\b\b\b\b\b\b\b\b\b\b\b\b                               \b\b\b\b\b\b\b\b\b\b\b\b\b\b\b\b\b\b\b\b\b\b\b\b\b\b\b\b\b\b\b 70% 71587 - paella/2740610.jpg\b\b\b\b\b\b\b\b\b\b\b\b\b\b\b\b\b\b\b\b\b\b\b\b\b\b\b\b\b\b\b                               \b\b\b\b\b\b\b\b\b\b\b\b\b\b\b\b\b\b\b\b\b\b\b\b\b\b\b\b\b\b\b 70% 71597 - paella/2785555.jpg\b\b\b\b\b\b\b\b\b\b\b\b\b\b\b\b\b\b\b\b\b\b\b\b\b\b\b\b\b\b\b                               \b\b\b\b\b\b\b\b\b\b\b\b\b\b\b\b\b\b\b\b\b\b\b\b\b\b\b\b\b\b\b 70% 72009 - paella/761749.jpg\b\b\b\b\b\b\b\b\b\b\b\b\b\b\b\b\b\b\b\b\b\b\b\b\b\b\b\b\b\b                              \b\b\b\b\b\b\b\b\b\b\b\b\b\b\b\b\b\b\b\b\b\b\b\b\b\b\b\b\b\b 71% 72319 - pancakes/1977776.jpg\b\b\b\b\b\b\b\b\b\b\b\b\b\b\b\b\b\b\b\b\b\b\b\b\b\b\b\b\b\b\b\b\b                                 \b\b\b\b\b\b\b\b\b\b\b\b\b\b\b\b\b\b\b\b\b\b\b\b\b\b\b\b\b\b\b\b\b 71% 72349 - pancakes/2092436.jpg\b\b\b\b\b\b\b\b\b\b\b\b\b\b\b\b\b\b\b\b\b\b\b\b\b\b\b\b\b\b\b\b\b                                 \b\b\b\b\b\b\b\b\b\b\b\b\b\b\b\b\b\b\b\b\b\b\b\b\b\b\b\b\b\b\b\b\b 71% 72354 - pancakes/2113547.jpg\b\b\b\b\b\b\b\b\b\b\b\b\b\b\b\b\b\b\b\b\b\b\b\b\b\b\b\b\b\b\b\b\b                                 \b\b\b\b\b\b\b\b\b\b\b\b\b\b\b\b\b\b\b\b\b\b\b\b\b\b\b\b\b\b\b\b\b 71% 72359 - pancakes/2131512.jpg\b\b\b\b\b\b\b\b\b\b\b\b\b\b\b\b\b\b\b\b\b\b\b\b\b\b\b\b\b\b\b\b\b                                 \b\b\b\b\b\b\b\b\b\b\b\b\b\b\b\b\b\b\b\b\b\b\b\b\b\b\b\b\b\b\b\b\b 71% 72491 - pancakes/2619752.jpg\b\b\b\b\b\b\b\b\b\b\b\b\b\b\b\b\b\b\b\b\b\b\b\b\b\b\b\b\b\b\b\b\b                                 \b\b\b\b\b\b\b\b\b\b\b\b\b\b\b\b\b\b\b\b\b\b\b\b\b\b\b\b\b\b\b\b\b 71% 72961 - pancakes/679046.jpg\b\b\b\b\b\b\b\b\b\b\b\b\b\b\b\b\b\b\b\b\b\b\b\b\b\b\b\b\b\b\b\b                                \b\b\b\b\b\b\b\b\b\b\b\b\b\b\b\b\b\b\b\b\b\b\b\b\b\b\b\b\b\b\b\b 72% 73073 - panna_cotta\b\b\b\b\b\b\b\b\b\b\b\b\b\b\b\b\b\b\b\b\b\b\b\b                        \b\b\b\b\b\b\b\b\b\b\b\b\b\b\b\b\b\b\b\b\b\b\b\b 72% 73765 - panna_cotta/3435353.jpg\b\b\b\b\b\b\b\b\b\b\b\b\b\b\b\b\b\b\b\b\b\b\b\b\b\b\b\b\b\b\b\b\b\b\b\b                                    \b\b\b\b\b\b\b\b\b\b\b\b\b\b\b\b\b\b\b\b\b\b\b\b\b\b\b\b\b\b\b\b\b\b\b\b 72% 73972 - panna_cotta/559264.jpg\b\b\b\b\b\b\b\b\b\b\b\b\b\b\b\b\b\b\b\b\b\b\b\b\b\b\b\b\b\b\b\b\b\b\b                                   \b\b\b\b\b\b\b\b\b\b\b\b\b\b\b\b\b\b\b\b\b\b\b\b\b\b\b\b\b\b\b\b\b\b\b 72% 74074 - peking_duck\b\b\b\b\b\b\b\b\b\b\b\b\b\b\b\b\b\b\b\b\b\b\b\b                        \b\b\b\b\b\b\b\b\b\b\b\b\b\b\b\b\b\b\b\b\b\b\b\b 73% 74369 - peking_duck/2070169.jpg\b\b\b\b\b\b\b\b\b\b\b\b\b\b\b\b\b\b\b\b\b\b\b\b\b\b\b\b\b\b\b\b\b\b\b\b                                    \b\b\b\b\b\b\b\b\b\b\b\b\b\b\b\b\b\b\b\b\b\b\b\b\b\b\b\b\b\b\b\b\b\b\b\b 73% 74503 - peking_duck/2588312.jpg\b\b\b\b\b\b\b\b\b\b\b\b\b\b\b\b\b\b\b\b\b\b\b\b\b\b\b\b\b\b\b\b\b\b\b\b                                    \b\b\b\b\b\b\b\b\b\b\b\b\b\b\b\b\b\b\b\b\b\b\b\b\b\b\b\b\b\b\b\b\b\b\b\b 73% 74637 - peking_duck/2992004.jpg\b\b\b\b\b\b\b\b\b\b\b\b\b\b\b\b\b\b\b\b\b\b\b\b\b\b\b\b\b\b\b\b\b\b\b\b                                    \b\b\b\b\b\b\b\b\b\b\b\b\b\b\b\b\b\b\b\b\b\b\b\b\b\b\b\b\b\b\b\b\b\b\b\b 73% 74760 - peking_duck/3418768.jpg\b\b\b\b\b\b\b\b\b\b\b\b\b\b\b\b\b\b\b\b\b\b\b\b\b\b\b\b\b\b\b\b\b\b\b\b                                    \b\b\b\b\b\b\b\b\b\b\b\b\b\b\b\b\b\b\b\b\b\b\b\b\b\b\b\b\b\b\b\b\b\b\b\b 73% 74886 - peking_duck/401008.jpg\b\b\b\b\b\b\b\b\b\b\b\b\b\b\b\b\b\b\b\b\b\b\b\b\b\b\b\b\b\b\b\b\b\b\b                                   \b\b\b\b\b\b\b\b\b\b\b\b\b\b\b\b\b\b\b\b\b\b\b\b\b\b\b\b\b\b\b\b\b\b\b 73% 75019 - peking_duck/804293.jpg\b\b\b\b\b\b\b\b\b\b\b\b\b\b\b\b\b\b\b\b\b\b\b\b\b\b\b\b\b\b\b\b\b\b\b                                   \b\b\b\b\b\b\b\b\b\b\b\b\b\b\b\b\b\b\b\b\b\b\b\b\b\b\b\b\b\b\b\b\b\b\b 74% 75147 - pho/1224079.jpg\b\b\b\b\b\b\b\b\b\b\b\b\b\b\b\b\b\b\b\b\b\b\b\b\b\b\b\b                            \b\b\b\b\b\b\b\b\b\b\b\b\b\b\b\b\b\b\b\b\b\b\b\b\b\b\b\b 74% 75276 - pho/1670678.jpg\b\b\b\b\b\b\b\b\b\b\b\b\b\b\b\b\b\b\b\b\b\b\b\b\b\b\b\b                            \b\b\b\b\b\b\b\b\b\b\b\b\b\b\b\b\b\b\b\b\b\b\b\b\b\b\b\b 74% 75403 - pho/223558.jpg\b\b\b\b\b\b\b\b\b\b\b\b\b\b\b\b\b\b\b\b\b\b\b\b\b\b\b                           \b\b\b\b\b\b\b\b\b\b\b\b\b\b\b\b\b\b\b\b\b\b\b\b\b\b\b 74% 75413 - pho/2286575.jpg\b\b\b\b\b\b\b\b\b\b\b\b\b\b\b\b\b\b\b\b\b\b\b\b\b\b\b\b                            \b\b\b\b\b\b\b\b\b\b\b\b\b\b\b\b\b\b\b\b\b\b\b\b\b\b\b\b 74% 75415 - pho/2304947.jpg\b\b\b\b\b\b\b\b\b\b\b\b\b\b\b\b\b\b\b\b\b\b\b\b\b\b\b\b                            \b\b\b\b\b\b\b\b\b\b\b\b\b\b\b\b\b\b\b\b\b\b\b\b\b\b\b\b 74% 75418 - pho/2314570.jpg\b\b\b\b\b\b\b\b\b\b\b\b\b\b\b\b\b\b\b\b\b\b\b\b\b\b\b\b                            \b\b\b\b\b\b\b\b\b\b\b\b\b\b\b\b\b\b\b\b\b\b\b\b\b\b\b\b 74% 75420 - pho/232553.jpg\b\b\b\b\b\b\b\b\b\b\b\b\b\b\b\b\b\b\b\b\b\b\b\b\b\b\b                           \b\b\b\b\b\b\b\b\b\b\b\b\b\b\b\b\b\b\b\b\b\b\b\b\b\b\b 74% 75422 - pho/233064.jpg\b\b\b\b\b\b\b\b\b\b\b\b\b\b\b\b\b\b\b\b\b\b\b\b\b\b\b                           \b\b\b\b\b\b\b\b\b\b\b\b\b\b\b\b\b\b\b\b\b\b\b\b\b\b\b 74% 75545 - pho/2804682.jpg\b\b\b\b\b\b\b\b\b\b\b\b\b\b\b\b\b\b\b\b\b\b\b\b\b\b\b\b                            \b\b\b\b\b\b\b\b\b\b\b\b\b\b\b\b\b\b\b\b\b\b\b\b\b\b\b\b 74% 75674 - pho/3224502.jpg\b\b\b\b\b\b\b\b\b\b\b\b\b\b\b\b\b\b\b\b\b\b\b\b\b\b\b\b                            \b\b\b\b\b\b\b\b\b\b\b\b\b\b\b\b\b\b\b\b\b\b\b\b\b\b\b\b 74% 75794 - pho/3741977.jpg\b\b\b\b\b\b\b\b\b\b\b\b\b\b\b\b\b\b\b\b\b\b\b\b\b\b\b\b                            \b\b\b\b\b\b\b\b\b\b\b\b\b\b\b\b\b\b\b\b\b\b\b\b\b\b\b\b 74% 75915 - pho/542087.jpg\b\b\b\b\b\b\b\b\b\b\b\b\b\b\b\b\b\b\b\b\b\b\b\b\b\b\b                           \b\b\b\b\b\b\b\b\b\b\b\b\b\b\b\b\b\b\b\b\b\b\b\b\b\b\b 74% 76029 - pho/874744.jpg\b\b\b\b\b\b\b\b\b\b\b\b\b\b\b\b\b\b\b\b\b\b\b\b\b\b\b                           \b\b\b\b\b\b\b\b\b\b\b\b\b\b\b\b\b\b\b\b\b\b\b\b\b\b\b 74% 76076 - pizza\b\b\b\b\b\b\b\b\b\b\b\b\b\b\b\b\b\b                  \b\b\b\b\b\b\b\b\b\b\b\b\b\b\b\b\b\b 75% 76153 - pizza/1265335.jpg\b\b\b\b\b\b\b\b\b\b\b\b\b\b\b\b\b\b\b\b\b\b\b\b\b\b\b\b\b\b                              \b\b\b\b\b\b\b\b\b\b\b\b\b\b\b\b\b\b\b\b\b\b\b\b\b\b\b\b\b\b 75% 76445 - pizza/2361973.jpg\b\b\b\b\b\b\b\b\b\b\b\b\b\b\b\b\b\b\b\b\b\b\b\b\b\b\b\b\b\b                              \b\b\b\b\b\b\b\b\b\b\b\b\b\b\b\b\b\b\b\b\b\b\b\b\b\b\b\b\b\b 75% 76765 - pizza/3581181.jpg\b\b\b\b\b\b\b\b\b\b\b\b\b\b\b\b\b\b\b\b\b\b\b\b\b\b\b\b\b\b                              \b\b\b\b\b\b\b\b\b\b\b\b\b\b\b\b\b\b\b\b\b\b\b\b\b\b\b\b\b\b 76% 77074 - pizza/99604.jpg\b\b\b\b\b\b\b\b\b\b\b\b\b\b\b\b\b\b\b\b\b\b\b\b\b\b\b\b                            \b\b\b\b\b\b\b\b\b\b\b\b\b\b\b\b\b\b\b\b\b\b\b\b\b\b\b\b 76% 77274 - pork_chop/170470.jpg\b\b\b\b\b\b\b\b\b\b\b\b\b\b\b\b\b\b\b\b\b\b\b\b\b\b\b\b\b\b\b\b\b                                 \b\b\b\b\b\b\b\b\b\b\b\b\b\b\b\b\b\b\b\b\b\b\b\b\b\b\b\b\b\b\b\b\b 76% 77280 - pork_chop/1714213.jpg\b\b\b\b\b\b\b\b\b\b\b\b\b\b\b\b\b\b\b\b\b\b\b\b\b\b\b\b\b\b\b\b\b\b                                  \b\b\b\b\b\b\b\b\b\b\b\b\b\b\b\b\b\b\b\b\b\b\b\b\b\b\b\b\b\b\b\b\b\b 76% 77456 - pork_chop/240531.jpg\b\b\b\b\b\b\b\b\b\b\b\b\b\b\b\b\b\b\b\b\b\b\b\b\b\b\b\b\b\b\b\b\b                                 \b\b\b\b\b\b\b\b\b\b\b\b\b\b\b\b\b\b\b\b\b\b\b\b\b\b\b\b\b\b\b\b\b 76% 77458 - pork_chop/2416364.jpg\b\b\b\b\b\b\b\b\b\b\b\b\b\b\b\b\b\b\b\b\b\b\b\b\b\b\b\b\b\b\b\b\b\b                                  \b\b\b\b\b\b\b\b\b\b\b\b\b\b\b\b\b\b\b\b\b\b\b\b\b\b\b\b\b\b\b\b\b\b 76% 77460 - pork_chop/24178.jpg\b\b\b\b\b\b\b\b\b\b\b\b\b\b\b\b\b\b\b\b\b\b\b\b\b\b\b\b\b\b\b\b                                \b\b\b\b\b\b\b\b\b\b\b\b\b\b\b\b\b\b\b\b\b\b\b\b\b\b\b\b\b\b\b\b 76% 77538 - pork_chop/2694388.jpg\b\b\b\b\b\b\b\b\b\b\b\b\b\b\b\b\b\b\b\b\b\b\b\b\b\b\b\b\b\b\b\b\b\b                                  \b\b\b\b\b\b\b\b\b\b\b\b\b\b\b\b\b\b\b\b\b\b\b\b\b\b\b\b\b\b\b\b\b\b 76% 77632 - pork_chop/300422.jpg\b\b\b\b\b\b\b\b\b\b\b\b\b\b\b\b\b\b\b\b\b\b\b\b\b\b\b\b\b\b\b\b\b                                 \b\b\b\b\b\b\b\b\b\b\b\b\b\b\b\b\b\b\b\b\b\b\b\b\b\b\b\b\b\b\b\b\b 76% 77761 - pork_chop/3494894.jpg\b\b\b\b\b\b\b\b\b\b\b\b\b\b\b\b\b\b\b\b\b\b\b\b\b\b\b\b\b\b\b\b\b\b                                  \b\b\b\b\b\b\b\b\b\b\b\b\b\b\b\b\b\b\b\b\b\b\b\b\b\b\b\b\b\b\b\b\b\b 76% 77883 - pork_chop/3900236.jpg\b\b\b\b\b\b\b\b\b\b\b\b\b\b\b\b\b\b\b\b\b\b\b\b\b\b\b\b\b\b\b\b\b\b                                  \b\b\b\b\b\b\b\b\b\b\b\b\b\b\b\b\b\b\b\b\b\b\b\b\b\b\b\b\b\b\b\b\b\b 77% 78308 - poutine/1808692.jpg\b\b\b\b\b\b\b\b\b\b\b\b\b\b\b\b\b\b\b\b\b\b\b\b\b\b\b\b\b\b\b\b                                \b\b\b\b\b\b\b\b\b\b\b\b\b\b\b\b\b\b\b\b\b\b\b\b\b\b\b\b\b\b\b\b 77% 78778 - poutine/3630480.jpg\b\b\b\b\b\b\b\b\b\b\b\b\b\b\b\b\b\b\b\b\b\b\b\b\b\b\b\b\b\b\b\b                                \b\b\b\b\b\b\b\b\b\b\b\b\b\b\b\b\b\b\b\b\b\b\b\b\b\b\b\b\b\b\b\b 78% 79218 - prime_rib/1418080.jpg\b\b\b\b\b\b\b\b\b\b\b\b\b\b\b\b\b\b\b\b\b\b\b\b\b\b\b\b\b\b\b\b\b\b                                  \b\b\b\b\b\b\b\b\b\b\b\b\b\b\b\b\b\b\b\b\b\b\b\b\b\b\b\b\b\b\b\b\b\b 78% 79323 - prime_rib/1757065.jpg\b\b\b\b\b\b\b\b\b\b\b\b\b\b\b\b\b\b\b\b\b\b\b\b\b\b\b\b\b\b\b\b\b\b                                  \b\b\b\b\b\b\b\b\b\b\b\b\b\b\b\b\b\b\b\b\b\b\b\b\b\b\b\b\b\b\b\b\b\b 78% 79551 - prime_rib/2732294.jpg\b\b\b\b\b\b\b\b\b\b\b\b\b\b\b\b\b\b\b\b\b\b\b\b\b\b\b\b\b\b\b\b\b\b                                  \b\b\b\b\b\b\b\b\b\b\b\b\b\b\b\b\b\b\b\b\b\b\b\b\b\b\b\b\b\b\b\b\b\b 79% 79912 - prime_rib/522944.jpg\b\b\b\b\b\b\b\b\b\b\b\b\b\b\b\b\b\b\b\b\b\b\b\b\b\b\b\b\b\b\b\b\b                                 \b\b\b\b\b\b\b\b\b\b\b\b\b\b\b\b\b\b\b\b\b\b\b\b\b\b\b\b\b\b\b\b\b 79% 80080 - pulled_pork_sandwich\b\b\b\b\b\b\b\b\b\b\b\b\b\b\b\b\b\b\b\b\b\b\b\b\b\b\b\b\b\b\b\b\b                                 \b\b\b\b\b\b\b\b\b\b\b\b\b\b\b\b\b\b\b\b\b\b\b\b\b\b\b\b\b\b\b\b\b 79% 80660 - pulled_pork_sandwich/2963974.jpg\b\b\b\b\b\b\b\b\b\b\b\b\b\b\b\b\b\b\b\b\b\b\b\b\b\b\b\b\b\b\b\b\b\b\b\b\b\b\b\b\b\b\b\b\b                                             \b\b\b\b\b\b\b\b\b\b\b\b\b\b\b\b\b\b\b\b\b\b\b\b\b\b\b\b\b\b\b\b\b\b\b\b\b\b\b\b\b\b\b\b\b 80% 81070 - pulled_pork_sandwich/956818.jpg\b\b\b\b\b\b\b\b\b\b\b\b\b\b\b\b\b\b\b\b\b\b\b\b\b\b\b\b\b\b\b\b\b\b\b\b\b\b\b\b\b\b\b\b                                            \b\b\b\b\b\b\b\b\b\b\b\b\b\b\b\b\b\b\b\b\b\b\b\b\b\b\b\b\b\b\b\b\b\b\b\b\b\b\b\b\b\b\b\b 80% 81700 - ramen/3279.jpg\b\b\b\b\b\b\b\b\b\b\b\b\b\b\b\b\b\b\b\b\b\b\b\b\b\b\b                           \b\b\b\b\b\b\b\b\b\b\b\b\b\b\b\b\b\b\b\b\b\b\b\b\b\b\b 81% 81882 - ramen/442091.jpg\b\b\b\b\b\b\b\b\b\b\b\b\b\b\b\b\b\b\b\b\b\b\b\b\b\b\b\b\b                             \b\b\b\b\b\b\b\b\b\b\b\b\b\b\b\b\b\b\b\b\b\b\b\b\b\b\b\b\b 81% 82030 - ramen/766818.jpg\b\b\b\b\b\b\b\b\b\b\b\b\b\b\b\b\b\b\b\b\b\b\b\b\b\b\b\b\b                             \b\b\b\b\b\b\b\b\b\b\b\b\b\b\b\b\b\b\b\b\b\b\b\b\b\b\b\b\b 81% 82598 - ravioli/2822502.jpg\b\b\b\b\b\b\b\b\b\b\b\b\b\b\b\b\b\b\b\b\b\b\b\b\b\b\b\b\b\b\b\b                                \b\b\b\b\b\b\b\b\b\b\b\b\b\b\b\b\b\b\b\b\b\b\b\b\b\b\b\b\b\b\b\b 81% 82626 - ravioli/2920831.jpg\b\b\b\b\b\b\b\b\b\b\b\b\b\b\b\b\b\b\b\b\b\b\b\b\b\b\b\b\b\b\b\b                                \b\b\b\b\b\b\b\b\b\b\b\b\b\b\b\b\b\b\b\b\b\b\b\b\b\b\b\b\b\b\b\b 81% 82632 - ravioli/2937989.jpg\b\b\b\b\b\b\b\b\b\b\b\b\b\b\b\b\b\b\b\b\b\b\b\b\b\b\b\b\b\b\b\b                                \b\b\b\b\b\b\b\b\b\b\b\b\b\b\b\b\b\b\b\b\b\b\b\b\b\b\b\b\b\b\b\b 81% 82637 - ravioli/294428.jpg\b\b\b\b\b\b\b\b\b\b\b\b\b\b\b\b\b\b\b\b\b\b\b\b\b\b\b\b\b\b\b                               \b\b\b\b\b\b\b\b\b\b\b\b\b\b\b\b\b\b\b\b\b\b\b\b\b\b\b\b\b\b\b 81% 82751 - ravioli/332449.jpg\b\b\b\b\b\b\b\b\b\b\b\b\b\b\b\b\b\b\b\b\b\b\b\b\b\b\b\b\b\b\b                               \b\b\b\b\b\b\b\b\b\b\b\b\b\b\b\b\b\b\b\b\b\b\b\b\b\b\b\b\b\b\b 82% 82854 - ravioli/3746517.jpg\b\b\b\b\b\b\b\b\b\b\b\b\b\b\b\b\b\b\b\b\b\b\b\b\b\b\b\b\b\b\b\b                                \b\b\b\b\b\b\b\b\b\b\b\b\b\b\b\b\b\b\b\b\b\b\b\b\b\b\b\b\b\b\b\b 82% 82952 - ravioli/543489.jpg\b\b\b\b\b\b\b\b\b\b\b\b\b\b\b\b\b\b\b\b\b\b\b\b\b\b\b\b\b\b\b                               \b\b\b\b\b\b\b\b\b\b\b\b\b\b\b\b\b\b\b\b\b\b\b\b\b\b\b\b\b\b\b 82% 83044 - ravioli/867355.jpg\b\b\b\b\b\b\b\b\b\b\b\b\b\b\b\b\b\b\b\b\b\b\b\b\b\b\b\b\b\b\b                               \b\b\b\b\b\b\b\b\b\b\b\b\b\b\b\b\b\b\b\b\b\b\b\b\b\b\b\b\b\b\b 82% 83136 - red_velvet_cake/1188544.jpg\b\b\b\b\b\b\b\b\b\b\b\b\b\b\b\b\b\b\b\b\b\b\b\b\b\b\b\b\b\b\b\b\b\b\b\b\b\b\b\b                                        \b\b\b\b\b\b\b\b\b\b\b\b\b\b\b\b\b\b\b\b\b\b\b\b\b\b\b\b\b\b\b\b\b\b\b\b\b\b\b\b 82% 83226 - red_velvet_cake/1477587.jpg\b\b\b\b\b\b\b\b\b\b\b\b\b\b\b\b\b\b\b\b\b\b\b\b\b\b\b\b\b\b\b\b\b\b\b\b\b\b\b\b                                        \b\b\b\b\b\b\b\b\b\b\b\b\b\b\b\b\b\b\b\b\b\b\b\b\b\b\b\b\b\b\b\b\b\b\b\b\b\b\b\b 82% 83318 - red_velvet_cake/1802478.jpg\b\b\b\b\b\b\b\b\b\b\b\b\b\b\b\b\b\b\b\b\b\b\b\b\b\b\b\b\b\b\b\b\b\b\b\b\b\b\b\b                                        \b\b\b\b\b\b\b\b\b\b\b\b\b\b\b\b\b\b\b\b\b\b\b\b\b\b\b\b\b\b\b\b\b\b\b\b\b\b\b\b 82% 83403 - red_velvet_cake/2047723.jpg\b\b\b\b\b\b\b\b\b\b\b\b\b\b\b\b\b\b\b\b\b\b\b\b\b\b\b\b\b\b\b\b\b\b\b\b\b\b\b\b                                        \b\b\b\b\b\b\b\b\b\b\b\b\b\b\b\b\b\b\b\b\b\b\b\b\b\b\b\b\b\b\b\b\b\b\b\b\b\b\b\b 82% 83508 - red_velvet_cake/2365321.jpg\b\b\b\b\b\b\b\b\b\b\b\b\b\b\b\b\b\b\b\b\b\b\b\b\b\b\b\b\b\b\b\b\b\b\b\b\b\b\b\b                                        \b\b\b\b\b\b\b\b\b\b\b\b\b\b\b\b\b\b\b\b\b\b\b\b\b\b\b\b\b\b\b\b\b\b\b\b\b\b\b\b 82% 83625 - red_velvet_cake/2764455.jpg\b\b\b\b\b\b\b\b\b\b\b\b\b\b\b\b\b\b\b\b\b\b\b\b\b\b\b\b\b\b\b\b\b\b\b\b\b\b\b\b                                        \b\b\b\b\b\b\b\b\b\b\b\b\b\b\b\b\b\b\b\b\b\b\b\b\b\b\b\b\b\b\b\b\b\b\b\b\b\b\b\b 82% 83659 - red_velvet_cake/2866582.jpg\b\b\b\b\b\b\b\b\b\b\b\b\b\b\b\b\b\b\b\b\b\b\b\b\b\b\b\b\b\b\b\b\b\b\b\b\b\b\b\b                                        \b\b\b\b\b\b\b\b\b\b\b\b\b\b\b\b\b\b\b\b\b\b\b\b\b\b\b\b\b\b\b\b\b\b\b\b\b\b\b\b 82% 83664 - red_velvet_cake/2874899.jpg\b\b\b\b\b\b\b\b\b\b\b\b\b\b\b\b\b\b\b\b\b\b\b\b\b\b\b\b\b\b\b\b\b\b\b\b\b\b\b\b                                        \b\b\b\b\b\b\b\b\b\b\b\b\b\b\b\b\b\b\b\b\b\b\b\b\b\b\b\b\b\b\b\b\b\b\b\b\b\b\b\b 82% 83676 - red_velvet_cake/2905640.jpg\b\b\b\b\b\b\b\b\b\b\b\b\b\b\b\b\b\b\b\b\b\b\b\b\b\b\b\b\b\b\b\b\b\b\b\b\b\b\b\b                                        \b\b\b\b\b\b\b\b\b\b\b\b\b\b\b\b\b\b\b\b\b\b\b\b\b\b\b\b\b\b\b\b\b\b\b\b\b\b\b\b 82% 83681 - red_velvet_cake/2922858.jpg\b\b\b\b\b\b\b\b\b\b\b\b\b\b\b\b\b\b\b\b\b\b\b\b\b\b\b\b\b\b\b\b\b\b\b\b\b\b\b\b                                        \b\b\b\b\b\b\b\b\b\b\b\b\b\b\b\b\b\b\b\b\b\b\b\b\b\b\b\b\b\b\b\b\b\b\b\b\b\b\b\b 82% 83687 - red_velvet_cake/2937913.jpg\b\b\b\b\b\b\b\b\b\b\b\b\b\b\b\b\b\b\b\b\b\b\b\b\b\b\b\b\b\b\b\b\b\b\b\b\b\b\b\b                                        \b\b\b\b\b\b\b\b\b\b\b\b\b\b\b\b\b\b\b\b\b\b\b\b\b\b\b\b\b\b\b\b\b\b\b\b\b\b\b\b 82% 83694 - red_velvet_cake/2951504.jpg\b\b\b\b\b\b\b\b\b\b\b\b\b\b\b\b\b\b\b\b\b\b\b\b\b\b\b\b\b\b\b\b\b\b\b\b\b\b\b\b                                        \b\b\b\b\b\b\b\b\b\b\b\b\b\b\b\b\b\b\b\b\b\b\b\b\b\b\b\b\b\b\b\b\b\b\b\b\b\b\b\b 83% 84098 - risotto/1046966.jpg\b\b\b\b\b\b\b\b\b\b\b\b\b\b\b\b\b\b\b\b\b\b\b\b\b\b\b\b\b\b\b\b                                \b\b\b\b\b\b\b\b\b\b\b\b\b\b\b\b\b\b\b\b\b\b\b\b\b\b\b\b\b\b\b\b 83% 84232 - risotto/1608246.jpg\b\b\b\b\b\b\b\b\b\b\b\b\b\b\b\b\b\b\b\b\b\b\b\b\b\b\b\b\b\b\b\b                                \b\b\b\b\b\b\b\b\b\b\b\b\b\b\b\b\b\b\b\b\b\b\b\b\b\b\b\b\b\b\b\b 83% 84365 - risotto/2036021.jpg\b\b\b\b\b\b\b\b\b\b\b\b\b\b\b\b\b\b\b\b\b\b\b\b\b\b\b\b\b\b\b\b                                \b\b\b\b\b\b\b\b\b\b\b\b\b\b\b\b\b\b\b\b\b\b\b\b\b\b\b\b\b\b\b\b 83% 84465 - risotto/23508.jpg\b\b\b\b\b\b\b\b\b\b\b\b\b\b\b\b\b\b\b\b\b\b\b\b\b\b\b\b\b\b                              \b\b\b\b\b\b\b\b\b\b\b\b\b\b\b\b\b\b\b\b\b\b\b\b\b\b\b\b\b\b 83% 84533 - risotto/2563230.jpg\b\b\b\b\b\b\b\b\b\b\b\b\b\b\b\b\b\b\b\b\b\b\b\b\b\b\b\b\b\b\b\b                                \b\b\b\b\b\b\b\b\b\b\b\b\b\b\b\b\b\b\b\b\b\b\b\b\b\b\b\b\b\b\b\b 83% 84600 - risotto/2779663.jpg\b\b\b\b\b\b\b\b\b\b\b\b\b\b\b\b\b\b\b\b\b\b\b\b\b\b\b\b\b\b\b\b                                \b\b\b\b\b\b\b\b\b\b\b\b\b\b\b\b\b\b\b\b\b\b\b\b\b\b\b\b\b\b\b\b 83% 84665 - risotto/3031072.jpg\b\b\b\b\b\b\b\b\b\b\b\b\b\b\b\b\b\b\b\b\b\b\b\b\b\b\b\b\b\b\b\b                                \b\b\b\b\b\b\b\b\b\b\b\b\b\b\b\b\b\b\b\b\b\b\b\b\b\b\b\b\b\b\b\b 83% 84732 - risotto/3216196.jpg\b\b\b\b\b\b\b\b\b\b\b\b\b\b\b\b\b\b\b\b\b\b\b\b\b\b\b\b\b\b\b\b                                \b\b\b\b\b\b\b\b\b\b\b\b\b\b\b\b\b\b\b\b\b\b\b\b\b\b\b\b\b\b\b\b 83% 84742 - risotto/3252311.jpg\b\b\b\b\b\b\b\b\b\b\b\b\b\b\b\b\b\b\b\b\b\b\b\b\b\b\b\b\b\b\b\b                                \b\b\b\b\b\b\b\b\b\b\b\b\b\b\b\b\b\b\b\b\b\b\b\b\b\b\b\b\b\b\b\b 84% 85080 - risotto/972980.jpg\b\b\b\b\b\b\b\b\b\b\b\b\b\b\b\b\b\b\b\b\b\b\b\b\b\b\b\b\b\b\b                               \b\b\b\b\b\b\b\b\b\b\b\b\b\b\b\b\b\b\b\b\b\b\b\b\b\b\b\b\b\b\b 84% 85252 - samosa/1683284.jpg\b\b\b\b\b\b\b\b\b\b\b\b\b\b\b\b\b\b\b\b\b\b\b\b\b\b\b\b\b\b\b                               \b\b\b\b\b\b\b\b\b\b\b\b\b\b\b\b\b\b\b\b\b\b\b\b\b\b\b\b\b\b\b 84% 85443 - samosa/2394310.jpg\b\b\b\b\b\b\b\b\b\b\b\b\b\b\b\b\b\b\b\b\b\b\b\b\b\b\b\b\b\b\b                               \b\b\b\b\b\b\b\b\b\b\b\b\b\b\b\b\b\b\b\b\b\b\b\b\b\b\b\b\b\b\b 84% 85903 - samosa/3915060.jpg\b\b\b\b\b\b\b\b\b\b\b\b\b\b\b\b\b\b\b\b\b\b\b\b\b\b\b\b\b\b\b                               \b\b\b\b\b\b\b\b\b\b\b\b\b\b\b\b\b\b\b\b\b\b\b\b\b\b\b\b\b\b\b 85% 86415 - sashimi/2113826.jpg\b\b\b\b\b\b\b\b\b\b\b\b\b\b\b\b\b\b\b\b\b\b\b\b\b\b\b\b\b\b\b\b                                \b\b\b\b\b\b\b\b\b\b\b\b\b\b\b\b\b\b\b\b\b\b\b\b\b\b\b\b\b\b\b\b 85% 86840 - sashimi/3607132.jpg\b\b\b\b\b\b\b\b\b\b\b\b\b\b\b\b\b\b\b\b\b\b\b\b\b\b\b\b\b\b\b\b                                \b\b\b\b\b\b\b\b\b\b\b\b\b\b\b\b\b\b\b\b\b\b\b\b\b\b\b\b\b\b\b\b 86% 87357 - scallops/2003059.jpg\b\b\b\b\b\b\b\b\b\b\b\b\b\b\b\b\b\b\b\b\b\b\b\b\b\b\b\b\b\b\b\b\b                                 \b\b\b\b\b\b\b\b\b\b\b\b\b\b\b\b\b\b\b\b\b\b\b\b\b\b\b\b\b\b\b\b\b 86% 87807 - scallops/3607705.jpg\b\b\b\b\b\b\b\b\b\b\b\b\b\b\b\b\b\b\b\b\b\b\b\b\b\b\b\b\b\b\b\b\b                                 \b\b\b\b\b\b\b\b\b\b\b\b\b\b\b\b\b\b\b\b\b\b\b\b\b\b\b\b\b\b\b\b\b 86% 87899 - scallops/3924720.jpg\b\b\b\b\b\b\b\b\b\b\b\b\b\b\b\b\b\b\b\b\b\b\b\b\b\b\b\b\b\b\b\b\b                                 \b\b\b\b\b\b\b\b\b\b\b\b\b\b\b\b\b\b\b\b\b\b\b\b\b\b\b\b\b\b\b\b\b 86% 87995 - scallops/67010.jpg\b\b\b\b\b\b\b\b\b\b\b\b\b\b\b\b\b\b\b\b\b\b\b\b\b\b\b\b\b\b\b                               \b\b\b\b\b\b\b\b\b\b\b\b\b\b\b\b\b\b\b\b\b\b\b\b\b\b\b\b\b\b\b 86% 88116 - seaweed_salad/1107466.jpg\b\b\b\b\b\b\b\b\b\b\b\b\b\b\b\b\b\b\b\b\b\b\b\b\b\b\b\b\b\b\b\b\b\b\b\b\b\b                                      \b\b\b\b\b\b\b\b\b\b\b\b\b\b\b\b\b\b\b\b\b\b\b\b\b\b\b\b\b\b\b\b\b\b\b\b\b\b 87% 88184 - seaweed_salad/1326835.jpg\b\b\b\b\b\b\b\b\b\b\b\b\b\b\b\b\b\b\b\b\b\b\b\b\b\b\b\b\b\b\b\b\b\b\b\b\b\b                                      \b\b\b\b\b\b\b\b\b\b\b\b\b\b\b\b\b\b\b\b\b\b\b\b\b\b\b\b\b\b\b\b\b\b\b\b\b\b 87% 88189 - seaweed_salad/133480.jpg\b\b\b\b\b\b\b\b\b\b\b\b\b\b\b\b\b\b\b\b\b\b\b\b\b\b\b\b\b\b\b\b\b\b\b\b\b                                     \b\b\b\b\b\b\b\b\b\b\b\b\b\b\b\b\b\b\b\b\b\b\b\b\b\b\b\b\b\b\b\b\b\b\b\b\b 87% 88323 - seaweed_salad/1774743.jpg\b\b\b\b\b\b\b\b\b\b\b\b\b\b\b\b\b\b\b\b\b\b\b\b\b\b\b\b\b\b\b\b\b\b\b\b\b\b                                      \b\b\b\b\b\b\b\b\b\b\b\b\b\b\b\b\b\b\b\b\b\b\b\b\b\b\b\b\b\b\b\b\b\b\b\b\b\b 87% 88493 - seaweed_salad/2338526.jpg\b\b\b\b\b\b\b\b\b\b\b\b\b\b\b\b\b\b\b\b\b\b\b\b\b\b\b\b\b\b\b\b\b\b\b\b\b\b                                      \b\b\b\b\b\b\b\b\b\b\b\b\b\b\b\b\b\b\b\b\b\b\b\b\b\b\b\b\b\b\b\b\b\b\b\b\b\b 87% 88946 - seaweed_salad/585655.jpg\b\b\b\b\b\b\b\b\b\b\b\b\b\b\b\b\b\b\b\b\b\b\b\b\b\b\b\b\b\b\b\b\b\b\b\b\b                                     \b\b\b\b\b\b\b\b\b\b\b\b\b\b\b\b\b\b\b\b\b\b\b\b\b\b\b\b\b\b\b\b\b\b\b\b\b 88% 89556 - shrimp_and_grits/2674149.jpg\b\b\b\b\b\b\b\b\b\b\b\b\b\b\b\b\b\b\b\b\b\b\b\b\b\b\b\b\b\b\b\b\b\b\b\b\b\b\b\b\b                                         \b\b\b\b\b\b\b\b\b\b\b\b\b\b\b\b\b\b\b\b\b\b\b\b\b\b\b\b\b\b\b\b\b\b\b\b\b\b\b\b\b 88% 89874 - shrimp_and_grits/3794352.jpg\b\b\b\b\b\b\b\b\b\b\b\b\b\b\b\b\b\b\b\b\b\b\b\b\b\b\b\b\b\b\b\b\b\b\b\b\b\b\b\b\b                                         \b\b\b\b\b\b\b\b\b\b\b\b\b\b\b\b\b\b\b\b\b\b\b\b\b\b\b\b\b\b\b\b\b\b\b\b\b\b\b\b\b 88% 89953 - shrimp_and_grits/576068.jpg\b\b\b\b\b\b\b\b\b\b\b\b\b\b\b\b\b\b\b\b\b\b\b\b\b\b\b\b\b\b\b\b\b\b\b\b\b\b\b\b                                        \b\b\b\b\b\b\b\b\b\b\b\b\b\b\b\b\b\b\b\b\b\b\b\b\b\b\b\b\b\b\b\b\b\b\b\b\b\b\b\b 88% 90043 - shrimp_and_grits/873056.jpg\b\b\b\b\b\b\b\b\b\b\b\b\b\b\b\b\b\b\b\b\b\b\b\b\b\b\b\b\b\b\b\b\b\b\b\b\b\b\b\b                                        \b\b\b\b\b\b\b\b\b\b\b\b\b\b\b\b\b\b\b\b\b\b\b\b\b\b\b\b\b\b\b\b\b\b\b\b\b\b\b\b 89% 90059 - shrimp_and_grits/90008.jpg\b\b\b\b\b\b\b\b\b\b\b\b\b\b\b\b\b\b\b\b\b\b\b\b\b\b\b\b\b\b\b\b\b\b\b\b\b\b\b                                       \b\b\b\b\b\b\b\b\b\b\b\b\b\b\b\b\b\b\b\b\b\b\b\b\b\b\b\b\b\b\b\b\b\b\b\b\b\b\b 89% 90064 - shrimp_and_grits/917823.jpg\b\b\b\b\b\b\b\b\b\b\b\b\b\b\b\b\b\b\b\b\b\b\b\b\b\b\b\b\b\b\b\b\b\b\b\b\b\b\b\b                                        \b\b\b\b\b\b\b\b\b\b\b\b\b\b\b\b\b\b\b\b\b\b\b\b\b\b\b\b\b\b\b\b\b\b\b\b\b\b\b\b 89% 90069 - shrimp_and_grits/92468.jpg\b\b\b\b\b\b\b\b\b\b\b\b\b\b\b\b\b\b\b\b\b\b\b\b\b\b\b\b\b\b\b\b\b\b\b\b\b\b\b                                       \b\b\b\b\b\b\b\b\b\b\b\b\b\b\b\b\b\b\b\b\b\b\b\b\b\b\b\b\b\b\b\b\b\b\b\b\b\b\b 89% 90208 - spaghetti_bolognese/1452740.jpg\b\b\b\b\b\b\b\b\b\b\b\b\b\b\b\b\b\b\b\b\b\b\b\b\b\b\b\b\b\b\b\b\b\b\b\b\b\b\b\b\b\b\b\b                                            \b\b\b\b\b\b\b\b\b\b\b\b\b\b\b\b\b\b\b\b\b\b\b\b\b\b\b\b\b\b\b\b\b\b\b\b\b\b\b\b\b\b\b\b 89% 90395 - spaghetti_bolognese/2122428.jpg\b\b\b\b\b\b\b\b\b\b\b\b\b\b\b\b\b\b\b\b\b\b\b\b\b\b\b\b\b\b\b\b\b\b\b\b\b\b\b\b\b\b\b\b                                            \b\b\b\b\b\b\b\b\b\b\b\b\b\b\b\b\b\b\b\b\b\b\b\b\b\b\b\b\b\b\b\b\b\b\b\b\b\b\b\b\b\b\b\b 89% 90861 - spaghetti_bolognese/3650423.jpg\b\b\b\b\b\b\b\b\b\b\b\b\b\b\b\b\b\b\b\b\b\b\b\b\b\b\b\b\b\b\b\b\b\b\b\b\b\b\b\b\b\b\b\b                                            \b\b\b\b\b\b\b\b\b\b\b\b\b\b\b\b\b\b\b\b\b\b\b\b\b\b\b\b\b\b\b\b\b\b\b\b\b\b\b\b\b\b\b\b 90% 91295 - spaghetti_carbonara/1720417.jpg\b\b\b\b\b\b\b\b\b\b\b\b\b\b\b\b\b\b\b\b\b\b\b\b\b\b\b\b\b\b\b\b\b\b\b\b\b\b\b\b\b\b\b\b                                            \b\b\b\b\b\b\b\b\b\b\b\b\b\b\b\b\b\b\b\b\b\b\b\b\b\b\b\b\b\b\b\b\b\b\b\b\b\b\b\b\b\b\b\b 90% 91797 - spaghetti_carbonara/3384136.jpg\b\b\b\b\b\b\b\b\b\b\b\b\b\b\b\b\b\b\b\b\b\b\b\b\b\b\b\b\b\b\b\b\b\b\b\b\b\b\b\b\b\b\b\b                                            \b\b\b\b\b\b\b\b\b\b\b\b\b\b\b\b\b\b\b\b\b\b\b\b\b\b\b\b\b\b\b\b\b\b\b\b\b\b\b\b\b\b\b\b 91% 92345 - spring_rolls/1847141.jpg\b\b\b\b\b\b\b\b\b\b\b\b\b\b\b\b\b\b\b\b\b\b\b\b\b\b\b\b\b\b\b\b\b\b\b\b\b                                     \b\b\b\b\b\b\b\b\b\b\b\b\b\b\b\b\b\b\b\b\b\b\b\b\b\b\b\b\b\b\b\b\b\b\b\b\b 91% 92356 - spring_rolls/1863500.jpg\b\b\b\b\b\b\b\b\b\b\b\b\b\b\b\b\b\b\b\b\b\b\b\b\b\b\b\b\b\b\b\b\b\b\b\b\b                                     \b\b\b\b\b\b\b\b\b\b\b\b\b\b\b\b\b\b\b\b\b\b\b\b\b\b\b\b\b\b\b\b\b\b\b\b\b 91% 92361 - spring_rolls/1875330.jpg\b\b\b\b\b\b\b\b\b\b\b\b\b\b\b\b\b\b\b\b\b\b\b\b\b\b\b\b\b\b\b\b\b\b\b\b\b                                     \b\b\b\b\b\b\b\b\b\b\b\b\b\b\b\b\b\b\b\b\b\b\b\b\b\b\b\b\b\b\b\b\b\b\b\b\b 91% 92367 - spring_rolls/188505.jpg\b\b\b\b\b\b\b\b\b\b\b\b\b\b\b\b\b\b\b\b\b\b\b\b\b\b\b\b\b\b\b\b\b\b\b\b                                    \b\b\b\b\b\b\b\b\b\b\b\b\b\b\b\b\b\b\b\b\b\b\b\b\b\b\b\b\b\b\b\b\b\b\b\b 91% 92507 - spring_rolls/2358367.jpg\b\b\b\b\b\b\b\b\b\b\b\b\b\b\b\b\b\b\b\b\b\b\b\b\b\b\b\b\b\b\b\b\b\b\b\b\b                                     \b\b\b\b\b\b\b\b\b\b\b\b\b\b\b\b\b\b\b\b\b\b\b\b\b\b\b\b\b\b\b\b\b\b\b\b\b 91% 92543 - spring_rolls/2466847.jpg\b\b\b\b\b\b\b\b\b\b\b\b\b\b\b\b\b\b\b\b\b\b\b\b\b\b\b\b\b\b\b\b\b\b\b\b\b                                     \b\b\b\b\b\b\b\b\b\b\b\b\b\b\b\b\b\b\b\b\b\b\b\b\b\b\b\b\b\b\b\b\b\b\b\b\b 91% 92989 - spring_rolls/688323.jpg\b\b\b\b\b\b\b\b\b\b\b\b\b\b\b\b\b\b\b\b\b\b\b\b\b\b\b\b\b\b\b\b\b\b\b\b                                    \b\b\b\b\b\b\b\b\b\b\b\b\b\b\b\b\b\b\b\b\b\b\b\b\b\b\b\b\b\b\b\b\b\b\b\b 92% 93361 - steak/2014349.jpg\b\b\b\b\b\b\b\b\b\b\b\b\b\b\b\b\b\b\b\b\b\b\b\b\b\b\b\b\b\b                              \b\b\b\b\b\b\b\b\b\b\b\b\b\b\b\b\b\b\b\b\b\b\b\b\b\b\b\b\b\b 92% 93521 - steak/2568848.jpg\b\b\b\b\b\b\b\b\b\b\b\b\b\b\b\b\b\b\b\b\b\b\b\b\b\b\b\b\b\b                              \b\b\b\b\b\b\b\b\b\b\b\b\b\b\b\b\b\b\b\b\b\b\b\b\b\b\b\b\b\b 92% 93657 - steak/3013185.jpg\b\b\b\b\b\b\b\b\b\b\b\b\b\b\b\b\b\b\b\b\b\b\b\b\b\b\b\b\b\b                              \b\b\b\b\b\b\b\b\b\b\b\b\b\b\b\b\b\b\b\b\b\b\b\b\b\b\b\b\b\b 92% 93787 - steak/3536023.jpg\b\b\b\b\b\b\b\b\b\b\b\b\b\b\b\b\b\b\b\b\b\b\b\b\b\b\b\b\b\b                              \b\b\b\b\b\b\b\b\b\b\b\b\b\b\b\b\b\b\b\b\b\b\b\b\b\b\b\b\b\b 92% 93921 - steak/443210.jpg\b\b\b\b\b\b\b\b\b\b\b\b\b\b\b\b\b\b\b\b\b\b\b\b\b\b\b\b\b                             \b\b\b\b\b\b\b\b\b\b\b\b\b\b\b\b\b\b\b\b\b\b\b\b\b\b\b\b\b 92% 94038 - steak/804684.jpg\b\b\b\b\b\b\b\b\b\b\b\b\b\b\b\b\b\b\b\b\b\b\b\b\b\b\b\b\b                             \b\b\b\b\b\b\b\b\b\b\b\b\b\b\b\b\b\b\b\b\b\b\b\b\b\b\b\b\b 93% 94172 - strawberry_shortcake/1395.jpg\b\b\b\b\b\b\b\b\b\b\b\b\b\b\b\b\b\b\b\b\b\b\b\b\b\b\b\b\b\b\b\b\b\b\b\b\b\b\b\b\b\b                                          \b\b\b\b\b\b\b\b\b\b\b\b\b\b\b\b\b\b\b\b\b\b\b\b\b\b\b\b\b\b\b\b\b\b\b\b\b\b\b\b\b\b 93% 94311 - strawberry_shortcake/1847252.jpg\b\b\b\b\b\b\b\b\b\b\b\b\b\b\b\b\b\b\b\b\b\b\b\b\b\b\b\b\b\b\b\b\b\b\b\b\b\b\b\b\b\b\b\b\b                                             \b\b\b\b\b\b\b\b\b\b\b\b\b\b\b\b\b\b\b\b\b\b\b\b\b\b\b\b\b\b\b\b\b\b\b\b\b\b\b\b\b\b\b\b\b 93% 94450 - strawberry_shortcake/2275253.jpg\b\b\b\b\b\b\b\b\b\b\b\b\b\b\b\b\b\b\b\b\b\b\b\b\b\b\b\b\b\b\b\b\b\b\b\b\b\b\b\b\b\b\b\b\b                                             \b\b\b\b\b\b\b\b\b\b\b\b\b\b\b\b\b\b\b\b\b\b\b\b\b\b\b\b\b\b\b\b\b\b\b\b\b\b\b\b\b\b\b\b\b 93% 94512 - strawberry_shortcake/2495944.jpg\b\b\b\b\b\b\b\b\b\b\b\b\b\b\b\b\b\b\b\b\b\b\b\b\b\b\b\b\b\b\b\b\b\b\b\b\b\b\b\b\b\b\b\b\b                                             \b\b\b\b\b\b\b\b\b\b\b\b\b\b\b\b\b\b\b\b\b\b\b\b\b\b\b\b\b\b\b\b\b\b\b\b\b\b\b\b\b\b\b\b\b 93% 94726 - strawberry_shortcake/350549.jpg\b\b\b\b\b\b\b\b\b\b\b\b\b\b\b\b\b\b\b\b\b\b\b\b\b\b\b\b\b\b\b\b\b\b\b\b\b\b\b\b\b\b\b\b                                            \b\b\b\b\b\b\b\b\b\b\b\b\b\b\b\b\b\b\b\b\b\b\b\b\b\b\b\b\b\b\b\b\b\b\b\b\b\b\b\b\b\b\b\b 93% 94732 - strawberry_shortcake/3518609.jpg\b\b\b\b\b\b\b\b\b\b\b\b\b\b\b\b\b\b\b\b\b\b\b\b\b\b\b\b\b\b\b\b\b\b\b\b\b\b\b\b\b\b\b\b\b                                             \b\b\b\b\b\b\b\b\b\b\b\b\b\b\b\b\b\b\b\b\b\b\b\b\b\b\b\b\b\b\b\b\b\b\b\b\b\b\b\b\b\b\b\b\b 93% 94739 - strawberry_shortcake/3541054.jpg\b\b\b\b\b\b\b\b\b\b\b\b\b\b\b\b\b\b\b\b\b\b\b\b\b\b\b\b\b\b\b\b\b\b\b\b\b\b\b\b\b\b\b\b\b                                             \b\b\b\b\b\b\b\b\b\b\b\b\b\b\b\b\b\b\b\b\b\b\b\b\b\b\b\b\b\b\b\b\b\b\b\b\b\b\b\b\b\b\b\b\b 93% 95152 - sushi/1172255.jpg\b\b\b\b\b\b\b\b\b\b\b\b\b\b\b\b\b\b\b\b\b\b\b\b\b\b\b\b\b\b                              \b\b\b\b\b\b\b\b\b\b\b\b\b\b\b\b\b\b\b\b\b\b\b\b\b\b\b\b\b\b 94% 95781 - sushi/3570543.jpg\b\b\b\b\b\b\b\b\b\b\b\b\b\b\b\b\b\b\b\b\b\b\b\b\b\b\b\b\b\b                              \b\b\b\b\b\b\b\b\b\b\b\b\b\b\b\b\b\b\b\b\b\b\b\b\b\b\b\b\b\b 94% 96079 - sushi/945662.jpg\b\b\b\b\b\b\b\b\b\b\b\b\b\b\b\b\b\b\b\b\b\b\b\b\b\b\b\b\b                             \b\b\b\b\b\b\b\b\b\b\b\b\b\b\b\b\b\b\b\b\b\b\b\b\b\b\b\b\b 95% 96209 - tacos/1441011.jpg\b\b\b\b\b\b\b\b\b\b\b\b\b\b\b\b\b\b\b\b\b\b\b\b\b\b\b\b\b\b                              \b\b\b\b\b\b\b\b\b\b\b\b\b\b\b\b\b\b\b\b\b\b\b\b\b\b\b\b\b\b 95% 96219 - tacos/1476158.jpg\b\b\b\b\b\b\b\b\b\b\b\b\b\b\b\b\b\b\b\b\b\b\b\b\b\b\b\b\b\b                              \b\b\b\b\b\b\b\b\b\b\b\b\b\b\b\b\b\b\b\b\b\b\b\b\b\b\b\b\b\b 95% 96222 - tacos/1483183.jpg\b\b\b\b\b\b\b\b\b\b\b\b\b\b\b\b\b\b\b\b\b\b\b\b\b\b\b\b\b\b                              \b\b\b\b\b\b\b\b\b\b\b\b\b\b\b\b\b\b\b\b\b\b\b\b\b\b\b\b\b\b 95% 96225 - tacos/1495685.jpg\b\b\b\b\b\b\b\b\b\b\b\b\b\b\b\b\b\b\b\b\b\b\b\b\b\b\b\b\b\b                              \b\b\b\b\b\b\b\b\b\b\b\b\b\b\b\b\b\b\b\b\b\b\b\b\b\b\b\b\b\b 95% 96227 - tacos/1498055.jpg\b\b\b\b\b\b\b\b\b\b\b\b\b\b\b\b\b\b\b\b\b\b\b\b\b\b\b\b\b\b                              \b\b\b\b\b\b\b\b\b\b\b\b\b\b\b\b\b\b\b\b\b\b\b\b\b\b\b\b\b\b 95% 96346 - tacos/189598.jpg\b\b\b\b\b\b\b\b\b\b\b\b\b\b\b\b\b\b\b\b\b\b\b\b\b\b\b\b\b                             \b\b\b\b\b\b\b\b\b\b\b\b\b\b\b\b\b\b\b\b\b\b\b\b\b\b\b\b\b 95% 96471 - tacos/2343263.jpg\b\b\b\b\b\b\b\b\b\b\b\b\b\b\b\b\b\b\b\b\b\b\b\b\b\b\b\b\b\b                              \b\b\b\b\b\b\b\b\b\b\b\b\b\b\b\b\b\b\b\b\b\b\b\b\b\b\b\b\b\b 95% 96589 - tacos/2802806.jpg\b\b\b\b\b\b\b\b\b\b\b\b\b\b\b\b\b\b\b\b\b\b\b\b\b\b\b\b\b\b                              \b\b\b\b\b\b\b\b\b\b\b\b\b\b\b\b\b\b\b\b\b\b\b\b\b\b\b\b\b\b 95% 96713 - tacos/3313600.jpg\b\b\b\b\b\b\b\b\b\b\b\b\b\b\b\b\b\b\b\b\b\b\b\b\b\b\b\b\b\b                              \b\b\b\b\b\b\b\b\b\b\b\b\b\b\b\b\b\b\b\b\b\b\b\b\b\b\b\b\b\b 95% 96843 - tacos/3781893.jpg\b\b\b\b\b\b\b\b\b\b\b\b\b\b\b\b\b\b\b\b\b\b\b\b\b\b\b\b\b\b                              \b\b\b\b\b\b\b\b\b\b\b\b\b\b\b\b\b\b\b\b\b\b\b\b\b\b\b\b\b\b 95% 96962 - tacos/582772.jpg\b\b\b\b\b\b\b\b\b\b\b\b\b\b\b\b\b\b\b\b\b\b\b\b\b\b\b\b\b                             \b\b\b\b\b\b\b\b\b\b\b\b\b\b\b\b\b\b\b\b\b\b\b\b\b\b\b\b\b 95% 97086 - tacos/955551.jpg\b\b\b\b\b\b\b\b\b\b\b\b\b\b\b\b\b\b\b\b\b\b\b\b\b\b\b\b\b                             \b\b\b\b\b\b\b\b\b\b\b\b\b\b\b\b\b\b\b\b\b\b\b\b\b\b\b\b\b 96% 97211 - takoyaki/1408033.jpg\b\b\b\b\b\b\b\b\b\b\b\b\b\b\b\b\b\b\b\b\b\b\b\b\b\b\b\b\b\b\b\b\b                                 \b\b\b\b\b\b\b\b\b\b\b\b\b\b\b\b\b\b\b\b\b\b\b\b\b\b\b\b\b\b\b\b\b 96% 97324 - takoyaki/1802256.jpg\b\b\b\b\b\b\b\b\b\b\b\b\b\b\b\b\b\b\b\b\b\b\b\b\b\b\b\b\b\b\b\b\b                                 \b\b\b\b\b\b\b\b\b\b\b\b\b\b\b\b\b\b\b\b\b\b\b\b\b\b\b\b\b\b\b\b\b 96% 97331 - takoyaki/1819298.jpg\b\b\b\b\b\b\b\b\b\b\b\b\b\b\b\b\b\b\b\b\b\b\b\b\b\b\b\b\b\b\b\b\b                                 \b\b\b\b\b\b\b\b\b\b\b\b\b\b\b\b\b\b\b\b\b\b\b\b\b\b\b\b\b\b\b\b\b 96% 97336 - takoyaki/183717.jpg\b\b\b\b\b\b\b\b\b\b\b\b\b\b\b\b\b\b\b\b\b\b\b\b\b\b\b\b\b\b\b\b                                \b\b\b\b\b\b\b\b\b\b\b\b\b\b\b\b\b\b\b\b\b\b\b\b\b\b\b\b\b\b\b\b 96% 97845 - takoyaki/3695942.jpg\b\b\b\b\b\b\b\b\b\b\b\b\b\b\b\b\b\b\b\b\b\b\b\b\b\b\b\b\b\b\b\b\b                                 \b\b\b\b\b\b\b\b\b\b\b\b\b\b\b\b\b\b\b\b\b\b\b\b\b\b\b\b\b\b\b\b\b 96% 97918 - takoyaki/454134.jpg\b\b\b\b\b\b\b\b\b\b\b\b\b\b\b\b\b\b\b\b\b\b\b\b\b\b\b\b\b\b\b\b                                \b\b\b\b\b\b\b\b\b\b\b\b\b\b\b\b\b\b\b\b\b\b\b\b\b\b\b\b\b\b\b\b 96% 97968 - takoyaki/587892.jpg\b\b\b\b\b\b\b\b\b\b\b\b\b\b\b\b\b\b\b\b\b\b\b\b\b\b\b\b\b\b\b\b                                \b\b\b\b\b\b\b\b\b\b\b\b\b\b\b\b\b\b\b\b\b\b\b\b\b\b\b\b\b\b\b\b 96% 98022 - takoyaki/748901.jpg\b\b\b\b\b\b\b\b\b\b\b\b\b\b\b\b\b\b\b\b\b\b\b\b\b\b\b\b\b\b\b\b                                \b\b\b\b\b\b\b\b\b\b\b\b\b\b\b\b\b\b\b\b\b\b\b\b\b\b\b\b\b\b\b\b 97% 98066 - takoyaki/88731.jpg\b\b\b\b\b\b\b\b\b\b\b\b\b\b\b\b\b\b\b\b\b\b\b\b\b\b\b\b\b\b\b                               \b\b\b\b\b\b\b\b\b\b\b\b\b\b\b\b\b\b\b\b\b\b\b\b\b\b\b\b\b\b\b 97% 98102 - tiramisu/1015080.jpg\b\b\b\b\b\b\b\b\b\b\b\b\b\b\b\b\b\b\b\b\b\b\b\b\b\b\b\b\b\b\b\b\b                                 \b\b\b\b\b\b\b\b\b\b\b\b\b\b\b\b\b\b\b\b\b\b\b\b\b\b\b\b\b\b\b\b\b 97% 98135 - tiramisu/1119464.jpg\b\b\b\b\b\b\b\b\b\b\b\b\b\b\b\b\b\b\b\b\b\b\b\b\b\b\b\b\b\b\b\b\b                                 \b\b\b\b\b\b\b\b\b\b\b\b\b\b\b\b\b\b\b\b\b\b\b\b\b\b\b\b\b\b\b\b\b 97% 98165 - tiramisu/1236136.jpg\b\b\b\b\b\b\b\b\b\b\b\b\b\b\b\b\b\b\b\b\b\b\b\b\b\b\b\b\b\b\b\b\b                                 \b\b\b\b\b\b\b\b\b\b\b\b\b\b\b\b\b\b\b\b\b\b\b\b\b\b\b\b\b\b\b\b\b 97% 98194 - tiramisu/1340967.jpg\b\b\b\b\b\b\b\b\b\b\b\b\b\b\b\b\b\b\b\b\b\b\b\b\b\b\b\b\b\b\b\b\b                                 \b\b\b\b\b\b\b\b\b\b\b\b\b\b\b\b\b\b\b\b\b\b\b\b\b\b\b\b\b\b\b\b\b 97% 98227 - tiramisu/1486986.jpg\b\b\b\b\b\b\b\b\b\b\b\b\b\b\b\b\b\b\b\b\b\b\b\b\b\b\b\b\b\b\b\b\b                                 \b\b\b\b\b\b\b\b\b\b\b\b\b\b\b\b\b\b\b\b\b\b\b\b\b\b\b\b\b\b\b\b\b 97% 98269 - tiramisu/1653833.jpg\b\b\b\b\b\b\b\b\b\b\b\b\b\b\b\b\b\b\b\b\b\b\b\b\b\b\b\b\b\b\b\b\b                                 \b\b\b\b\b\b\b\b\b\b\b\b\b\b\b\b\b\b\b\b\b\b\b\b\b\b\b\b\b\b\b\b\b 97% 98316 - tiramisu/1807092.jpg\b\b\b\b\b\b\b\b\b\b\b\b\b\b\b\b\b\b\b\b\b\b\b\b\b\b\b\b\b\b\b\b\b                                 \b\b\b\b\b\b\b\b\b\b\b\b\b\b\b\b\b\b\b\b\b\b\b\b\b\b\b\b\b\b\b\b\b 97% 98478 - tiramisu/2395497.jpg\b\b\b\b\b\b\b\b\b\b\b\b\b\b\b\b\b\b\b\b\b\b\b\b\b\b\b\b\b\b\b\b\b                                 \b\b\b\b\b\b\b\b\b\b\b\b\b\b\b\b\b\b\b\b\b\b\b\b\b\b\b\b\b\b\b\b\b 97% 98886 - tiramisu/374076.jpg\b\b\b\b\b\b\b\b\b\b\b\b\b\b\b\b\b\b\b\b\b\b\b\b\b\b\b\b\b\b\b\b                                \b\b\b\b\b\b\b\b\b\b\b\b\b\b\b\b\b\b\b\b\b\b\b\b\b\b\b\b\b\b\b\b 98% 99477 - tuna_tartare/2481081.jpg\b\b\b\b\b\b\b\b\b\b\b\b\b\b\b\b\b\b\b\b\b\b\b\b\b\b\b\b\b\b\b\b\b\b\b\b\b                                     \b\b\b\b\b\b\b\b\b\b\b\b\b\b\b\b\b\b\b\b\b\b\b\b\b\b\b\b\b\b\b\b\b\b\b\b\b 98% 99890 - tuna_tartare/3867409.jpg\b\b\b\b\b\b\b\b\b\b\b\b\b\b\b\b\b\b\b\b\b\b\b\b\b\b\b\b\b\b\b\b\b\b\b\b\b                                     \b\b\b\b\b\b\b\b\b\b\b\b\b\b\b\b\b\b\b\b\b\b\b\b\b\b\b\b\b\b\b\b\b\b\b\b\b 98% 100049 - tuna_tartare/774892.jpg\b\b\b\b\b\b\b\b\b\b\b\b\b\b\b\b\b\b\b\b\b\b\b\b\b\b\b\b\b\b\b\b\b\b\b\b\b                                     \b\b\b\b\b\b\b\b\b\b\b\b\b\b\b\b\b\b\b\b\b\b\b\b\b\b\b\b\b\b\b\b\b\b\b\b\b 99% 100189 - waffles/1331214.jpg\b\b\b\b\b\b\b\b\b\b\b\b\b\b\b\b\b\b\b\b\b\b\b\b\b\b\b\b\b\b\b\b\b                                 \b\b\b\b\b\b\b\b\b\b\b\b\b\b\b\b\b\b\b\b\b\b\b\b\b\b\b\b\b\b\b\b\b 99% 100314 - waffles/1698064.jpg\b\b\b\b\b\b\b\b\b\b\b\b\b\b\b\b\b\b\b\b\b\b\b\b\b\b\b\b\b\b\b\b\b                                 \b\b\b\b\b\b\b\b\b\b\b\b\b\b\b\b\b\b\b\b\b\b\b\b\b\b\b\b\b\b\b\b\b 99% 100431 - waffles/2121986.jpg\b\b\b\b\b\b\b\b\b\b\b\b\b\b\b\b\b\b\b\b\b\b\b\b\b\b\b\b\b\b\b\b\b                                 \b\b\b\b\b\b\b\b\b\b\b\b\b\b\b\b\b\b\b\b\b\b\b\b\b\b\b\b\b\b\b\b\b 99% 100548 - waffles/2534338.jpg\b\b\b\b\b\b\b\b\b\b\b\b\b\b\b\b\b\b\b\b\b\b\b\b\b\b\b\b\b\b\b\b\b                                 \b\b\b\b\b\b\b\b\b\b\b\b\b\b\b\b\b\b\b\b\b\b\b\b\b\b\b\b\b\b\b\b\b 99% 100660 - waffles/300274.jpg\b\b\b\b\b\b\b\b\b\b\b\b\b\b\b\b\b\b\b\b\b\b\b\b\b\b\b\b\b\b\b\b                                \b\b\b\b\b\b\b\b\b\b\b\b\b\b\b\b\b\b\b\b\b\b\b\b\b\b\b\b\b\b\b\b 99% 100762 - waffles/3348732.jpg\b\b\b\b\b\b\b\b\b\b\b\b\b\b\b\b\b\b\b\b\b\b\b\b\b\b\b\b\b\b\b\b\b                                 \b\b\b\b\b\b\b\b\b\b\b\b\b\b\b\b\b\b\b\b\b\b\b\b\b\b\b\b\b\b\b\b\b 99% 100865 - waffles/3753793.jpg\b\b\b\b\b\b\b\b\b\b\b\b\b\b\b\b\b\b\b\b\b\b\b\b\b\b\b\b\b\b\b\b\b                                 \b\b\b\b\b\b\b\b\b\b\b\b\b\b\b\b\b\b\b\b\b\b\b\b\b\b\b\b\b\b\b\b\b 99% 100960 - waffles/570148.jpg\b\b\b\b\b\b\b\b\b\b\b\b\b\b\b\b\b\b\b\b\b\b\b\b\b\b\b\b\b\b\b\b                                \b\b\b\b\b\b\b\b\b\b\b\b\b\b\b\b\b\b\b\b\b\b\b\b\b\b\b\b\b\b\b\b 99% 101045 - waffles/831714.jpg\b\b\b\b\b\b\b\b\b\b\b\b\b\b\b\b\b\b\b\b\b\b\b\b\b\b\b\b\b\b\b\b                                \b\b\b\b\b\b\b\b\b\b\b\b\b\b\b\b\b\b\b\b\b\b\b\b\b\b\b\b\b\b\b\bEverything is Ok\n",
            "\n",
            "Folders: 101\n",
            "Files: 101000\n",
            "Size:       5116621947\n",
            "Compressed: 5132666035\n"
          ],
          "name": "stdout"
        }
      ]
    },
    {
      "cell_type": "markdown",
      "metadata": {
        "id": "2A2NORsURLkf"
      },
      "source": [
        "### Fazer o Split das imagens\r\n",
        "Colocar:\r\n",
        "* content/output/train com 70% (700 imagens em cada pasta)\r\n",
        "* content/output/val com 20% (200 imagens em cada pasta)\r\n",
        "* content/output/test com 10% (100 imagens em cada pasta)\r\n",
        "\r\n"
      ]
    },
    {
      "cell_type": "code",
      "metadata": {
        "id": "9RSCOdfZKNbl",
        "colab": {
          "base_uri": "https://localhost:8080/"
        },
        "outputId": "d09d1d29-20e6-48da-fce3-95518b78af4a"
      },
      "source": [
        "!pip install split-folders\r\n",
        "import splitfolders\r\n",
        "splitfolders.ratio('/content/images', output=\"output\", seed=1337, ratio=(.7, .2, .1)) "
      ],
      "execution_count": 9,
      "outputs": [
        {
          "output_type": "stream",
          "text": [
            "Collecting split-folders\n",
            "  Downloading https://files.pythonhosted.org/packages/b8/5f/3c2b2f7ea5e047c8cdc3bb00ae582c5438fcdbbedcc23b3cc1c2c7aae642/split_folders-0.4.3-py3-none-any.whl\n",
            "Installing collected packages: split-folders\n",
            "Successfully installed split-folders-0.4.3\n"
          ],
          "name": "stdout"
        },
        {
          "output_type": "stream",
          "text": [
            "Copying files: 101000 files [02:34, 652.54 files/s]\n"
          ],
          "name": "stderr"
        }
      ]
    },
    {
      "cell_type": "markdown",
      "metadata": {
        "id": "zLa3_p01SEeJ"
      },
      "source": [
        "### Obter os dados"
      ]
    },
    {
      "cell_type": "code",
      "metadata": {
        "colab": {
          "base_uri": "https://localhost:8080/"
        },
        "id": "Yj9wjWbUoIbo",
        "outputId": "c6f718ce-7a92-43ba-d262-d95ee2dfc458"
      },
      "source": [
        "train_datagen = ImageDataGenerator(rescale = 1./255)\r\n",
        "train_generator = train_datagen.flow_from_directory(directory=\"/content/output/train/\",\r\n",
        "                                                    batch_size=64,\r\n",
        "                                                    shuffle=True,\r\n",
        "                                                    class_mode=\"categorical\",\r\n",
        "                                                    target_size=(64,64),\r\n",
        "                                                    seed=42)\r\n",
        "\r\n",
        "valid_datagen = ImageDataGenerator(rescale = 1./255)\r\n",
        "valid_generator=valid_datagen.flow_from_directory(directory=\"/content/output/val/\", \r\n",
        "                                                  batch_size=64, \r\n",
        "                                                  shuffle=True,\r\n",
        "                                                  class_mode=\"categorical\",\r\n",
        "                                                  target_size=(64,64),\r\n",
        "                                                  seed=42)\r\n",
        "\r\n",
        "test_datagen = ImageDataGenerator(rescale = 1./255)\r\n",
        "test_generator=test_datagen.flow_from_directory(directory=\"/content/output/test/\", \r\n",
        "                                                  batch_size=64,\r\n",
        "                                                  shuffle=True,\r\n",
        "                                                  class_mode=\"categorical\",\r\n",
        "                                                  target_size=(64,64),\r\n",
        "                                                  seed=42)\r\n",
        "\r\n",
        "train_dir = \"/content/output/train/\"\r\n",
        "validation_dir = \"/content/output/val/\"\r\n",
        "test_dir = \"/content/output/test/\""
      ],
      "execution_count": 10,
      "outputs": [
        {
          "output_type": "stream",
          "text": [
            "Found 70700 images belonging to 101 classes.\n",
            "Found 20200 images belonging to 101 classes.\n",
            "Found 10100 images belonging to 101 classes.\n"
          ],
          "name": "stdout"
        }
      ]
    },
    {
      "cell_type": "code",
      "metadata": {
        "id": "tvt9JX1hGoCG"
      },
      "source": [
        "'''\r\n",
        "train_datagen = ImageDataGenerator(\r\n",
        "                                    samplewise_center = True,\r\n",
        "                                    samplewise_std_normalization = True,\r\n",
        "                                    rescale = 1./255.,\r\n",
        "                                    rotation_range = 40, \r\n",
        "                                    width_shift_range = 0.2, \r\n",
        "                                    height_shift_range = 0.2,\r\n",
        "                                    shear_range = 0.2,\r\n",
        "                                    zoom_range = 0.2,\r\n",
        "                                    horizontal_flip = True)\r\n",
        "'''"
      ],
      "execution_count": null,
      "outputs": []
    },
    {
      "cell_type": "markdown",
      "metadata": {
        "id": "-lZqcFGASOPU"
      },
      "source": [
        "### Criar o modelo baseline\r\n",
        "Modelo composto por duas camadas de Convencional 2D e MaxPooling 2G com 64 neurónios cada. No final, no MLP, colocámos duas dense layers com activation = 'relu' e para output o softmax para distribuir por todas as categorias com 100% no total.   "
      ]
    },
    {
      "cell_type": "code",
      "metadata": {
        "colab": {
          "base_uri": "https://localhost:8080/"
        },
        "id": "9Gh2LsAZ0dSG",
        "outputId": "70b27aed-08b3-4d78-a90a-396bb4286781"
      },
      "source": [
        "from tensorflow.keras.models import Sequential\r\n",
        "from tensorflow.keras import Model\r\n",
        "from tensorflow.keras.models import Sequential\r\n",
        "from tensorflow.keras.layers import Conv2D, MaxPooling2D, Flatten, Dense, Dropout, Activation\r\n",
        "from tensorflow.keras.preprocessing.image import ImageDataGenerator\r\n",
        "from tensorflow.keras.callbacks import EarlyStopping\r\n",
        "from keras.constraints import maxnorm\r\n",
        "\r\n",
        "X_train, y_train = train_generator.next()\r\n",
        "#Input Layer\r\n",
        "baseline_model = Sequential()\r\n",
        "\r\n",
        "baseline_model.add(Conv2D(filters=64, kernel_size=(3, 3), activation='relu', padding='valid', input_shape=X_train.shape[1:]))\r\n",
        "baseline_model.add(MaxPooling2D(pool_size=(2, 2), strides=(2,2)))\r\n",
        "\r\n",
        "baseline_model.add(Conv2D(filters=64, kernel_size=(3, 3), activation='relu', padding='valid'))\r\n",
        "baseline_model.add(MaxPooling2D(pool_size=(2, 2), strides=(2,2)))\r\n",
        "\r\n",
        "'''\r\n",
        "baseline_model.add(Conv2D(filters=512, kernel_size=(3, 3), activation='relu', padding='valid'))\r\n",
        "baseline_model.add(MaxPooling2D(pool_size=(2, 2), strides=(2,2)))\r\n",
        "\r\n",
        "\r\n",
        "baseline_model.add(Conv2D(filters=512, kernel_size=(3, 3), activation='relu', padding='valid'))\r\n",
        "baseline_model.add(MaxPooling2D(pool_size=(2, 2), strides=(2,2)))\r\n",
        "'''\r\n",
        "\r\n",
        "# MLP - input layer:\r\n",
        "baseline_model.add(Flatten())\r\n",
        "# MLP - hidden layer:\r\n",
        "##baseline_model.add(Dense(4096, activation='relu',kernel_constraint=maxnorm(3)))\r\n",
        "##baseline_model.add(Dropout(0.2))\r\n",
        "baseline_model.add(Dense(256, activation='relu',kernel_constraint=maxnorm(3)))\r\n",
        "baseline_model.add(Dropout(0.2))\r\n",
        "\r\n",
        "# MLP - output layer:\r\n",
        "baseline_model.add(Dense(y_train.shape[1], activation='softmax'))\r\n",
        "\r\n",
        "# Check built model:\r\n",
        "baseline_model.summary()"
      ],
      "execution_count": null,
      "outputs": [
        {
          "output_type": "stream",
          "text": [
            "Model: \"sequential_7\"\n",
            "_________________________________________________________________\n",
            "Layer (type)                 Output Shape              Param #   \n",
            "=================================================================\n",
            "conv2d_40 (Conv2D)           (None, 62, 62, 64)        1792      \n",
            "_________________________________________________________________\n",
            "max_pooling2d_18 (MaxPooling (None, 31, 31, 64)        0         \n",
            "_________________________________________________________________\n",
            "conv2d_41 (Conv2D)           (None, 29, 29, 64)        36928     \n",
            "_________________________________________________________________\n",
            "max_pooling2d_19 (MaxPooling (None, 14, 14, 64)        0         \n",
            "_________________________________________________________________\n",
            "flatten_7 (Flatten)          (None, 12544)             0         \n",
            "_________________________________________________________________\n",
            "dense_14 (Dense)             (None, 256)               3211520   \n",
            "_________________________________________________________________\n",
            "dropout_7 (Dropout)          (None, 256)               0         \n",
            "_________________________________________________________________\n",
            "dense_15 (Dense)             (None, 101)               25957     \n",
            "=================================================================\n",
            "Total params: 3,276,197\n",
            "Trainable params: 3,276,197\n",
            "Non-trainable params: 0\n",
            "_________________________________________________________________\n"
          ],
          "name": "stdout"
        }
      ]
    },
    {
      "cell_type": "markdown",
      "metadata": {
        "id": "igbmXNwTTiNn"
      },
      "source": [
        "### Compilação do modelo\r\n",
        "Neste caso foi usado um optimizer 'adam' com learning rate de 0.1% e usou-se a métrica de accurancy para avaliar "
      ]
    },
    {
      "cell_type": "code",
      "metadata": {
        "id": "24SOh5Al3p1p"
      },
      "source": [
        "opt = optimizers.Adam(lr=0.001)\r\n",
        "\r\n",
        "baseline_model.compile(loss='categorical_crossentropy',\r\n",
        "              optimizer=opt,\r\n",
        "              metrics=['acc'])"
      ],
      "execution_count": null,
      "outputs": []
    },
    {
      "cell_type": "code",
      "metadata": {
        "colab": {
          "base_uri": "https://localhost:8080/"
        },
        "id": "ulUsdn3k0dPu",
        "outputId": "28567141-a04e-46d1-b9f5-be67144a782a"
      },
      "source": [
        "early_stop = EarlyStopping(patience=30, monitor='val_loss', mode='min', restore_best_weights=True)\r\n",
        "\r\n",
        "\r\n",
        "history_baseline_model = baseline_model.fit_generator(train_generator,\r\n",
        "                              steps_per_epoch=160, #steps_per_epoch,\r\n",
        "                              epochs=100,\r\n",
        "                              validation_data=valid_generator,\r\n",
        "                              validation_steps=10, #validation_steps,\r\n",
        "                              callbacks=[early_stop],\r\n",
        "                              shuffle= True\r\n",
        "                             )\r\n",
        "\r\n",
        "baseline_model.save('food_baseline_model.h5')"
      ],
      "execution_count": null,
      "outputs": [
        {
          "output_type": "stream",
          "text": [
            "/usr/local/lib/python3.6/dist-packages/tensorflow/python/keras/engine/training.py:1844: UserWarning: `Model.fit_generator` is deprecated and will be removed in a future version. Please use `Model.fit`, which supports generators.\n",
            "  warnings.warn('`Model.fit_generator` is deprecated and '\n"
          ],
          "name": "stderr"
        },
        {
          "output_type": "stream",
          "text": [
            "Epoch 1/100\n",
            "160/160 [==============================] - 54s 334ms/step - loss: 4.6191 - acc: 0.0107 - val_loss: 4.5932 - val_acc: 0.0188\n",
            "Epoch 2/100\n",
            "160/160 [==============================] - 49s 305ms/step - loss: 4.5594 - acc: 0.0199 - val_loss: 4.4068 - val_acc: 0.0562\n",
            "Epoch 3/100\n",
            "160/160 [==============================] - 46s 290ms/step - loss: 4.4047 - acc: 0.0429 - val_loss: 4.2966 - val_acc: 0.0500\n",
            "Epoch 4/100\n",
            "160/160 [==============================] - 45s 279ms/step - loss: 4.2537 - acc: 0.0634 - val_loss: 4.1716 - val_acc: 0.0703\n",
            "Epoch 5/100\n",
            "160/160 [==============================] - 44s 273ms/step - loss: 4.1667 - acc: 0.0716 - val_loss: 4.1435 - val_acc: 0.0766\n",
            "Epoch 6/100\n",
            "160/160 [==============================] - 42s 265ms/step - loss: 4.0888 - acc: 0.0810 - val_loss: 4.0456 - val_acc: 0.0750\n",
            "Epoch 7/100\n",
            "160/160 [==============================] - 42s 261ms/step - loss: 4.0338 - acc: 0.0906 - val_loss: 3.9425 - val_acc: 0.1078\n",
            "Epoch 8/100\n",
            "160/160 [==============================] - 41s 258ms/step - loss: 3.9593 - acc: 0.1093 - val_loss: 3.9512 - val_acc: 0.1016\n",
            "Epoch 9/100\n",
            "160/160 [==============================] - 41s 253ms/step - loss: 3.8981 - acc: 0.1186 - val_loss: 3.9267 - val_acc: 0.1125\n",
            "Epoch 10/100\n",
            "160/160 [==============================] - 40s 250ms/step - loss: 3.8576 - acc: 0.1198 - val_loss: 3.8543 - val_acc: 0.1172\n",
            "Epoch 11/100\n",
            "160/160 [==============================] - 40s 250ms/step - loss: 3.7989 - acc: 0.1369 - val_loss: 3.8496 - val_acc: 0.1234\n",
            "Epoch 12/100\n",
            "160/160 [==============================] - 40s 248ms/step - loss: 3.7308 - acc: 0.1421 - val_loss: 3.8553 - val_acc: 0.1031\n",
            "Epoch 13/100\n",
            "160/160 [==============================] - 40s 247ms/step - loss: 3.6922 - acc: 0.1587 - val_loss: 3.7709 - val_acc: 0.1203\n",
            "Epoch 14/100\n",
            "160/160 [==============================] - 39s 243ms/step - loss: 3.6682 - acc: 0.1567 - val_loss: 3.7360 - val_acc: 0.1594\n",
            "Epoch 15/100\n",
            "160/160 [==============================] - 39s 245ms/step - loss: 3.6129 - acc: 0.1619 - val_loss: 3.7167 - val_acc: 0.1375\n",
            "Epoch 16/100\n",
            "160/160 [==============================] - 39s 244ms/step - loss: 3.5329 - acc: 0.1781 - val_loss: 3.7362 - val_acc: 0.1297\n",
            "Epoch 17/100\n",
            "160/160 [==============================] - 39s 244ms/step - loss: 3.5164 - acc: 0.1915 - val_loss: 3.6233 - val_acc: 0.1422\n",
            "Epoch 18/100\n",
            "160/160 [==============================] - 39s 242ms/step - loss: 3.4951 - acc: 0.1882 - val_loss: 3.6910 - val_acc: 0.1734\n",
            "Epoch 19/100\n",
            "160/160 [==============================] - 39s 242ms/step - loss: 3.4619 - acc: 0.1982 - val_loss: 3.6725 - val_acc: 0.1625\n",
            "Epoch 20/100\n",
            "160/160 [==============================] - 39s 241ms/step - loss: 3.3918 - acc: 0.2131 - val_loss: 3.6965 - val_acc: 0.1609\n",
            "Epoch 21/100\n",
            "160/160 [==============================] - 39s 241ms/step - loss: 3.3321 - acc: 0.2169 - val_loss: 3.7864 - val_acc: 0.1391\n",
            "Epoch 22/100\n",
            "160/160 [==============================] - 38s 239ms/step - loss: 3.3602 - acc: 0.2182 - val_loss: 3.6395 - val_acc: 0.2094\n",
            "Epoch 23/100\n",
            "160/160 [==============================] - 38s 240ms/step - loss: 3.2930 - acc: 0.2154 - val_loss: 3.6861 - val_acc: 0.1703\n",
            "Epoch 24/100\n",
            "160/160 [==============================] - 38s 240ms/step - loss: 3.2890 - acc: 0.2324 - val_loss: 3.6229 - val_acc: 0.1766\n",
            "Epoch 25/100\n",
            "160/160 [==============================] - 38s 238ms/step - loss: 3.2382 - acc: 0.2420 - val_loss: 3.6553 - val_acc: 0.1625\n",
            "Epoch 26/100\n",
            "160/160 [==============================] - 38s 239ms/step - loss: 3.2221 - acc: 0.2421 - val_loss: 3.6184 - val_acc: 0.1578\n",
            "Epoch 27/100\n",
            "160/160 [==============================] - 38s 239ms/step - loss: 3.2330 - acc: 0.2313 - val_loss: 3.6953 - val_acc: 0.1547\n",
            "Epoch 28/100\n",
            "160/160 [==============================] - 38s 239ms/step - loss: 3.1866 - acc: 0.2513 - val_loss: 3.5783 - val_acc: 0.1672\n",
            "Epoch 29/100\n",
            "160/160 [==============================] - 38s 239ms/step - loss: 3.1327 - acc: 0.2477 - val_loss: 3.5936 - val_acc: 0.1625\n",
            "Epoch 30/100\n",
            "160/160 [==============================] - 38s 239ms/step - loss: 3.1403 - acc: 0.2528 - val_loss: 3.6154 - val_acc: 0.1547\n",
            "Epoch 31/100\n",
            "160/160 [==============================] - 38s 238ms/step - loss: 3.0870 - acc: 0.2617 - val_loss: 3.5607 - val_acc: 0.1625\n",
            "Epoch 32/100\n",
            "160/160 [==============================] - 38s 241ms/step - loss: 3.0716 - acc: 0.2693 - val_loss: 3.5769 - val_acc: 0.1469\n",
            "Epoch 33/100\n",
            "160/160 [==============================] - 38s 238ms/step - loss: 3.0429 - acc: 0.2780 - val_loss: 3.6474 - val_acc: 0.1703\n",
            "Epoch 34/100\n",
            "160/160 [==============================] - 38s 239ms/step - loss: 3.0126 - acc: 0.2804 - val_loss: 3.7450 - val_acc: 0.1719\n",
            "Epoch 35/100\n",
            "160/160 [==============================] - 38s 238ms/step - loss: 2.9817 - acc: 0.2799 - val_loss: 3.5814 - val_acc: 0.1797\n",
            "Epoch 36/100\n",
            "160/160 [==============================] - 38s 240ms/step - loss: 2.9495 - acc: 0.2906 - val_loss: 3.5474 - val_acc: 0.1516\n",
            "Epoch 37/100\n",
            "160/160 [==============================] - 39s 241ms/step - loss: 2.9451 - acc: 0.2889 - val_loss: 3.5835 - val_acc: 0.1797\n",
            "Epoch 38/100\n",
            "160/160 [==============================] - 38s 239ms/step - loss: 2.8485 - acc: 0.3163 - val_loss: 3.6415 - val_acc: 0.1609\n",
            "Epoch 39/100\n",
            "160/160 [==============================] - 38s 237ms/step - loss: 2.8639 - acc: 0.3175 - val_loss: 3.5887 - val_acc: 0.1688\n",
            "Epoch 40/100\n",
            "160/160 [==============================] - 38s 240ms/step - loss: 2.8722 - acc: 0.3057 - val_loss: 3.7077 - val_acc: 0.1813\n",
            "Epoch 41/100\n",
            "160/160 [==============================] - 38s 237ms/step - loss: 2.8383 - acc: 0.3129 - val_loss: 3.5901 - val_acc: 0.1844\n",
            "Epoch 42/100\n",
            "160/160 [==============================] - 38s 237ms/step - loss: 2.8394 - acc: 0.3057 - val_loss: 3.5733 - val_acc: 0.1828\n",
            "Epoch 43/100\n",
            "160/160 [==============================] - 38s 236ms/step - loss: 2.7768 - acc: 0.3363 - val_loss: 3.8101 - val_acc: 0.1672\n",
            "Epoch 44/100\n",
            "160/160 [==============================] - 38s 238ms/step - loss: 2.7709 - acc: 0.3317 - val_loss: 3.5869 - val_acc: 0.1734\n",
            "Epoch 45/100\n",
            "160/160 [==============================] - 38s 235ms/step - loss: 2.7606 - acc: 0.3378 - val_loss: 3.8017 - val_acc: 0.1547\n",
            "Epoch 46/100\n",
            "160/160 [==============================] - 38s 238ms/step - loss: 2.7245 - acc: 0.3432 - val_loss: 3.7254 - val_acc: 0.1734\n",
            "Epoch 47/100\n",
            "160/160 [==============================] - 38s 237ms/step - loss: 2.7285 - acc: 0.3384 - val_loss: 3.7654 - val_acc: 0.1437\n",
            "Epoch 48/100\n",
            "160/160 [==============================] - 38s 239ms/step - loss: 2.6939 - acc: 0.3484 - val_loss: 3.8421 - val_acc: 0.1688\n",
            "Epoch 49/100\n",
            "160/160 [==============================] - 38s 237ms/step - loss: 2.6837 - acc: 0.3491 - val_loss: 3.7009 - val_acc: 0.1734\n",
            "Epoch 50/100\n",
            "160/160 [==============================] - 38s 236ms/step - loss: 2.6246 - acc: 0.3587 - val_loss: 3.5941 - val_acc: 0.2062\n",
            "Epoch 51/100\n",
            "160/160 [==============================] - 38s 238ms/step - loss: 2.6463 - acc: 0.3594 - val_loss: 3.7922 - val_acc: 0.1594\n",
            "Epoch 52/100\n",
            "160/160 [==============================] - 38s 237ms/step - loss: 2.6300 - acc: 0.3660 - val_loss: 3.8216 - val_acc: 0.1781\n",
            "Epoch 53/100\n",
            "160/160 [==============================] - 38s 237ms/step - loss: 2.5565 - acc: 0.3768 - val_loss: 3.6504 - val_acc: 0.1625\n",
            "Epoch 54/100\n",
            "160/160 [==============================] - 38s 236ms/step - loss: 2.5750 - acc: 0.3709 - val_loss: 3.8190 - val_acc: 0.1641\n",
            "Epoch 55/100\n",
            "160/160 [==============================] - 38s 237ms/step - loss: 2.5647 - acc: 0.3844 - val_loss: 3.6638 - val_acc: 0.1828\n",
            "Epoch 56/100\n",
            "160/160 [==============================] - 38s 237ms/step - loss: 2.4811 - acc: 0.3863 - val_loss: 3.8591 - val_acc: 0.1406\n",
            "Epoch 57/100\n",
            "160/160 [==============================] - 38s 239ms/step - loss: 2.4900 - acc: 0.3890 - val_loss: 3.7519 - val_acc: 0.1891\n",
            "Epoch 58/100\n",
            "160/160 [==============================] - 38s 237ms/step - loss: 2.4687 - acc: 0.4025 - val_loss: 3.7724 - val_acc: 0.1703\n",
            "Epoch 59/100\n",
            "160/160 [==============================] - 38s 237ms/step - loss: 2.4842 - acc: 0.3894 - val_loss: 3.8146 - val_acc: 0.1547\n",
            "Epoch 60/100\n",
            "160/160 [==============================] - 38s 237ms/step - loss: 2.5023 - acc: 0.3873 - val_loss: 3.8208 - val_acc: 0.1766\n",
            "Epoch 61/100\n",
            "160/160 [==============================] - 38s 237ms/step - loss: 2.4921 - acc: 0.3890 - val_loss: 3.7264 - val_acc: 0.1750\n",
            "Epoch 62/100\n",
            "160/160 [==============================] - 38s 237ms/step - loss: 2.4198 - acc: 0.4033 - val_loss: 3.7403 - val_acc: 0.1750\n",
            "Epoch 63/100\n",
            "160/160 [==============================] - 38s 237ms/step - loss: 2.4358 - acc: 0.4024 - val_loss: 3.8784 - val_acc: 0.1969\n",
            "Epoch 64/100\n",
            "160/160 [==============================] - 38s 239ms/step - loss: 2.4259 - acc: 0.4058 - val_loss: 3.9786 - val_acc: 0.1500\n",
            "Epoch 65/100\n",
            "160/160 [==============================] - 39s 244ms/step - loss: 2.4220 - acc: 0.4062 - val_loss: 3.8096 - val_acc: 0.1781\n",
            "Epoch 66/100\n",
            "160/160 [==============================] - 39s 242ms/step - loss: 2.4062 - acc: 0.4028 - val_loss: 3.8064 - val_acc: 0.1437\n"
          ],
          "name": "stdout"
        }
      ]
    },
    {
      "cell_type": "code",
      "metadata": {
        "id": "Z4D1lrAo0dKZ",
        "colab": {
          "base_uri": "https://localhost:8080/",
          "height": 545
        },
        "outputId": "ce0ba438-a454-4b09-f778-7e3b740e1c06"
      },
      "source": [
        "#Plotting training results\r\n",
        "plot_results(history_baseline_model)"
      ],
      "execution_count": null,
      "outputs": [
        {
          "output_type": "display_data",
          "data": {
            "image/png": "[encoded data removed]",
            "text/plain": [
              "<Figure size 432x288 with 1 Axes>"
            ]
          },
          "metadata": {
            "tags": [],
            "needs_background": "light"
          }
        },
        {
          "output_type": "display_data",
          "data": {
            "image/png": "[encoded data removed]",
            "text/plain": [
              "<Figure size 432x288 with 1 Axes>"
            ]
          },
          "metadata": {
            "tags": [],
            "needs_background": "light"
          }
        }
      ]
    },
    {
      "cell_type": "code",
      "metadata": {
        "id": "Ka3V6WPU0dHo",
        "colab": {
          "base_uri": "https://localhost:8080/"
        },
        "outputId": "dc234e7e-43ee-4095-f0e4-a1b3225609a5"
      },
      "source": [
        "print('Test scores for baseline model:')\r\n",
        "baseline_model.evaluate(test_generator, steps=60)"
      ],
      "execution_count": null,
      "outputs": [
        {
          "output_type": "stream",
          "text": [
            "Test scores for baseline model:\n",
            "60/60 [==============================] - 19s 314ms/step - loss: 3.6484 - acc: 0.1635\n"
          ],
          "name": "stdout"
        },
        {
          "output_type": "execute_result",
          "data": {
            "text/plain": [
              "[3.648407459259033, 0.16354165971279144]"
            ]
          },
          "metadata": {
            "tags": []
          },
          "execution_count": 39
        }
      ]
    },
    {
      "cell_type": "code",
      "metadata": {
        "id": "rcRaNTnT0dDo"
      },
      "source": [
        ""
      ],
      "execution_count": null,
      "outputs": []
    },
    {
      "cell_type": "markdown",
      "metadata": {
        "id": "LNEbxJsnXdGL"
      },
      "source": [
        "## VGG-16 model\r\n",
        "\r\n",
        "Como temos um dataset pequeno para cada categoria (700 imagens) vamos usar o \"Image Augmentation\" para aumentar um pouco o tamanho do nosso dataset"
      ]
    },
    {
      "cell_type": "code",
      "metadata": {
        "id": "0LoPwBDB0dAg"
      },
      "source": [
        "# Add our data-augmentation parameters to ImageDataGenerator and get data\r\n",
        "train_datagen_VGG = ImageDataGenerator(rescale = 1./255.,\r\n",
        "                                   rotation_range = 40, \r\n",
        "                                   width_shift_range = 0.2, \r\n",
        "                                   height_shift_range = 0.2, \r\n",
        "                                   shear_range = 0.2, \r\n",
        "                                   zoom_range = 0.2, \r\n",
        "                                   horizontal_flip = True)\r\n",
        "\r\n",
        "# Note that the validation data should not be augmented!\r\n",
        "val_datagen_VGG = ImageDataGenerator( rescale = 1.0/255. )"
      ],
      "execution_count": 11,
      "outputs": []
    },
    {
      "cell_type": "code",
      "metadata": {
        "id": "zLOrdD5CY3LT",
        "colab": {
          "base_uri": "https://localhost:8080/"
        },
        "outputId": "d7a87cbc-51ad-4028-b435-6f9f63787bc7"
      },
      "source": [
        "# Flow training images in batches of 20 using train_datagen_VGG generator\r\n",
        "train_generator = train_datagen_VGG.flow_from_directory(train_dir, batch_size = 20, class_mode = 'categorical', target_size = (224, 224))\r\n",
        "\r\n",
        "# Flow validation images in batches of 20 using val_datagen_VGG generator\r\n",
        "validation_generator = val_datagen_VGG.flow_from_directory( validation_dir,  batch_size = 20, class_mode = 'categorical', target_size = (224, 224))\r\n",
        "\r\n"
      ],
      "execution_count": 14,
      "outputs": [
        {
          "output_type": "stream",
          "text": [
            "Found 70700 images belonging to 101 classes.\n",
            "Found 20200 images belonging to 101 classes.\n"
          ],
          "name": "stdout"
        }
      ]
    },
    {
      "cell_type": "code",
      "metadata": {
        "id": "q2oW4aeI0c4W",
        "colab": {
          "base_uri": "https://localhost:8080/"
        },
        "outputId": "c8af7c28-0bc9-47e3-d027-a7e31a5f1c5a"
      },
      "source": [
        "#Loading the Base Model\r\n",
        "\r\n",
        "from tensorflow.keras.applications.vgg16 import VGG16\r\n",
        "\r\n",
        "base_model = VGG16(input_shape = (224, 224, 3), # Shape of our images\r\n",
        "    include_top = False, # Leave out the last fully connected layer\r\n",
        "    weights = 'imagenet')\r\n"
      ],
      "execution_count": 15,
      "outputs": [
        {
          "output_type": "stream",
          "text": [
            "Downloading data from https://storage.googleapis.com/tensorflow/keras-applications/vgg16/vgg16_weights_tf_dim_ordering_tf_kernels_notop.h5\n",
            "58892288/58889256 [==============================] - 0s 0us/step\n"
          ],
          "name": "stdout"
        }
      ]
    },
    {
      "cell_type": "code",
      "metadata": {
        "colab": {
          "base_uri": "https://localhost:8080/"
        },
        "id": "rKCO4CN3eOKD",
        "outputId": "2f174fcb-94c7-461d-d4a4-6aacdd524d3a"
      },
      "source": [
        "gc.collect()"
      ],
      "execution_count": 16,
      "outputs": [
        {
          "output_type": "execute_result",
          "data": {
            "text/plain": [
              "426"
            ]
          },
          "metadata": {
            "tags": []
          },
          "execution_count": 16
        }
      ]
    },
    {
      "cell_type": "code",
      "metadata": {
        "id": "wrgOz-j-0cs_"
      },
      "source": [
        "#Since we don’t have to train all the layers, we make them non_trainable\r\n",
        "for layer in base_model.layers:\r\n",
        "    layer.trainable = False"
      ],
      "execution_count": 17,
      "outputs": []
    },
    {
      "cell_type": "code",
      "metadata": {
        "id": "r5pBgtWMa6x4"
      },
      "source": [
        "#Compile and Fit\r\n",
        "# Flatten the output layer to 1 dimension\r\n",
        "x = layers.Flatten()(base_model.output)\r\n",
        "\r\n",
        "# Add a fully connected layer with 512 hidden units and ReLU activation\r\n",
        "x = layers.Dense(512, activation='relu')(x)\r\n",
        "\r\n",
        "# Add a dropout rate of 0.5\r\n",
        "x = layers.Dropout(0.5)(x)\r\n",
        "\r\n",
        "# Add a final sigmoid layer for classification\r\n",
        "x = layers.Dense(101, activation='softmax')(x)\r\n",
        "\r\n",
        "model = tf.keras.models.Model(base_model.input, x)\r\n",
        "\r\n",
        "model.compile(optimizer = tf.keras.optimizers.RMSprop(lr=0.0001), loss = 'categorical_crossentropy',metrics = ['acc'])\r\n"
      ],
      "execution_count": 18,
      "outputs": []
    },
    {
      "cell_type": "code",
      "metadata": {
        "id": "6xrtE2uQbEK7",
        "colab": {
          "base_uri": "https://localhost:8080/"
        },
        "outputId": "670a1e00-d160-45a7-ffa1-9cc1b7b4f5c3"
      },
      "source": [
        "early_stop = EarlyStopping(patience=30, monitor='val_loss', mode='min', restore_best_weights=True)\r\n",
        "vgghist = model.fit(train_generator, validation_data = validation_generator, steps_per_epoch = 100, epochs = 1000, callbacks=[early_stop])  "
      ],
      "execution_count": null,
      "outputs": [
        {
          "output_type": "stream",
          "text": [
            "Epoch 1/1000\n",
            "100/100 [==============================] - 142s 1s/step - loss: 3.7771 - acc: 0.1285 - val_loss: 3.1841 - val_acc: 0.2472\n",
            "Epoch 2/1000\n",
            "100/100 [==============================] - 141s 1s/step - loss: 3.7464 - acc: 0.1280 - val_loss: 3.1871 - val_acc: 0.2506\n",
            "Epoch 3/1000\n",
            "100/100 [==============================] - 141s 1s/step - loss: 3.7443 - acc: 0.1365 - val_loss: 3.1727 - val_acc: 0.2537\n",
            "Epoch 4/1000\n",
            "100/100 [==============================] - 142s 1s/step - loss: 3.7653 - acc: 0.1270 - val_loss: 3.1757 - val_acc: 0.2490\n",
            "Epoch 5/1000\n",
            "100/100 [==============================] - 142s 1s/step - loss: 3.7552 - acc: 0.1295 - val_loss: 3.1955 - val_acc: 0.2526\n",
            "Epoch 6/1000\n",
            "100/100 [==============================] - 142s 1s/step - loss: 3.7871 - acc: 0.1345 - val_loss: 3.2247 - val_acc: 0.2436\n",
            "Epoch 7/1000\n",
            "100/100 [==============================] - 142s 1s/step - loss: 3.7205 - acc: 0.1425 - val_loss: 3.2076 - val_acc: 0.2416\n",
            "Epoch 8/1000\n",
            "100/100 [==============================] - 142s 1s/step - loss: 3.7594 - acc: 0.1450 - val_loss: 3.2233 - val_acc: 0.2474\n",
            "Epoch 9/1000\n",
            "100/100 [==============================] - 142s 1s/step - loss: 3.6974 - acc: 0.1455 - val_loss: 3.1734 - val_acc: 0.2524\n",
            "Epoch 10/1000\n",
            "100/100 [==============================] - 142s 1s/step - loss: 3.7905 - acc: 0.1420 - val_loss: 3.1886 - val_acc: 0.2493\n",
            "Epoch 11/1000\n",
            "100/100 [==============================] - 142s 1s/step - loss: 3.7077 - acc: 0.1460 - val_loss: 3.1886 - val_acc: 0.2477\n",
            "Epoch 12/1000\n",
            "100/100 [==============================] - 142s 1s/step - loss: 3.7922 - acc: 0.1355 - val_loss: 3.1638 - val_acc: 0.2518\n",
            "Epoch 13/1000\n",
            "100/100 [==============================] - 141s 1s/step - loss: 3.7077 - acc: 0.1455 - val_loss: 3.1692 - val_acc: 0.2518\n",
            "Epoch 14/1000\n",
            "100/100 [==============================] - 142s 1s/step - loss: 3.7318 - acc: 0.1465 - val_loss: 3.1949 - val_acc: 0.2487\n",
            "Epoch 15/1000\n",
            "100/100 [==============================] - 142s 1s/step - loss: 3.7351 - acc: 0.1475 - val_loss: 3.1429 - val_acc: 0.2584\n",
            "Epoch 16/1000\n",
            "100/100 [==============================] - 143s 1s/step - loss: 3.7312 - acc: 0.1395 - val_loss: 3.1810 - val_acc: 0.2518\n",
            "Epoch 17/1000\n",
            "100/100 [==============================] - 144s 1s/step - loss: 3.6864 - acc: 0.1455 - val_loss: 3.1503 - val_acc: 0.2591\n",
            "Epoch 18/1000\n",
            "100/100 [==============================] - ETA: 0s - loss: 3.7912 - acc: 0.1340"
          ],
          "name": "stdout"
        }
      ]
    },
    {
      "cell_type": "code",
      "metadata": {
        "id": "FrKNfTTz-AT7"
      },
      "source": [
        "model.save('food_vgg16_model.h5')"
      ],
      "execution_count": null,
      "outputs": []
    },
    {
      "cell_type": "markdown",
      "metadata": {
        "id": "Nn6ioJw-bOIq"
      },
      "source": [
        "## Inception"
      ]
    },
    {
      "cell_type": "code",
      "metadata": {
        "id": "Ofk_zeuYbRhs"
      },
      "source": [
        "# Add our data-augmentation parameters to ImageDataGenerator\r\n",
        "train_datagen_Inception = ImageDataGenerator(rescale = 1./255., \r\n",
        "                                   rotation_range = 40, \r\n",
        "                                   width_shift_range = 0.2, \r\n",
        "                                   height_shift_range = 0.2,\r\n",
        "                                   shear_range = 0.2, \r\n",
        "                                   zoom_range = 0.2, \r\n",
        "                                   horizontal_flip = True)\r\n",
        "\r\n",
        "val_datagen_Inception = ImageDataGenerator( rescale = 1.0/255. )"
      ],
      "execution_count": null,
      "outputs": []
    },
    {
      "cell_type": "code",
      "metadata": {
        "id": "xu_o--k-bhBX"
      },
      "source": [
        "#Training and Validation Generators\r\n",
        "train_generator = train_datagen_Inception.flow_from_directory(train_dir, batch_size = 20, class_mode = 'categorical', target_size = (150, 150))\r\n",
        "validation_generator = val_datagen_Inception.flow_from_directory(validation_dir, batch_size = 20, class_mode = 'categorical', target_size = (150, 150))\r\n"
      ],
      "execution_count": null,
      "outputs": []
    },
    {
      "cell_type": "code",
      "metadata": {
        "id": "2zBQU1OBbrQZ"
      },
      "source": [
        "#Loading the Base Model\r\n",
        "from tensorflow.keras.applications.inception_v3 import InceptionV3\r\n",
        "base_model = InceptionV3(input_shape = (150, 150, 3), include_top = False, weights = 'imagenet')"
      ],
      "execution_count": null,
      "outputs": []
    },
    {
      "cell_type": "code",
      "metadata": {
        "colab": {
          "base_uri": "https://localhost:8080/"
        },
        "id": "16iuH_3CeUne",
        "outputId": "94cffeef-4532-4807-9ce6-d9421b47f0b2"
      },
      "source": [
        "gc.collect()"
      ],
      "execution_count": null,
      "outputs": [
        {
          "output_type": "execute_result",
          "data": {
            "text/plain": [
              "1005"
            ]
          },
          "metadata": {
            "tags": []
          },
          "execution_count": 14
        }
      ]
    },
    {
      "cell_type": "code",
      "metadata": {
        "id": "sVYp04dkbuyc"
      },
      "source": [
        "#Compile and Fit\r\n",
        "for layer in base_model.layers:\r\n",
        "    layer.trainable = False"
      ],
      "execution_count": null,
      "outputs": []
    },
    {
      "cell_type": "code",
      "metadata": {
        "id": "y6spctcwb7oY"
      },
      "source": [
        "from tensorflow.keras.optimizers import RMSprop\r\n",
        "\r\n",
        "x = layers.Flatten()(base_model.output)\r\n",
        "x = layers.Dense(1024, activation='relu')(x)\r\n",
        "x = layers.Dropout(0.2)(x)\r\n",
        "x = layers.Dense(101, activation='softmax')(x)\r\n",
        "\r\n",
        "model = tf.keras.models.Model(base_model.input, x)\r\n",
        "\r\n",
        "model.compile(optimizer = RMSprop(lr=0.0001), loss = 'categorical_crossentropy', metrics = ['acc'])"
      ],
      "execution_count": null,
      "outputs": []
    },
    {
      "cell_type": "code",
      "metadata": {
        "id": "QzER5vQ9cGgs"
      },
      "source": [
        "inc_history = model.fit_generator(train_generator, validation_data = validation_generator, steps_per_epoch = 100, epochs = 10)\r\n"
      ],
      "execution_count": null,
      "outputs": []
    },
    {
      "cell_type": "markdown",
      "metadata": {
        "id": "YKQL6b6DcPsF"
      },
      "source": [
        "## ResNet50"
      ]
    },
    {
      "cell_type": "code",
      "metadata": {
        "id": "7azLMDgLcKXA"
      },
      "source": [
        "# Add our data-augmentation parameters to ImageDataGenerator\r\n",
        "\r\n",
        "train_datagen_ResNet50 = ImageDataGenerator(rescale = 1./255., rotation_range = 40, width_shift_range = 0.2, height_shift_range = 0.2, shear_range = 0.2, zoom_range = 0.2, horizontal_flip = True)\r\n",
        "\r\n",
        "val_datagen_ResNet50 = ImageDataGenerator(rescale = 1.0/255.)\r\n",
        "\r\n",
        "train_generator = train_datagen_ResNet50.flow_from_directory(train_dir, batch_size = 20, class_mode = 'categorical', target_size = (224, 224))\r\n",
        "\r\n",
        "validation_generator = val_datagen_ResNet50.flow_from_directory( validation_dir, batch_size = 20, class_mode = 'categorical', target_size = (224, 224))\r\n"
      ],
      "execution_count": null,
      "outputs": []
    },
    {
      "cell_type": "code",
      "metadata": {
        "id": "xMypPhqacaTw"
      },
      "source": [
        "#Import the base model\r\n",
        "from tensorflow.keras.applications import ResNet50\r\n",
        "\r\n",
        "base_model = ResNet50(input_shape=(224, 224,3), include_top=False, weights=\"imagenet\")"
      ],
      "execution_count": null,
      "outputs": []
    },
    {
      "cell_type": "code",
      "metadata": {
        "colab": {
          "base_uri": "https://localhost:8080/"
        },
        "id": "OH4b51BseZAF",
        "outputId": "94cffeef-4532-4807-9ce6-d9421b47f0b2"
      },
      "source": [
        "gc.collect()"
      ],
      "execution_count": null,
      "outputs": [
        {
          "output_type": "execute_result",
          "data": {
            "text/plain": [
              "1005"
            ]
          },
          "metadata": {
            "tags": []
          },
          "execution_count": 14
        }
      ]
    },
    {
      "cell_type": "code",
      "metadata": {
        "id": "7sowJPBzcg3Y"
      },
      "source": [
        "for layer in base_model.layers:\r\n",
        "    layer.trainable = False"
      ],
      "execution_count": null,
      "outputs": []
    },
    {
      "cell_type": "code",
      "metadata": {
        "id": "ghyi2e2hckL_"
      },
      "source": [
        "#Build and Compile the Model\r\n",
        "\r\n",
        "from tensorflow.keras.applications import ResNet50\r\n",
        "from tensorflow.python.keras.models import Sequential\r\n",
        "from tensorflow.python.keras.layers import Dense, Flatten, GlobalAveragePooling2D\r\n",
        "\r\n",
        "base_model = Sequential()\r\n",
        "base_model.add(ResNet50(include_top=False, weights='imagenet', pooling='max'))\r\n",
        "base_model.add(Dense(101, activation='softmax'))"
      ],
      "execution_count": null,
      "outputs": []
    },
    {
      "cell_type": "code",
      "metadata": {
        "id": "oZAvpkUOctCg"
      },
      "source": [
        "base_model.compile(optimizer = tf.keras.optimizers.SGD(lr=0.0001), loss = 'categorical_crossentropy', metrics = ['acc'])"
      ],
      "execution_count": null,
      "outputs": []
    },
    {
      "cell_type": "code",
      "metadata": {
        "id": "aS5uvg87cui1"
      },
      "source": [
        "#Fitting the model\r\n",
        "resnet_history = base_model.fit(train_generator, validation_data = validation_generator, steps_per_epoch = 100, epochs = 10)"
      ],
      "execution_count": null,
      "outputs": []
    },
    {
      "cell_type": "markdown",
      "metadata": {
        "id": "j2qoWntVc6gF"
      },
      "source": [
        "## EfficientNet"
      ]
    },
    {
      "cell_type": "code",
      "metadata": {
        "id": "atet0_bjc17o"
      },
      "source": [
        "import efficientnet.keras as efn"
      ],
      "execution_count": null,
      "outputs": []
    },
    {
      "cell_type": "code",
      "metadata": {
        "id": "a3WnLq_XdGMv"
      },
      "source": [
        "# Add our data-augmentation parameters to ImageDataGenerator\r\n",
        "\r\n",
        "train_datagen_EfficientNet = ImageDataGenerator(rescale = 1./255., rotation_range = 40, width_shift_range = 0.2, height_shift_range = 0.2, shear_range = 0.2, zoom_range = 0.2, horizontal_flip = True)\r\n",
        "\r\n",
        "val_datagen_EfficientNet = ImageDataGenerator(rescale = 1.0/255.)\r\n",
        "\r\n",
        "train_generator = train_datagen_EfficientNet.flow_from_directory(train_dir, batch_size = 20, class_mode = 'categorical', target_size = (224, 224))\r\n",
        "\r\n",
        "validation_generator = val_datagen_EfficientNet.flow_from_directory( validation_dir, batch_size = 20, class_mode = 'categorical', target_size = (224, 224))"
      ],
      "execution_count": null,
      "outputs": []
    },
    {
      "cell_type": "code",
      "metadata": {
        "id": "KqvzTSakdIZT"
      },
      "source": [
        "#Loading the Base Model\r\n",
        "\r\n",
        "base_model = efn.EfficientNetB0(input_shape = (224, 224, 3), include_top = False, weights = 'imagenet')"
      ],
      "execution_count": null,
      "outputs": []
    },
    {
      "cell_type": "code",
      "metadata": {
        "colab": {
          "base_uri": "https://localhost:8080/"
        },
        "id": "QBD6Al90edc-",
        "outputId": "94cffeef-4532-4807-9ce6-d9421b47f0b2"
      },
      "source": [
        "gc.collect()"
      ],
      "execution_count": null,
      "outputs": [
        {
          "output_type": "execute_result",
          "data": {
            "text/plain": [
              "1005"
            ]
          },
          "metadata": {
            "tags": []
          },
          "execution_count": 14
        }
      ]
    },
    {
      "cell_type": "code",
      "metadata": {
        "id": "VpY3_tUCdTXX"
      },
      "source": [
        "#freeze the layers\r\n",
        "for layer in base_model.layers:\r\n",
        "    layer.trainable = False"
      ],
      "execution_count": null,
      "outputs": []
    },
    {
      "cell_type": "code",
      "metadata": {
        "id": "iLHFcWRIda2P"
      },
      "source": [
        "#Build the model\r\n",
        "\r\n",
        "x = model.output\r\n",
        "x = Flatten()(x)\r\n",
        "x = Dense(1024, activation=\"relu\")(x)\r\n",
        "x = Dropout(0.5)(x)\r\n",
        "predictions = Dense(101, activation=\"softmax\")(x)\r\n",
        "model_final = Model(input = model.input, output = predictions)"
      ],
      "execution_count": null,
      "outputs": []
    },
    {
      "cell_type": "code",
      "metadata": {
        "id": "dWzkB4itdozl"
      },
      "source": [
        "#Compile and Fit\r\n",
        "\r\n",
        "model_final.compile(optimizers.rmsprop(lr=0.0001, decay=1e-6),loss='categorical_crossentropy',metrics=['accuracy'])\r\n",
        "eff_history = model_final.fit_generator(train_generator, validation_data = validation_generator, steps_per_epoch = 100, epochs = 10)\r\n"
      ],
      "execution_count": null,
      "outputs": []
    },
    {
      "cell_type": "code",
      "metadata": {
        "id": "tZWICXIrdowg"
      },
      "source": [
        ""
      ],
      "execution_count": null,
      "outputs": []
    },
    {
      "cell_type": "markdown",
      "metadata": {
        "id": "sql6-PuIhD24"
      },
      "source": [
        "### Temas:\r\n",
        "\r\n",
        "* rever o reshape das imagens (não sei se deve ser igual para todas)\r\n",
        "* Experiências com a baseline (já tens)\r\n",
        "* testar o código do modelo pré treinado\r\n",
        "  * penso que não é necessário coletar os dados em todos os modelos\r\n",
        "\r\n",
        "\r\n",
        "Amanhã testo os modelos.\r\n"
      ]
    },
    {
      "cell_type": "markdown",
      "metadata": {
        "id": "5H2y5JMHg3hP"
      },
      "source": [
        "# FIM DE CÓDIGO"
      ]
    },
    {
      "cell_type": "code",
      "metadata": {
        "id": "1-52HvYwdosk"
      },
      "source": [
        ""
      ],
      "execution_count": null,
      "outputs": []
    },
    {
      "cell_type": "code",
      "metadata": {
        "id": "UI46_cAQdoo_"
      },
      "source": [
        ""
      ],
      "execution_count": null,
      "outputs": []
    },
    {
      "cell_type": "code",
      "metadata": {
        "id": "bEPPP2Kxdog7"
      },
      "source": [
        ""
      ],
      "execution_count": null,
      "outputs": []
    },
    {
      "cell_type": "code",
      "metadata": {
        "colab": {
          "base_uri": "https://localhost:8080/"
        },
        "id": "AqS1V0ObHhcz",
        "outputId": "94cffeef-4532-4807-9ce6-d9421b47f0b2"
      },
      "source": [
        "gc.collect()"
      ],
      "execution_count": null,
      "outputs": [
        {
          "output_type": "execute_result",
          "data": {
            "text/plain": [
              "1005"
            ]
          },
          "metadata": {
            "tags": []
          },
          "execution_count": 14
        }
      ]
    },
    {
      "cell_type": "code",
      "metadata": {
        "colab": {
          "base_uri": "https://localhost:8080/"
        },
        "id": "pMnwx2_VHjDy",
        "outputId": "847469dc-ccfa-4379-fb8b-506b2ff63c1d"
      },
      "source": [
        "early_stopping_callback = EarlyStopping(monitor='val_loss', patience=4)\r\n",
        "checkpoint_callback = ModelCheckpoint('InceptionNet.h5', monitor='val_loss', verbose=1, save_best_only=True, mode='min')\r\n",
        "history = model.fit_generator(train_generator,\r\n",
        "                            validation_data=valid_generator,\r\n",
        "                            epochs=10,\r\n",
        "                            workers=0,\r\n",
        "                            use_multiprocessing=False, \r\n",
        "                            callbacks=[early_stopping_callback, checkpoint_callback])"
      ],
      "execution_count": null,
      "outputs": [
        {
          "output_type": "stream",
          "text": [
            "/usr/local/lib/python3.6/dist-packages/tensorflow/python/keras/engine/training.py:1844: UserWarning: `Model.fit_generator` is deprecated and will be removed in a future version. Please use `Model.fit`, which supports generators.\n",
            "  warnings.warn('`Model.fit_generator` is deprecated and '\n"
          ],
          "name": "stderr"
        },
        {
          "output_type": "stream",
          "text": [
            "Epoch 1/10\n",
            "1263/1263 [==============================] - 1739s 1s/step - loss: 2.8844 - accuracy: 0.3382 - val_loss: 2.6619 - val_accuracy: 0.3891\n",
            "\n",
            "Epoch 00001: val_loss improved from inf to 2.66189, saving model to InceptionNet.h5\n",
            "Epoch 2/10\n",
            "1263/1263 [==============================] - 1675s 1s/step - loss: 1.4509 - accuracy: 0.6439 - val_loss: 2.6808 - val_accuracy: 0.4057\n",
            "\n",
            "Epoch 00002: val_loss did not improve from 2.66189\n",
            "Epoch 3/10\n",
            "1263/1263 [==============================] - 1638s 1s/step - loss: 1.1333 - accuracy: 0.7240 - val_loss: 1.8525 - val_accuracy: 0.5699\n",
            "\n",
            "Epoch 00003: val_loss improved from 2.66189 to 1.85251, saving model to InceptionNet.h5\n",
            "Epoch 4/10\n",
            "1263/1263 [==============================] - 1615s 1s/step - loss: 0.9297 - accuracy: 0.7748 - val_loss: 2.3600 - val_accuracy: 0.4794\n",
            "\n",
            "Epoch 00004: val_loss did not improve from 1.85251\n",
            "Epoch 5/10\n",
            "1263/1263 [==============================] - 1600s 1s/step - loss: 0.7756 - accuracy: 0.8156 - val_loss: 1.8512 - val_accuracy: 0.5752\n",
            "\n",
            "Epoch 00005: val_loss improved from 1.85251 to 1.85121, saving model to InceptionNet.h5\n",
            "Epoch 6/10\n",
            "1263/1263 [==============================] - 1576s 1s/step - loss: 0.6716 - accuracy: 0.8430 - val_loss: 2.0550 - val_accuracy: 0.5553\n",
            "\n",
            "Epoch 00006: val_loss did not improve from 1.85121\n",
            "Epoch 7/10\n",
            "1263/1263 [==============================] - 1586s 1s/step - loss: 0.5669 - accuracy: 0.8716 - val_loss: 1.5541 - val_accuracy: 0.6615\n",
            "\n",
            "Epoch 00007: val_loss improved from 1.85121 to 1.55413, saving model to InceptionNet.h5\n",
            "Epoch 8/10\n",
            "1263/1263 [==============================] - 1593s 1s/step - loss: 0.4740 - accuracy: 0.8973 - val_loss: 1.8449 - val_accuracy: 0.5967\n",
            "\n",
            "Epoch 00008: val_loss did not improve from 1.55413\n",
            "Epoch 9/10\n",
            "1263/1263 [==============================] - 1575s 1s/step - loss: 0.4182 - accuracy: 0.9116 - val_loss: 2.1094 - val_accuracy: 0.5749\n",
            "\n",
            "Epoch 00009: val_loss did not improve from 1.55413\n",
            "Epoch 10/10\n",
            "1263/1263 [==============================] - 1593s 1s/step - loss: 0.3734 - accuracy: 0.9240 - val_loss: 1.6664 - val_accuracy: 0.6562\n",
            "\n",
            "Epoch 00010: val_loss did not improve from 1.55413\n"
          ],
          "name": "stdout"
        }
      ]
    },
    {
      "cell_type": "code",
      "metadata": {
        "id": "LhP-Yb3T8V9M",
        "colab": {
          "base_uri": "https://localhost:8080/"
        },
        "outputId": "db8d5ebf-96b2-4d3e-fc05-4f8ba540c070"
      },
      "source": [
        "train_datagen = ImageDataGenerator(#data_format='channels_first',\r\n",
        "                                  validation_split=0.2,\r\n",
        "                                  samplewise_center = True,\r\n",
        "                                  samplewise_std_normalization = True,rescale = 1.0/255.)\r\n",
        "\r\n",
        "train_datageno = ImageDataGenerator(rescale = 1./255.,rotation_range = 40, width_shift_range = 0.2, height_shift_range = 0.2, shear_range = 0.2, zoom_range = 0.2, horizontal_flip = True)\r\n",
        "\r\n",
        "train_generator = train_datagen.flow_from_directory(directory=\"/content/images\",\r\n",
        "                                                    subset=\"training\",\r\n",
        "                                                    batch_size=20,\r\n",
        "                                                    shuffle=True,\r\n",
        "                                                    class_mode=\"categorical\",\r\n",
        "                                                    target_size=(224,224),\r\n",
        "                                                    seed=42)\r\n",
        "\r\n",
        "valid_generator=train_datagen.flow_from_directory(directory=\"/content/images\",\r\n",
        "                                                  subset=\"validation\",\r\n",
        "                                                  batch_size=20,\r\n",
        "                                                  shuffle=True,\r\n",
        "                                                  class_mode=\"categorical\",\r\n",
        "                                                  target_size=(224,224),\r\n",
        "                                                  seed=42)\r\n",
        "\r\n"
      ],
      "execution_count": null,
      "outputs": [
        {
          "output_type": "stream",
          "text": [
            "Found 80800 images belonging to 101 classes.\n",
            "Found 20200 images belonging to 101 classes.\n"
          ],
          "name": "stdout"
        }
      ]
    },
    {
      "cell_type": "code",
      "metadata": {
        "id": "WV8BgNKg_pX8"
      },
      "source": [
        "train_datageno.fit(train_generator)"
      ],
      "execution_count": null,
      "outputs": []
    },
    {
      "cell_type": "code",
      "metadata": {
        "id": "uaPfhC2H9KUy"
      },
      "source": [
        "train_generator\r\n",
        "\r\n",
        "valid_generator"
      ],
      "execution_count": null,
      "outputs": []
    },
    {
      "cell_type": "code",
      "metadata": {
        "id": "I_02c-wY9oXi"
      },
      "source": [
        "#IMAGE AUGMENTATION\r\n",
        "\r\n",
        "# Add our data-augmentation parameters to ImageDataGenerator\r\n",
        "train_datagen = ImageDataGenerator(rescale = 1./255.,rotation_range = 40, width_shift_range = 0.2, height_shift_range = 0.2, shear_range = 0.2, zoom_range = 0.2, horizontal_flip = True)\r\n",
        "\r\n",
        "# Note that the validation data should not be augmented!\r\n",
        "test_datagen = ImageDataGenerator( rescale = 1.0/255. )"
      ],
      "execution_count": null,
      "outputs": []
    },
    {
      "cell_type": "code",
      "metadata": {
        "id": "hoYnP06t90UU",
        "colab": {
          "base_uri": "https://localhost:8080/"
        },
        "outputId": "8aab97e9-97ea-4f72-a9fd-2015313e2d87"
      },
      "source": [
        "#TRAINING\r\n",
        "\r\n",
        "# Flow training images in batches of 20 using train_datagen generator\r\n",
        "train_generator = train_datagen.flow_from_directory(directory=\"/content/output/train\", batch_size = 20, class_mode = 'categorical', target_size = (224, 224))\r\n",
        "\r\n",
        "# Flow validation images in batches of 20 using test_datagen generator\r\n",
        "validation_generator = test_datagen.flow_from_directory(directory=\"/content/output/val\",  batch_size = 20, class_mode = 'categorical', target_size = (224, 224))"
      ],
      "execution_count": null,
      "outputs": [
        {
          "output_type": "stream",
          "text": [
            "Found 80800 images belonging to 101 classes.\n",
            "Found 20200 images belonging to 101 classes.\n"
          ],
          "name": "stdout"
        }
      ]
    },
    {
      "cell_type": "code",
      "metadata": {
        "id": "tn7T0OTtYH9X"
      },
      "source": [
        "#NOVO PROJETO"
      ],
      "execution_count": null,
      "outputs": []
    },
    {
      "cell_type": "code",
      "metadata": {
        "id": "I_YMJw-OYHHH"
      },
      "source": [
        "import tensorflow as tf\r\n",
        "import matplotlib.image as img\r\n",
        "%matplotlib inline\r\n",
        "import numpy as np\r\n",
        "from collections import defaultdict\r\n",
        "import collections\r\n",
        "from shutil import copy\r\n",
        "from shutil import copytree, rmtree\r\n",
        "import tensorflow.keras.backend as K\r\n",
        "from tensorflow.keras.models import load_model\r\n",
        "from tensorflow.keras.preprocessing import image\r\n",
        "import matplotlib.pyplot as plt\r\n",
        "import numpy as np\r\n",
        "import os\r\n",
        "import random\r\n",
        "import tensorflow as tf\r\n",
        "import tensorflow.keras.backend as K\r\n",
        "from tensorflow.keras import regularizers\r\n",
        "from tensorflow.keras.applications.inception_v3 import InceptionV3\r\n",
        "from tensorflow.keras.models import Sequential, Model\r\n",
        "from tensorflow.keras.layers import Dense, Dropout, Activation, Flatten\r\n",
        "from tensorflow.keras.layers import Convolution2D, MaxPooling2D, ZeroPadding2D, GlobalAveragePooling2D, AveragePooling2D\r\n",
        "from tensorflow.keras.preprocessing.image import ImageDataGenerator\r\n",
        "from tensorflow.keras.callbacks import ModelCheckpoint, CSVLogger\r\n",
        "from tensorflow.keras.optimizers import SGD\r\n",
        "from tensorflow.keras.regularizers import l2\r\n",
        "from tensorflow import keras\r\n",
        "from tensorflow.keras import models\r\n",
        "import cv2"
      ],
      "execution_count": null,
      "outputs": []
    },
    {
      "cell_type": "code",
      "metadata": {
        "id": "-DBXuBB1YpKe"
      },
      "source": [
        "# Helper method to create train_mini and test_mini data samples\r\n",
        "def dataset_mini(food_list, src, dest):\r\n",
        "  if os.path.exists(dest):\r\n",
        "    rmtree(dest) # removing dataset_mini(if it already exists) folders so that we will have only the classes that we want\r\n",
        "  os.makedirs(dest)\r\n",
        "  for food_item in food_list :\r\n",
        "    print(\"Copying images into\",food_item)\r\n",
        "    copytree(os.path.join(src,food_item), os.path.join(dest,food_item))"
      ],
      "execution_count": null,
      "outputs": []
    },
    {
      "cell_type": "code",
      "metadata": {
        "id": "Rub3rI5JYqAd"
      },
      "source": [
        "food_list = ['apple_pie','pizza','omelette']\r\n",
        "src_train = '/content/output/train'\r\n",
        "dest_train = '/content/output/train_mini'\r\n",
        "src_test = '/content/output/val'\r\n",
        "dest_test = '/content/output/val_mini'"
      ],
      "execution_count": null,
      "outputs": []
    },
    {
      "cell_type": "code",
      "metadata": {
        "colab": {
          "base_uri": "https://localhost:8080/"
        },
        "id": "9j2v4yf1YuTo",
        "outputId": "de2d8c33-8e1e-4b0e-f44c-1db3df558e13"
      },
      "source": [
        "print(\"Creating train data folder with new classes\")\r\n",
        "dataset_mini(food_list, src_train, dest_train)"
      ],
      "execution_count": null,
      "outputs": [
        {
          "output_type": "stream",
          "text": [
            "Creating train data folder with new classes\n",
            "Copying images into apple_pie\n",
            "Copying images into pizza\n",
            "Copying images into omelette\n"
          ],
          "name": "stdout"
        }
      ]
    },
    {
      "cell_type": "code",
      "metadata": {
        "colab": {
          "base_uri": "https://localhost:8080/"
        },
        "id": "AEUIlRZrZluW",
        "outputId": "ed08b9b0-1204-4bc6-cee5-f116ef097481"
      },
      "source": [
        "print(\"Total number of samples in train folder\")\r\n",
        "\r\n",
        "!find /content/output/train_mini -type d -or -type f -printf '.' | wc -c\r\n",
        "\r\n"
      ],
      "execution_count": null,
      "outputs": [
        {
          "output_type": "stream",
          "text": [
            "Total number of samples in train folder\n",
            "2400\n"
          ],
          "name": "stdout"
        }
      ]
    },
    {
      "cell_type": "code",
      "metadata": {
        "colab": {
          "base_uri": "https://localhost:8080/"
        },
        "id": "kiCLhXisaAl0",
        "outputId": "c7152a01-1ec1-4a6e-af9e-d3e6fdad8893"
      },
      "source": [
        "\r\n",
        "\r\n",
        "print(\"Creating test data folder with new classes\")\r\n",
        "dataset_mini(food_list, src_test, dest_test)\r\n",
        "\r\n"
      ],
      "execution_count": null,
      "outputs": [
        {
          "output_type": "stream",
          "text": [
            "Creating test data folder with new classes\n",
            "Copying images into apple_pie\n",
            "Copying images into pizza\n",
            "Copying images into omelette\n"
          ],
          "name": "stdout"
        }
      ]
    },
    {
      "cell_type": "code",
      "metadata": {
        "colab": {
          "base_uri": "https://localhost:8080/"
        },
        "id": "_6r9eXEUacLj",
        "outputId": "54d50a5a-bf53-40e7-e056-f122d6784019"
      },
      "source": [
        "print(\"Total number of samples in test folder\")\r\n",
        "!find /content/output/val_mini -type d -or -type f -printf '.' | wc -c\r\n",
        "\r\n"
      ],
      "execution_count": null,
      "outputs": [
        {
          "output_type": "stream",
          "text": [
            "Total number of samples in test folder\n",
            "600\n"
          ],
          "name": "stdout"
        }
      ]
    },
    {
      "cell_type": "code",
      "metadata": {
        "colab": {
          "base_uri": "https://localhost:8080/"
        },
        "id": "aMmnPuRTat7d",
        "outputId": "a296224e-1044-48c4-8d22-b872576de206"
      },
      "source": [
        "K.clear_session()\r\n",
        "n_classes = 3\r\n",
        "img_width, img_height = 299, 299\r\n",
        "train_data_dir = '/content/output/train_mini'\r\n",
        "validation_data_dir = '/content/output/val_mini'\r\n",
        "nb_train_samples = 2400 #75750\r\n",
        "nb_validation_samples = 600 #25250\r\n",
        "batch_size = 16\r\n",
        "\r\n",
        "train_datagen = ImageDataGenerator(\r\n",
        "    rescale=1. / 255,\r\n",
        "    shear_range=0.2,\r\n",
        "    zoom_range=0.2,\r\n",
        "    horizontal_flip=True)\r\n",
        "\r\n",
        "test_datagen = ImageDataGenerator(rescale=1. / 255)\r\n",
        "\r\n",
        "train_generator = train_datagen.flow_from_directory(\r\n",
        "    train_data_dir,\r\n",
        "    target_size=(img_height, img_width),\r\n",
        "    batch_size=batch_size,\r\n",
        "    class_mode='categorical')\r\n",
        "\r\n",
        "validation_generator = test_datagen.flow_from_directory(\r\n",
        "    validation_data_dir,\r\n",
        "    target_size=(img_height, img_width),\r\n",
        "    batch_size=batch_size,\r\n",
        "    class_mode='categorical')\r\n",
        "\r\n",
        "\r\n",
        "inception = InceptionV3(weights='imagenet', include_top=False)\r\n",
        "x = inception.output\r\n",
        "x = GlobalAveragePooling2D()(x)\r\n",
        "x = Dense(128,activation='relu')(x)\r\n",
        "x = Dropout(0.2)(x)\r\n",
        "\r\n",
        "predictions = Dense(3,kernel_regularizer=regularizers.l2(0.005), activation='softmax')(x)\r\n",
        "\r\n",
        "model = Model(inputs=inception.input, outputs=predictions)\r\n",
        "model.compile(optimizer=SGD(lr=0.0001, momentum=0.9), loss='categorical_crossentropy', metrics=['accuracy'])\r\n",
        "checkpointer = ModelCheckpoint(filepath='best_model_3class.hdf5', verbose=1, save_best_only=True)\r\n",
        "csv_logger = CSVLogger('history_3class.log')\r\n",
        "\r\n",
        "history = model.fit_generator(train_generator,\r\n",
        "                    steps_per_epoch = nb_train_samples // batch_size,\r\n",
        "                    validation_data=validation_generator,\r\n",
        "                    validation_steps=nb_validation_samples // batch_size,\r\n",
        "                    epochs=30,\r\n",
        "                    verbose=1,\r\n",
        "                    callbacks=[csv_logger, checkpointer])\r\n",
        "\r\n",
        "model.save('model_trained_3class.hdf5')"
      ],
      "execution_count": null,
      "outputs": [
        {
          "output_type": "stream",
          "text": [
            "Found 2400 images belonging to 3 classes.\n",
            "Found 600 images belonging to 3 classes.\n",
            "Downloading data from https://storage.googleapis.com/tensorflow/keras-applications/inception_v3/inception_v3_weights_tf_dim_ordering_tf_kernels_notop.h5\n",
            "87916544/87910968 [==============================] - 1s 0us/step\n"
          ],
          "name": "stdout"
        },
        {
          "output_type": "stream",
          "text": [
            "/usr/local/lib/python3.6/dist-packages/tensorflow/python/keras/engine/training.py:1844: UserWarning: `Model.fit_generator` is deprecated and will be removed in a future version. Please use `Model.fit`, which supports generators.\n",
            "  warnings.warn('`Model.fit_generator` is deprecated and '\n"
          ],
          "name": "stderr"
        },
        {
          "output_type": "stream",
          "text": [
            "Epoch 1/30\n",
            "150/150 [==============================] - 74s 442ms/step - loss: 1.1282 - accuracy: 0.4067 - val_loss: 0.8111 - val_accuracy: 0.6959\n",
            "\n",
            "Epoch 00001: val_loss improved from inf to 0.81108, saving model to best_model_3class.hdf5\n",
            "Epoch 2/30\n",
            "150/150 [==============================] - 65s 432ms/step - loss: 0.8120 - accuracy: 0.6959 - val_loss: 0.6171 - val_accuracy: 0.7973\n",
            "\n",
            "Epoch 00002: val_loss improved from 0.81108 to 0.61714, saving model to best_model_3class.hdf5\n",
            "Epoch 3/30\n",
            "150/150 [==============================] - 65s 433ms/step - loss: 0.6302 - accuracy: 0.7828 - val_loss: 0.4980 - val_accuracy: 0.8429\n",
            "\n",
            "Epoch 00003: val_loss improved from 0.61714 to 0.49803, saving model to best_model_3class.hdf5\n",
            "Epoch 4/30\n",
            "150/150 [==============================] - 65s 434ms/step - loss: 0.5057 - accuracy: 0.8249 - val_loss: 0.4307 - val_accuracy: 0.8530\n",
            "\n",
            "Epoch 00004: val_loss improved from 0.49803 to 0.43072, saving model to best_model_3class.hdf5\n",
            "Epoch 5/30\n",
            "150/150 [==============================] - 65s 432ms/step - loss: 0.4414 - accuracy: 0.8528 - val_loss: 0.3887 - val_accuracy: 0.8682\n",
            "\n",
            "Epoch 00005: val_loss improved from 0.43072 to 0.38873, saving model to best_model_3class.hdf5\n",
            "Epoch 6/30\n",
            "150/150 [==============================] - 64s 428ms/step - loss: 0.3861 - accuracy: 0.8760 - val_loss: 0.3487 - val_accuracy: 0.8851\n",
            "\n",
            "Epoch 00006: val_loss improved from 0.38873 to 0.34866, saving model to best_model_3class.hdf5\n",
            "Epoch 7/30\n",
            "150/150 [==============================] - 64s 425ms/step - loss: 0.3607 - accuracy: 0.8894 - val_loss: 0.3374 - val_accuracy: 0.8919\n",
            "\n",
            "Epoch 00007: val_loss improved from 0.34866 to 0.33739, saving model to best_model_3class.hdf5\n",
            "Epoch 8/30\n",
            "150/150 [==============================] - 64s 424ms/step - loss: 0.3264 - accuracy: 0.8945 - val_loss: 0.3246 - val_accuracy: 0.8868\n",
            "\n",
            "Epoch 00008: val_loss improved from 0.33739 to 0.32456, saving model to best_model_3class.hdf5\n",
            "Epoch 9/30\n",
            "150/150 [==============================] - 64s 425ms/step - loss: 0.3041 - accuracy: 0.8975 - val_loss: 0.3151 - val_accuracy: 0.8936\n",
            "\n",
            "Epoch 00009: val_loss improved from 0.32456 to 0.31511, saving model to best_model_3class.hdf5\n",
            "Epoch 10/30\n",
            "150/150 [==============================] - 64s 423ms/step - loss: 0.2846 - accuracy: 0.9082 - val_loss: 0.2976 - val_accuracy: 0.8970\n",
            "\n",
            "Epoch 00010: val_loss improved from 0.31511 to 0.29762, saving model to best_model_3class.hdf5\n",
            "Epoch 11/30\n",
            "150/150 [==============================] - 64s 423ms/step - loss: 0.2636 - accuracy: 0.9179 - val_loss: 0.2966 - val_accuracy: 0.9054\n",
            "\n",
            "Epoch 00011: val_loss improved from 0.29762 to 0.29656, saving model to best_model_3class.hdf5\n",
            "Epoch 12/30\n",
            "150/150 [==============================] - 64s 423ms/step - loss: 0.2295 - accuracy: 0.9268 - val_loss: 0.2885 - val_accuracy: 0.9054\n",
            "\n",
            "Epoch 00012: val_loss improved from 0.29656 to 0.28855, saving model to best_model_3class.hdf5\n",
            "Epoch 13/30\n",
            "150/150 [==============================] - 63s 422ms/step - loss: 0.2206 - accuracy: 0.9366 - val_loss: 0.2874 - val_accuracy: 0.9054\n",
            "\n",
            "Epoch 00013: val_loss improved from 0.28855 to 0.28742, saving model to best_model_3class.hdf5\n",
            "Epoch 14/30\n",
            "150/150 [==============================] - 64s 426ms/step - loss: 0.2234 - accuracy: 0.9255 - val_loss: 0.2800 - val_accuracy: 0.9037\n",
            "\n",
            "Epoch 00014: val_loss improved from 0.28742 to 0.28002, saving model to best_model_3class.hdf5\n",
            "Epoch 15/30\n",
            "150/150 [==============================] - 64s 425ms/step - loss: 0.2030 - accuracy: 0.9368 - val_loss: 0.2745 - val_accuracy: 0.9071\n",
            "\n",
            "Epoch 00015: val_loss improved from 0.28002 to 0.27449, saving model to best_model_3class.hdf5\n",
            "Epoch 16/30\n",
            "150/150 [==============================] - 64s 424ms/step - loss: 0.1816 - accuracy: 0.9455 - val_loss: 0.2807 - val_accuracy: 0.9071\n",
            "\n",
            "Epoch 00016: val_loss did not improve from 0.27449\n",
            "Epoch 17/30\n",
            "150/150 [==============================] - 64s 423ms/step - loss: 0.1822 - accuracy: 0.9529 - val_loss: 0.2749 - val_accuracy: 0.9172\n",
            "\n",
            "Epoch 00017: val_loss did not improve from 0.27449\n",
            "Epoch 18/30\n",
            "150/150 [==============================] - 64s 425ms/step - loss: 0.1610 - accuracy: 0.9544 - val_loss: 0.2744 - val_accuracy: 0.9155\n",
            "\n",
            "Epoch 00018: val_loss improved from 0.27449 to 0.27441, saving model to best_model_3class.hdf5\n",
            "Epoch 19/30\n",
            "150/150 [==============================] - 64s 427ms/step - loss: 0.1672 - accuracy: 0.9482 - val_loss: 0.2733 - val_accuracy: 0.9189\n",
            "\n",
            "Epoch 00019: val_loss improved from 0.27441 to 0.27330, saving model to best_model_3class.hdf5\n",
            "Epoch 20/30\n",
            "150/150 [==============================] - 64s 424ms/step - loss: 0.1654 - accuracy: 0.9517 - val_loss: 0.2765 - val_accuracy: 0.9155\n",
            "\n",
            "Epoch 00020: val_loss did not improve from 0.27330\n",
            "Epoch 21/30\n",
            "150/150 [==============================] - 64s 423ms/step - loss: 0.1414 - accuracy: 0.9660 - val_loss: 0.2750 - val_accuracy: 0.9172\n",
            "\n",
            "Epoch 00021: val_loss did not improve from 0.27330\n",
            "Epoch 22/30\n",
            "150/150 [==============================] - 64s 424ms/step - loss: 0.1507 - accuracy: 0.9619 - val_loss: 0.2729 - val_accuracy: 0.9206\n",
            "\n",
            "Epoch 00022: val_loss improved from 0.27330 to 0.27288, saving model to best_model_3class.hdf5\n",
            "Epoch 23/30\n",
            "150/150 [==============================] - 64s 424ms/step - loss: 0.1270 - accuracy: 0.9691 - val_loss: 0.2817 - val_accuracy: 0.9172\n",
            "\n",
            "Epoch 00023: val_loss did not improve from 0.27288\n",
            "Epoch 24/30\n",
            "150/150 [==============================] - 64s 424ms/step - loss: 0.1339 - accuracy: 0.9702 - val_loss: 0.2642 - val_accuracy: 0.9223\n",
            "\n",
            "Epoch 00024: val_loss improved from 0.27288 to 0.26419, saving model to best_model_3class.hdf5\n",
            "Epoch 25/30\n",
            "150/150 [==============================] - 64s 425ms/step - loss: 0.1213 - accuracy: 0.9708 - val_loss: 0.2761 - val_accuracy: 0.9172\n",
            "\n",
            "Epoch 00025: val_loss did not improve from 0.26419\n",
            "Epoch 26/30\n",
            "150/150 [==============================] - 64s 423ms/step - loss: 0.1034 - accuracy: 0.9803 - val_loss: 0.2730 - val_accuracy: 0.9206\n",
            "\n",
            "Epoch 00026: val_loss did not improve from 0.26419\n",
            "Epoch 27/30\n",
            "150/150 [==============================] - 64s 424ms/step - loss: 0.1191 - accuracy: 0.9684 - val_loss: 0.2831 - val_accuracy: 0.9172\n",
            "\n",
            "Epoch 00027: val_loss did not improve from 0.26419\n",
            "Epoch 28/30\n",
            "150/150 [==============================] - 64s 424ms/step - loss: 0.1030 - accuracy: 0.9768 - val_loss: 0.2751 - val_accuracy: 0.9189\n",
            "\n",
            "Epoch 00028: val_loss did not improve from 0.26419\n",
            "Epoch 29/30\n",
            "150/150 [==============================] - 64s 423ms/step - loss: 0.0950 - accuracy: 0.9789 - val_loss: 0.2841 - val_accuracy: 0.9189\n",
            "\n",
            "Epoch 00029: val_loss did not improve from 0.26419\n",
            "Epoch 30/30\n",
            "150/150 [==============================] - 64s 424ms/step - loss: 0.0953 - accuracy: 0.9846 - val_loss: 0.2787 - val_accuracy: 0.9155\n",
            "\n",
            "Epoch 00030: val_loss did not improve from 0.26419\n"
          ],
          "name": "stdout"
        }
      ]
    },
    {
      "cell_type": "code",
      "metadata": {
        "colab": {
          "base_uri": "https://localhost:8080/"
        },
        "id": "hJN9qKjxjFmN",
        "outputId": "ea95dc6e-cd58-4520-a878-f4a0dbaf5504"
      },
      "source": [
        "from tensorflow.keras.models import Sequential\r\n",
        "from tensorflow.keras.layers import Conv2D, MaxPooling2D, Flatten, Dense\r\n",
        "\r\n",
        "baseline_model = Sequential()\r\n",
        "\r\n",
        "baseline_model.add(Conv2D(filters=32, kernel_size=(3, 3), strides=(1,1), activation='relu', padding='valid', input_shape=(299, 299, 3)))\r\n",
        "baseline_model.add(MaxPooling2D(pool_size=(2, 2)))\r\n",
        "\r\n",
        "baseline_model.add(Conv2D(filters=32, kernel_size=(3, 3), strides=(1,1), activation='relu', padding='valid'))\r\n",
        "baseline_model.add(MaxPooling2D(pool_size=(2, 2)))\r\n",
        "\r\n",
        "# MLP - input layer:\r\n",
        "baseline_model.add(Flatten())\r\n",
        "# MLP - hidden layer:\r\n",
        "baseline_model.add(Dense(128, activation='relu'))\r\n",
        "# MLP - output layer:\r\n",
        "baseline_model.add(Dense(101, activation='softmax'))\r\n",
        "\r\n",
        "# Check built model:\r\n",
        "baseline_model.summary()"
      ],
      "execution_count": null,
      "outputs": [
        {
          "output_type": "stream",
          "text": [
            "Model: \"sequential\"\n",
            "_________________________________________________________________\n",
            "Layer (type)                 Output Shape              Param #   \n",
            "=================================================================\n",
            "conv2d (Conv2D)              (None, 297, 297, 32)      896       \n",
            "_________________________________________________________________\n",
            "max_pooling2d (MaxPooling2D) (None, 148, 148, 32)      0         \n",
            "_________________________________________________________________\n",
            "conv2d_1 (Conv2D)            (None, 146, 146, 32)      9248      \n",
            "_________________________________________________________________\n",
            "max_pooling2d_1 (MaxPooling2 (None, 73, 73, 32)        0         \n",
            "_________________________________________________________________\n",
            "flatten (Flatten)            (None, 170528)            0         \n",
            "_________________________________________________________________\n",
            "dense (Dense)                (None, 128)               21827712  \n",
            "_________________________________________________________________\n",
            "dense_1 (Dense)              (None, 101)               13029     \n",
            "=================================================================\n",
            "Total params: 21,850,885\n",
            "Trainable params: 21,850,885\n",
            "Non-trainable params: 0\n",
            "_________________________________________________________________\n"
          ],
          "name": "stdout"
        }
      ]
    },
    {
      "cell_type": "code",
      "metadata": {
        "id": "0V3EIXyxra3z"
      },
      "source": [
        "baseline_model.compile(loss='categorical_crossentropy', optimizer='adam', metrics=['acc'])\r\n",
        "\r\n",
        "# Common attributes:\r\n",
        "steps_per_epoch = 10\r\n",
        "epochs = 1000\r\n",
        "validation_steps = 10\r\n",
        "patience=30\r\n",
        "shuffle=True"
      ],
      "execution_count": null,
      "outputs": []
    },
    {
      "cell_type": "code",
      "metadata": {
        "colab": {
          "base_uri": "https://localhost:8080/"
        },
        "id": "aKg1f8K8tdMo",
        "outputId": "2b4e1036-0036-444a-85e2-2a05c0fee494"
      },
      "source": [
        "train_datagen = ImageDataGenerator(rescale=1. / 255)\r\n",
        "\r\n",
        "train_generator=train_datagen.flow_from_directory(\r\n",
        "                   \r\n",
        "                    directory=\"/content/output/train\",\r\n",
        "                    batch_size=100,\r\n",
        "                    seed=55551,\r\n",
        "                    shuffle=True,\r\n",
        "                    \r\n",
        "                    class_mode=\"categorical\",\r\n",
        "                    target_size=(299,299))\r\n",
        "\r\n",
        "valid_generator=train_datagen.flow_from_directory(\r\n",
        "                    \r\n",
        "                    directory=\"/content/output/val\",\r\n",
        "                    batch_size=100,\r\n",
        "                    seed=55551,\r\n",
        "                    shuffle=True,\r\n",
        "                  \r\n",
        "                    class_mode=\"categorical\",\r\n",
        "                    target_size=(299,299))"
      ],
      "execution_count": null,
      "outputs": [
        {
          "output_type": "stream",
          "text": [
            "Found 80800 images belonging to 101 classes.\n",
            "Found 20200 images belonging to 101 classes.\n"
          ],
          "name": "stdout"
        }
      ]
    },
    {
      "cell_type": "code",
      "metadata": {
        "colab": {
          "base_uri": "https://localhost:8080/"
        },
        "id": "xeQlyjuJrlav",
        "outputId": "4a9a919d-999e-4024-e6b7-54c42e4d79fd"
      },
      "source": [
        "from tensorflow.keras.callbacks import EarlyStopping\r\n",
        "\r\n",
        "early_stop = EarlyStopping(patience=patience, monitor='val_loss', mode='min', restore_best_weights=True)\r\n",
        "\r\n",
        "history_baseline_model = baseline_model.fit_generator(train_generator,\r\n",
        "                                                      steps_per_epoch=steps_per_epoch,\r\n",
        "                                                      validation_data=valid_generator,\r\n",
        "                                                      validation_steps=validation_steps,\r\n",
        "                                                      epochs=epochs,\r\n",
        "                                                      callbacks=[early_stop],\r\n",
        "                                                      shuffle=shuffle\r\n",
        "                                                     ) "
      ],
      "execution_count": null,
      "outputs": [
        {
          "output_type": "stream",
          "text": [
            "/usr/local/lib/python3.6/dist-packages/tensorflow/python/keras/engine/training.py:1844: UserWarning: `Model.fit_generator` is deprecated and will be removed in a future version. Please use `Model.fit`, which supports generators.\n",
            "  warnings.warn('`Model.fit_generator` is deprecated and '\n"
          ],
          "name": "stderr"
        },
        {
          "output_type": "stream",
          "text": [
            "Epoch 1/1000\n",
            "10/10 [==============================] - 23s 2s/step - loss: 8.0918 - acc: 0.0106 - val_loss: 4.6579 - val_acc: 0.0170\n",
            "Epoch 2/1000\n",
            "10/10 [==============================] - 14s 1s/step - loss: 4.6411 - acc: 0.0019 - val_loss: 4.6135 - val_acc: 0.0140\n",
            "Epoch 3/1000\n",
            "10/10 [==============================] - 14s 1s/step - loss: 4.6148 - acc: 0.0167 - val_loss: 4.6103 - val_acc: 0.0120\n",
            "Epoch 4/1000\n",
            "10/10 [==============================] - 14s 1s/step - loss: 4.6083 - acc: 0.0298 - val_loss: 4.6050 - val_acc: 0.0150\n",
            "Epoch 5/1000\n",
            "10/10 [==============================] - 13s 1s/step - loss: 4.6106 - acc: 0.0118 - val_loss: 4.6015 - val_acc: 0.0180\n",
            "Epoch 6/1000\n",
            "10/10 [==============================] - 13s 1s/step - loss: 4.5967 - acc: 0.0138 - val_loss: 4.5945 - val_acc: 0.0160\n",
            "Epoch 7/1000\n",
            "10/10 [==============================] - 13s 1s/step - loss: 4.5939 - acc: 0.0145 - val_loss: 4.5628 - val_acc: 0.0170\n",
            "Epoch 8/1000\n",
            "10/10 [==============================] - 13s 1s/step - loss: 4.5685 - acc: 0.0207 - val_loss: 4.5628 - val_acc: 0.0270\n",
            "Epoch 9/1000\n",
            "10/10 [==============================] - 13s 1s/step - loss: 4.5595 - acc: 0.0197 - val_loss: 4.5724 - val_acc: 0.0230\n",
            "Epoch 10/1000\n",
            "10/10 [==============================] - 12s 1s/step - loss: 4.5665 - acc: 0.0258 - val_loss: 4.5373 - val_acc: 0.0310\n",
            "Epoch 11/1000\n",
            "10/10 [==============================] - 12s 1s/step - loss: 4.5378 - acc: 0.0175 - val_loss: 4.5583 - val_acc: 0.0230\n",
            "Epoch 12/1000\n",
            "10/10 [==============================] - 13s 1s/step - loss: 4.5586 - acc: 0.0204 - val_loss: 4.5526 - val_acc: 0.0150\n",
            "Epoch 13/1000\n",
            "10/10 [==============================] - 12s 1s/step - loss: 4.5109 - acc: 0.0204 - val_loss: 4.5462 - val_acc: 0.0230\n",
            "Epoch 14/1000\n",
            "10/10 [==============================] - 12s 1s/step - loss: 4.4902 - acc: 0.0373 - val_loss: 4.5052 - val_acc: 0.0290\n",
            "Epoch 15/1000\n",
            "10/10 [==============================] - 12s 1s/step - loss: 4.4945 - acc: 0.0338 - val_loss: 4.4776 - val_acc: 0.0390\n",
            "Epoch 16/1000\n",
            "10/10 [==============================] - 12s 1s/step - loss: 4.4732 - acc: 0.0355 - val_loss: 4.4834 - val_acc: 0.0280\n",
            "Epoch 17/1000\n",
            "10/10 [==============================] - 12s 1s/step - loss: 4.4691 - acc: 0.0319 - val_loss: 4.4394 - val_acc: 0.0310\n",
            "Epoch 18/1000\n",
            "10/10 [==============================] - 12s 1s/step - loss: 4.4838 - acc: 0.0308 - val_loss: 4.4858 - val_acc: 0.0300\n",
            "Epoch 19/1000\n",
            "10/10 [==============================] - 12s 1s/step - loss: 4.4642 - acc: 0.0232 - val_loss: 4.4611 - val_acc: 0.0390\n",
            "Epoch 20/1000\n",
            "10/10 [==============================] - 12s 1s/step - loss: 4.3957 - acc: 0.0450 - val_loss: 4.4670 - val_acc: 0.0340\n",
            "Epoch 21/1000\n",
            "10/10 [==============================] - 12s 1s/step - loss: 4.4423 - acc: 0.0380 - val_loss: 4.4387 - val_acc: 0.0520\n",
            "Epoch 22/1000\n",
            "10/10 [==============================] - 12s 1s/step - loss: 4.3429 - acc: 0.0437 - val_loss: 4.4819 - val_acc: 0.0410\n",
            "Epoch 23/1000\n",
            "10/10 [==============================] - 12s 1s/step - loss: 4.3926 - acc: 0.0506 - val_loss: 4.3600 - val_acc: 0.0510\n",
            "Epoch 24/1000\n",
            "10/10 [==============================] - 12s 1s/step - loss: 4.3512 - acc: 0.0460 - val_loss: 4.4147 - val_acc: 0.0500\n",
            "Epoch 25/1000\n",
            "10/10 [==============================] - 12s 1s/step - loss: 4.3307 - acc: 0.0690 - val_loss: 4.4001 - val_acc: 0.0510\n",
            "Epoch 26/1000\n",
            "10/10 [==============================] - 12s 1s/step - loss: 4.3299 - acc: 0.0534 - val_loss: 4.3481 - val_acc: 0.0490\n",
            "Epoch 27/1000\n",
            "10/10 [==============================] - 12s 1s/step - loss: 4.3146 - acc: 0.0785 - val_loss: 4.3515 - val_acc: 0.0540\n",
            "Epoch 28/1000\n",
            "10/10 [==============================] - 12s 1s/step - loss: 4.2607 - acc: 0.0755 - val_loss: 4.3597 - val_acc: 0.0410\n",
            "Epoch 29/1000\n",
            "10/10 [==============================] - 12s 1s/step - loss: 4.2684 - acc: 0.0684 - val_loss: 4.3014 - val_acc: 0.0620\n",
            "Epoch 30/1000\n",
            "10/10 [==============================] - 12s 1s/step - loss: 4.2167 - acc: 0.0765 - val_loss: 4.3005 - val_acc: 0.0570\n",
            "Epoch 31/1000\n",
            "10/10 [==============================] - 12s 1s/step - loss: 4.2419 - acc: 0.0898 - val_loss: 4.3766 - val_acc: 0.0410\n",
            "Epoch 32/1000\n",
            "10/10 [==============================] - 12s 1s/step - loss: 4.2071 - acc: 0.0860 - val_loss: 4.3481 - val_acc: 0.0460\n",
            "Epoch 33/1000\n",
            "10/10 [==============================] - 12s 1s/step - loss: 4.1594 - acc: 0.1032 - val_loss: 4.3074 - val_acc: 0.0480\n",
            "Epoch 34/1000\n",
            "10/10 [==============================] - 12s 1s/step - loss: 4.1004 - acc: 0.1149 - val_loss: 4.3498 - val_acc: 0.0640\n",
            "Epoch 35/1000\n",
            "10/10 [==============================] - 12s 1s/step - loss: 4.0807 - acc: 0.1017 - val_loss: 4.2770 - val_acc: 0.0740\n",
            "Epoch 36/1000\n",
            "10/10 [==============================] - 12s 1s/step - loss: 4.1686 - acc: 0.1147 - val_loss: 4.3212 - val_acc: 0.0640\n",
            "Epoch 37/1000\n",
            "10/10 [==============================] - 12s 1s/step - loss: 4.0796 - acc: 0.0961 - val_loss: 4.3119 - val_acc: 0.0650\n",
            "Epoch 38/1000\n",
            "10/10 [==============================] - 12s 1s/step - loss: 4.0280 - acc: 0.1209 - val_loss: 4.2254 - val_acc: 0.0750\n",
            "Epoch 39/1000\n",
            "10/10 [==============================] - 12s 1s/step - loss: 3.9736 - acc: 0.1284 - val_loss: 4.2641 - val_acc: 0.0770\n",
            "Epoch 40/1000\n",
            "10/10 [==============================] - 12s 1s/step - loss: 4.0713 - acc: 0.1023 - val_loss: 4.1933 - val_acc: 0.0670\n",
            "Epoch 41/1000\n",
            "10/10 [==============================] - 12s 1s/step - loss: 4.0594 - acc: 0.0975 - val_loss: 4.2463 - val_acc: 0.0720\n",
            "Epoch 42/1000\n",
            "10/10 [==============================] - 12s 1s/step - loss: 3.9562 - acc: 0.1307 - val_loss: 4.2136 - val_acc: 0.0650\n",
            "Epoch 43/1000\n",
            "10/10 [==============================] - 12s 1s/step - loss: 4.0166 - acc: 0.1284 - val_loss: 4.2344 - val_acc: 0.0580\n",
            "Epoch 44/1000\n",
            "10/10 [==============================] - 12s 1s/step - loss: 3.9125 - acc: 0.1378 - val_loss: 4.2519 - val_acc: 0.0580\n",
            "Epoch 45/1000\n",
            "10/10 [==============================] - 12s 1s/step - loss: 3.9201 - acc: 0.1635 - val_loss: 4.2016 - val_acc: 0.0710\n",
            "Epoch 46/1000\n",
            "10/10 [==============================] - 12s 1s/step - loss: 3.9720 - acc: 0.1309 - val_loss: 4.2178 - val_acc: 0.0800\n",
            "Epoch 47/1000\n",
            "10/10 [==============================] - 12s 1s/step - loss: 3.9124 - acc: 0.1410 - val_loss: 4.1788 - val_acc: 0.0810\n",
            "Epoch 48/1000\n",
            "10/10 [==============================] - 12s 1s/step - loss: 3.8279 - acc: 0.1626 - val_loss: 4.1866 - val_acc: 0.0780\n",
            "Epoch 49/1000\n",
            "10/10 [==============================] - 12s 1s/step - loss: 3.8513 - acc: 0.1694 - val_loss: 4.2515 - val_acc: 0.0710\n",
            "Epoch 50/1000\n",
            "10/10 [==============================] - 11s 1s/step - loss: 3.8394 - acc: 0.1499 - val_loss: 4.2056 - val_acc: 0.0790\n",
            "Epoch 51/1000\n",
            "10/10 [==============================] - 11s 1s/step - loss: 3.7454 - acc: 0.1789 - val_loss: 4.1885 - val_acc: 0.0800\n",
            "Epoch 52/1000\n",
            "10/10 [==============================] - 11s 1s/step - loss: 3.7875 - acc: 0.1646 - val_loss: 4.1999 - val_acc: 0.0960\n",
            "Epoch 53/1000\n",
            "10/10 [==============================] - 11s 1s/step - loss: 3.7216 - acc: 0.1813 - val_loss: 4.3013 - val_acc: 0.0740\n",
            "Epoch 54/1000\n",
            "10/10 [==============================] - 11s 1s/step - loss: 3.7164 - acc: 0.2056 - val_loss: 4.2257 - val_acc: 0.0770\n",
            "Epoch 55/1000\n",
            "10/10 [==============================] - 11s 1s/step - loss: 3.8254 - acc: 0.1640 - val_loss: 4.2379 - val_acc: 0.0780\n",
            "Epoch 56/1000\n",
            "10/10 [==============================] - 12s 1s/step - loss: 3.8048 - acc: 0.1608 - val_loss: 4.1730 - val_acc: 0.0850\n",
            "Epoch 57/1000\n",
            "10/10 [==============================] - 11s 1s/step - loss: 3.6773 - acc: 0.2068 - val_loss: 4.2284 - val_acc: 0.0800\n",
            "Epoch 58/1000\n",
            "10/10 [==============================] - 11s 1s/step - loss: 3.7645 - acc: 0.2013 - val_loss: 4.2072 - val_acc: 0.0760\n",
            "Epoch 59/1000\n",
            "10/10 [==============================] - 11s 1s/step - loss: 3.5288 - acc: 0.2287 - val_loss: 4.3022 - val_acc: 0.0720\n",
            "Epoch 60/1000\n",
            "10/10 [==============================] - 11s 1s/step - loss: 3.7024 - acc: 0.1937 - val_loss: 4.2573 - val_acc: 0.0750\n",
            "Epoch 61/1000\n",
            "10/10 [==============================] - 11s 1s/step - loss: 3.5749 - acc: 0.2251 - val_loss: 4.1548 - val_acc: 0.0950\n",
            "Epoch 62/1000\n",
            "10/10 [==============================] - 11s 1s/step - loss: 3.6350 - acc: 0.2145 - val_loss: 4.2436 - val_acc: 0.0880\n",
            "Epoch 63/1000\n",
            "10/10 [==============================] - 11s 1s/step - loss: 3.5083 - acc: 0.2335 - val_loss: 4.1864 - val_acc: 0.1030\n",
            "Epoch 64/1000\n",
            "10/10 [==============================] - 11s 1s/step - loss: 3.5864 - acc: 0.2383 - val_loss: 4.3112 - val_acc: 0.0790\n",
            "Epoch 65/1000\n",
            "10/10 [==============================] - 11s 1s/step - loss: 3.5237 - acc: 0.2406 - val_loss: 4.2222 - val_acc: 0.1020\n",
            "Epoch 66/1000\n",
            "10/10 [==============================] - 11s 1s/step - loss: 3.5552 - acc: 0.2300 - val_loss: 4.2255 - val_acc: 0.0790\n",
            "Epoch 67/1000\n",
            "10/10 [==============================] - 11s 1s/step - loss: 3.4801 - acc: 0.2837 - val_loss: 4.3075 - val_acc: 0.0780\n",
            "Epoch 68/1000\n",
            "10/10 [==============================] - 11s 1s/step - loss: 3.5954 - acc: 0.2419 - val_loss: 4.2470 - val_acc: 0.0890\n",
            "Epoch 69/1000\n",
            "10/10 [==============================] - 11s 1s/step - loss: 3.4463 - acc: 0.2670 - val_loss: 4.1071 - val_acc: 0.1120\n",
            "Epoch 70/1000\n",
            "10/10 [==============================] - 11s 1s/step - loss: 3.3872 - acc: 0.2965 - val_loss: 4.3043 - val_acc: 0.0870\n",
            "Epoch 71/1000\n",
            "10/10 [==============================] - 11s 1s/step - loss: 3.3264 - acc: 0.2670 - val_loss: 4.2269 - val_acc: 0.0840\n",
            "Epoch 72/1000\n",
            "10/10 [==============================] - 11s 1s/step - loss: 3.2686 - acc: 0.2920 - val_loss: 4.1715 - val_acc: 0.0880\n",
            "Epoch 73/1000\n",
            "10/10 [==============================] - 11s 1s/step - loss: 3.3118 - acc: 0.2733 - val_loss: 4.2591 - val_acc: 0.0820\n",
            "Epoch 74/1000\n",
            "10/10 [==============================] - 11s 1s/step - loss: 3.2501 - acc: 0.2934 - val_loss: 4.2520 - val_acc: 0.0860\n",
            "Epoch 75/1000\n",
            "10/10 [==============================] - 11s 1s/step - loss: 3.2836 - acc: 0.2803 - val_loss: 4.3053 - val_acc: 0.0870\n",
            "Epoch 76/1000\n",
            "10/10 [==============================] - 11s 1s/step - loss: 3.1090 - acc: 0.3155 - val_loss: 4.2951 - val_acc: 0.0930\n",
            "Epoch 77/1000\n",
            "10/10 [==============================] - 11s 1s/step - loss: 3.2406 - acc: 0.2944 - val_loss: 4.3430 - val_acc: 0.0890\n",
            "Epoch 78/1000\n",
            "10/10 [==============================] - 11s 1s/step - loss: 3.2875 - acc: 0.3050 - val_loss: 4.2426 - val_acc: 0.0890\n",
            "Epoch 79/1000\n",
            "10/10 [==============================] - 11s 1s/step - loss: 3.1790 - acc: 0.3312 - val_loss: 4.2755 - val_acc: 0.0900\n",
            "Epoch 80/1000\n",
            "10/10 [==============================] - 11s 1s/step - loss: 3.2192 - acc: 0.3179 - val_loss: 4.1505 - val_acc: 0.0960\n",
            "Epoch 81/1000\n",
            "10/10 [==============================] - 11s 1s/step - loss: 3.0384 - acc: 0.3691 - val_loss: 4.1679 - val_acc: 0.0870\n",
            "Epoch 82/1000\n",
            "10/10 [==============================] - 11s 1s/step - loss: 3.1791 - acc: 0.3270 - val_loss: 4.2358 - val_acc: 0.0980\n",
            "Epoch 83/1000\n",
            "10/10 [==============================] - 11s 1s/step - loss: 3.1107 - acc: 0.3451 - val_loss: 4.3043 - val_acc: 0.0820\n",
            "Epoch 84/1000\n",
            "10/10 [==============================] - 11s 1s/step - loss: 3.0125 - acc: 0.3328 - val_loss: 4.2743 - val_acc: 0.0990\n",
            "Epoch 85/1000\n",
            "10/10 [==============================] - 11s 1s/step - loss: 3.0817 - acc: 0.3647 - val_loss: 4.1521 - val_acc: 0.1110\n",
            "Epoch 86/1000\n",
            "10/10 [==============================] - 11s 1s/step - loss: 2.9843 - acc: 0.3681 - val_loss: 4.2973 - val_acc: 0.0910\n",
            "Epoch 87/1000\n",
            "10/10 [==============================] - 11s 1s/step - loss: 3.0167 - acc: 0.3670 - val_loss: 4.2551 - val_acc: 0.1070\n",
            "Epoch 88/1000\n",
            "10/10 [==============================] - 11s 1s/step - loss: 2.9887 - acc: 0.3465 - val_loss: 4.2164 - val_acc: 0.1040\n",
            "Epoch 89/1000\n",
            "10/10 [==============================] - 11s 1s/step - loss: 3.1338 - acc: 0.3260 - val_loss: 4.2206 - val_acc: 0.0910\n",
            "Epoch 90/1000\n",
            "10/10 [==============================] - 11s 1s/step - loss: 2.9280 - acc: 0.3805 - val_loss: 4.3019 - val_acc: 0.0940\n",
            "Epoch 91/1000\n",
            "10/10 [==============================] - 11s 1s/step - loss: 2.9450 - acc: 0.3616 - val_loss: 4.2841 - val_acc: 0.0910\n",
            "Epoch 92/1000\n",
            "10/10 [==============================] - 11s 1s/step - loss: 2.8035 - acc: 0.4154 - val_loss: 4.2557 - val_acc: 0.0940\n",
            "Epoch 93/1000\n",
            "10/10 [==============================] - 11s 1s/step - loss: 2.8710 - acc: 0.3908 - val_loss: 4.3550 - val_acc: 0.0880\n",
            "Epoch 94/1000\n",
            "10/10 [==============================] - 11s 1s/step - loss: 2.8114 - acc: 0.3940 - val_loss: 4.2070 - val_acc: 0.1020\n",
            "Epoch 95/1000\n",
            "10/10 [==============================] - 11s 1s/step - loss: 2.8815 - acc: 0.3919 - val_loss: 4.2943 - val_acc: 0.0990\n",
            "Epoch 96/1000\n",
            "10/10 [==============================] - 11s 1s/step - loss: 2.7793 - acc: 0.3849 - val_loss: 4.3895 - val_acc: 0.1020\n",
            "Epoch 97/1000\n",
            "10/10 [==============================] - 11s 1s/step - loss: 2.7339 - acc: 0.4321 - val_loss: 4.2087 - val_acc: 0.0970\n",
            "Epoch 98/1000\n",
            "10/10 [==============================] - 11s 1s/step - loss: 2.8253 - acc: 0.4136 - val_loss: 4.3663 - val_acc: 0.0950\n",
            "Epoch 99/1000\n",
            "10/10 [==============================] - 11s 1s/step - loss: 2.7324 - acc: 0.4422 - val_loss: 4.3112 - val_acc: 0.1060\n"
          ],
          "name": "stdout"
        }
      ]
    },
    {
      "cell_type": "markdown",
      "metadata": {
        "id": "i5PjZetq5X08"
      },
      "source": [
        "# New Section"
      ]
    },
    {
      "cell_type": "markdown",
      "metadata": {
        "id": "QvIpODRc5YUe"
      },
      "source": [
        "# New Section"
      ]
    },
    {
      "cell_type": "markdown",
      "metadata": {
        "id": "y9Yza1ir5YuX"
      },
      "source": [
        "# New Section"
      ]
    },
    {
      "cell_type": "code",
      "metadata": {
        "colab": {
          "base_uri": "https://localhost:8080/"
        },
        "id": "snfxNSSlr0hY",
        "outputId": "d7d8e223-5263-4ab1-fd43-824208100b5e"
      },
      "source": [
        "model = Sequential()\r\n",
        "model.add(Conv2D(16, (3,3), padding='same', activation='relu', input_shape=(299, 299, 3)))\r\n",
        "model.add(MaxPooling2D(pool_size=(2, 2)))\r\n",
        "model.add(Dropout(0.25))\r\n",
        "model.add(Conv2D(32, (3,3), padding='same', activation='relu'))\r\n",
        "model.add(MaxPooling2D())\r\n",
        "model.add(Dropout(0.25))\r\n",
        "model.add(Conv2D(64, (3,3), padding='same', activation='relu'))\r\n",
        "model.add(MaxPooling2D())\r\n",
        "model.add(Dropout(0.25))\r\n",
        "model.add(Conv2D(128, (3,3), padding='same', activation='relu'))\r\n",
        "model.add(MaxPooling2D())\r\n",
        "model.add(Dropout(0.25))\r\n",
        "model.add(Flatten())\r\n",
        "model.add(Dense(1024, activation='relu'))\r\n",
        "model.add(Dense(512, activation='relu'))\r\n",
        "model.add(Dense(101, activation='softmax'))\r\n",
        "\r\n",
        "model.compile(loss='categorical_crossentropy',\r\n",
        "              optimizer='adam',\r\n",
        "              metrics=['accuracy'])\r\n",
        "\r\n",
        "model.summary()\r\n",
        "\r\n"
      ],
      "execution_count": null,
      "outputs": [
        {
          "output_type": "stream",
          "text": [
            "Model: \"sequential_1\"\n",
            "_________________________________________________________________\n",
            "Layer (type)                 Output Shape              Param #   \n",
            "=================================================================\n",
            "conv2d_2 (Conv2D)            (None, 299, 299, 16)      448       \n",
            "_________________________________________________________________\n",
            "max_pooling2d_2 (MaxPooling2 (None, 149, 149, 16)      0         \n",
            "_________________________________________________________________\n",
            "dropout (Dropout)            (None, 149, 149, 16)      0         \n",
            "_________________________________________________________________\n",
            "conv2d_3 (Conv2D)            (None, 149, 149, 32)      4640      \n",
            "_________________________________________________________________\n",
            "max_pooling2d_3 (MaxPooling2 (None, 74, 74, 32)        0         \n",
            "_________________________________________________________________\n",
            "dropout_1 (Dropout)          (None, 74, 74, 32)        0         \n",
            "_________________________________________________________________\n",
            "conv2d_4 (Conv2D)            (None, 74, 74, 64)        18496     \n",
            "_________________________________________________________________\n",
            "max_pooling2d_4 (MaxPooling2 (None, 37, 37, 64)        0         \n",
            "_________________________________________________________________\n",
            "dropout_2 (Dropout)          (None, 37, 37, 64)        0         \n",
            "_________________________________________________________________\n",
            "conv2d_5 (Conv2D)            (None, 37, 37, 128)       73856     \n",
            "_________________________________________________________________\n",
            "max_pooling2d_5 (MaxPooling2 (None, 18, 18, 128)       0         \n",
            "_________________________________________________________________\n",
            "dropout_3 (Dropout)          (None, 18, 18, 128)       0         \n",
            "_________________________________________________________________\n",
            "flatten_1 (Flatten)          (None, 41472)             0         \n",
            "_________________________________________________________________\n",
            "dense_2 (Dense)              (None, 1024)              42468352  \n",
            "_________________________________________________________________\n",
            "dense_3 (Dense)              (None, 512)               524800    \n",
            "_________________________________________________________________\n",
            "dense_4 (Dense)              (None, 101)               51813     \n",
            "=================================================================\n",
            "Total params: 43,142,405\n",
            "Trainable params: 43,142,405\n",
            "Non-trainable params: 0\n",
            "_________________________________________________________________\n"
          ],
          "name": "stdout"
        }
      ]
    },
    {
      "cell_type": "code",
      "metadata": {
        "colab": {
          "base_uri": "https://localhost:8080/"
        },
        "id": "r7Xp0p8Bz3MF",
        "outputId": "55db6ac0-1840-4c40-99b3-98283f94e154"
      },
      "source": [
        "kaggle_baseline_model = model.fit_generator(train_generator,\r\n",
        "                                                      steps_per_epoch=steps_per_epoch,\r\n",
        "                                                      validation_data=valid_generator,\r\n",
        "                                                      validation_steps=validation_steps,\r\n",
        "                                                      epochs=epochs,\r\n",
        "                                                      callbacks=[early_stop],\r\n",
        "                                                      shuffle=shuffle\r\n",
        "                                                     )"
      ],
      "execution_count": null,
      "outputs": [
        {
          "output_type": "stream",
          "text": [
            "/usr/local/lib/python3.6/dist-packages/tensorflow/python/keras/engine/training.py:1844: UserWarning: `Model.fit_generator` is deprecated and will be removed in a future version. Please use `Model.fit`, which supports generators.\n",
            "  warnings.warn('`Model.fit_generator` is deprecated and '\n"
          ],
          "name": "stderr"
        },
        {
          "output_type": "stream",
          "text": [
            "Epoch 1/1000\n",
            "10/10 [==============================] - 13s 1s/step - loss: 6.7206 - accuracy: 0.0164 - val_loss: 4.6153 - val_accuracy: 0.0070\n",
            "Epoch 2/1000\n",
            "10/10 [==============================] - 11s 1s/step - loss: 4.6151 - accuracy: 0.0130 - val_loss: 4.6152 - val_accuracy: 0.0130\n",
            "Epoch 3/1000\n",
            "10/10 [==============================] - 11s 1s/step - loss: 4.6161 - accuracy: 0.0052 - val_loss: 4.6149 - val_accuracy: 0.0130\n",
            "Epoch 4/1000\n",
            "10/10 [==============================] - 11s 1s/step - loss: 4.6149 - accuracy: 0.0120 - val_loss: 4.6146 - val_accuracy: 0.0130\n",
            "Epoch 5/1000\n",
            "10/10 [==============================] - 11s 1s/step - loss: 4.6154 - accuracy: 0.0131 - val_loss: 4.6148 - val_accuracy: 0.0070\n",
            "Epoch 6/1000\n",
            "10/10 [==============================] - 11s 1s/step - loss: 4.6157 - accuracy: 0.0119 - val_loss: 4.6141 - val_accuracy: 0.0130\n",
            "Epoch 7/1000\n",
            "10/10 [==============================] - 11s 1s/step - loss: 4.6151 - accuracy: 0.0107 - val_loss: 4.6152 - val_accuracy: 0.0140\n",
            "Epoch 8/1000\n",
            "10/10 [==============================] - 11s 1s/step - loss: 4.6166 - accuracy: 0.0125 - val_loss: 4.6145 - val_accuracy: 0.0130\n",
            "Epoch 9/1000\n",
            "10/10 [==============================] - 11s 1s/step - loss: 4.6145 - accuracy: 0.0132 - val_loss: 4.6161 - val_accuracy: 0.0100\n",
            "Epoch 10/1000\n",
            "10/10 [==============================] - 11s 1s/step - loss: 4.6155 - accuracy: 0.0058 - val_loss: 4.6165 - val_accuracy: 0.0110\n",
            "Epoch 11/1000\n",
            "10/10 [==============================] - 11s 1s/step - loss: 4.6159 - accuracy: 0.0101 - val_loss: 4.6156 - val_accuracy: 0.0080\n",
            "Epoch 12/1000\n",
            "10/10 [==============================] - 11s 1s/step - loss: 4.6159 - accuracy: 0.0103 - val_loss: 4.6159 - val_accuracy: 0.0050\n",
            "Epoch 13/1000\n",
            "10/10 [==============================] - 11s 1s/step - loss: 4.6153 - accuracy: 0.0066 - val_loss: 4.6154 - val_accuracy: 0.0180\n",
            "Epoch 14/1000\n",
            "10/10 [==============================] - 11s 1s/step - loss: 4.6160 - accuracy: 0.0057 - val_loss: 4.6156 - val_accuracy: 0.0090\n",
            "Epoch 15/1000\n",
            "10/10 [==============================] - 11s 1s/step - loss: 4.6143 - accuracy: 0.0234 - val_loss: 4.6161 - val_accuracy: 0.0080\n",
            "Epoch 16/1000\n",
            "10/10 [==============================] - 11s 1s/step - loss: 4.6138 - accuracy: 0.0119 - val_loss: 4.6158 - val_accuracy: 0.0080\n",
            "Epoch 17/1000\n",
            "10/10 [==============================] - 11s 1s/step - loss: 4.6143 - accuracy: 0.0064 - val_loss: 4.6159 - val_accuracy: 0.0150\n",
            "Epoch 18/1000\n",
            "10/10 [==============================] - 11s 1s/step - loss: 4.6160 - accuracy: 0.0110 - val_loss: 4.6155 - val_accuracy: 0.0100\n",
            "Epoch 19/1000\n",
            "10/10 [==============================] - 11s 1s/step - loss: 4.6146 - accuracy: 0.0115 - val_loss: 4.6160 - val_accuracy: 0.0030\n",
            "Epoch 20/1000\n",
            "10/10 [==============================] - 11s 1s/step - loss: 4.6162 - accuracy: 0.0132 - val_loss: 4.6161 - val_accuracy: 0.0100\n",
            "Epoch 21/1000\n",
            "10/10 [==============================] - 11s 1s/step - loss: 4.6166 - accuracy: 0.0041 - val_loss: 4.6161 - val_accuracy: 0.0100\n",
            "Epoch 22/1000\n",
            "10/10 [==============================] - 11s 1s/step - loss: 4.6149 - accuracy: 0.0093 - val_loss: 4.6159 - val_accuracy: 0.0100\n",
            "Epoch 23/1000\n",
            "10/10 [==============================] - 11s 1s/step - loss: 4.6151 - accuracy: 0.0123 - val_loss: 4.6152 - val_accuracy: 0.0120\n",
            "Epoch 24/1000\n",
            "10/10 [==============================] - 11s 1s/step - loss: 4.6154 - accuracy: 0.0115 - val_loss: 4.6138 - val_accuracy: 0.0130\n",
            "Epoch 25/1000\n",
            "10/10 [==============================] - 11s 1s/step - loss: 4.6151 - accuracy: 0.0105 - val_loss: 4.6156 - val_accuracy: 0.0120\n",
            "Epoch 26/1000\n",
            "10/10 [==============================] - 11s 1s/step - loss: 4.6131 - accuracy: 0.0164 - val_loss: 4.6157 - val_accuracy: 0.0070\n",
            "Epoch 27/1000\n",
            "10/10 [==============================] - 11s 1s/step - loss: 4.6139 - accuracy: 0.0219 - val_loss: 4.6157 - val_accuracy: 0.0090\n",
            "Epoch 28/1000\n",
            "10/10 [==============================] - 11s 1s/step - loss: 4.6150 - accuracy: 0.0105 - val_loss: 4.6142 - val_accuracy: 0.0140\n",
            "Epoch 29/1000\n",
            "10/10 [==============================] - 11s 1s/step - loss: 4.6153 - accuracy: 0.0035 - val_loss: 4.6146 - val_accuracy: 0.0110\n",
            "Epoch 30/1000\n",
            "10/10 [==============================] - 11s 1s/step - loss: 4.6163 - accuracy: 0.0066 - val_loss: 4.6165 - val_accuracy: 0.0080\n",
            "Epoch 31/1000\n",
            "10/10 [==============================] - 11s 1s/step - loss: 4.6160 - accuracy: 0.0084 - val_loss: 4.6144 - val_accuracy: 0.0080\n",
            "Epoch 32/1000\n",
            "10/10 [==============================] - 11s 1s/step - loss: 4.6156 - accuracy: 0.0122 - val_loss: 4.6148 - val_accuracy: 0.0110\n",
            "Epoch 33/1000\n",
            "10/10 [==============================] - 11s 1s/step - loss: 4.6160 - accuracy: 0.0083 - val_loss: 4.6168 - val_accuracy: 0.0080\n",
            "Epoch 34/1000\n",
            "10/10 [==============================] - 11s 1s/step - loss: 4.6148 - accuracy: 0.0077 - val_loss: 4.6159 - val_accuracy: 0.0130\n",
            "Epoch 35/1000\n",
            "10/10 [==============================] - 11s 1s/step - loss: 4.6147 - accuracy: 0.0094 - val_loss: 4.6151 - val_accuracy: 0.0100\n",
            "Epoch 36/1000\n",
            "10/10 [==============================] - 11s 1s/step - loss: 4.6140 - accuracy: 0.0150 - val_loss: 4.6151 - val_accuracy: 0.0140\n",
            "Epoch 37/1000\n",
            "10/10 [==============================] - 11s 1s/step - loss: 4.6147 - accuracy: 0.0167 - val_loss: 4.6158 - val_accuracy: 0.0040\n",
            "Epoch 38/1000\n",
            "10/10 [==============================] - 11s 1s/step - loss: 4.6152 - accuracy: 0.0093 - val_loss: 4.6156 - val_accuracy: 0.0140\n",
            "Epoch 39/1000\n",
            "10/10 [==============================] - 11s 1s/step - loss: 4.6135 - accuracy: 0.0118 - val_loss: 4.6147 - val_accuracy: 0.0110\n",
            "Epoch 40/1000\n",
            "10/10 [==============================] - 11s 1s/step - loss: 4.6138 - accuracy: 0.0106 - val_loss: 4.6156 - val_accuracy: 0.0120\n",
            "Epoch 41/1000\n",
            "10/10 [==============================] - 11s 1s/step - loss: 4.6155 - accuracy: 0.0080 - val_loss: 4.6134 - val_accuracy: 0.0110\n",
            "Epoch 42/1000\n",
            "10/10 [==============================] - 11s 1s/step - loss: 4.6168 - accuracy: 0.0051 - val_loss: 4.6156 - val_accuracy: 0.0070\n",
            "Epoch 43/1000\n",
            "10/10 [==============================] - 11s 1s/step - loss: 4.6170 - accuracy: 0.0027 - val_loss: 4.6158 - val_accuracy: 0.0070\n",
            "Epoch 44/1000\n",
            "10/10 [==============================] - 11s 1s/step - loss: 4.6155 - accuracy: 0.0108 - val_loss: 4.6141 - val_accuracy: 0.0090\n",
            "Epoch 45/1000\n",
            "10/10 [==============================] - 11s 1s/step - loss: 4.6144 - accuracy: 0.0081 - val_loss: 4.6160 - val_accuracy: 0.0100\n",
            "Epoch 46/1000\n",
            "10/10 [==============================] - 11s 1s/step - loss: 4.6156 - accuracy: 0.0126 - val_loss: 4.6152 - val_accuracy: 0.0120\n",
            "Epoch 47/1000\n",
            "10/10 [==============================] - 11s 1s/step - loss: 4.6150 - accuracy: 0.0052 - val_loss: 4.6152 - val_accuracy: 0.0100\n",
            "Epoch 48/1000\n",
            "10/10 [==============================] - 11s 1s/step - loss: 4.6169 - accuracy: 0.0042 - val_loss: 4.6146 - val_accuracy: 0.0050\n",
            "Epoch 49/1000\n",
            "10/10 [==============================] - 11s 1s/step - loss: 4.6153 - accuracy: 0.0069 - val_loss: 4.6152 - val_accuracy: 0.0110\n",
            "Epoch 50/1000\n",
            "10/10 [==============================] - 11s 1s/step - loss: 4.6161 - accuracy: 0.0120 - val_loss: 4.6162 - val_accuracy: 0.0080\n",
            "Epoch 51/1000\n",
            "10/10 [==============================] - 11s 1s/step - loss: 4.6154 - accuracy: 0.0080 - val_loss: 4.6150 - val_accuracy: 0.0080\n",
            "Epoch 52/1000\n",
            "10/10 [==============================] - 11s 1s/step - loss: 4.6150 - accuracy: 0.0076 - val_loss: 4.6159 - val_accuracy: 0.0090\n",
            "Epoch 53/1000\n",
            "10/10 [==============================] - 11s 1s/step - loss: 4.6142 - accuracy: 0.0164 - val_loss: 4.6157 - val_accuracy: 0.0120\n",
            "Epoch 54/1000\n",
            "10/10 [==============================] - 11s 1s/step - loss: 4.6144 - accuracy: 0.0220 - val_loss: 4.6166 - val_accuracy: 0.0100\n",
            "Epoch 55/1000\n",
            "10/10 [==============================] - 11s 1s/step - loss: 4.6123 - accuracy: 0.0091 - val_loss: 4.6160 - val_accuracy: 0.0090\n",
            "Epoch 56/1000\n",
            "10/10 [==============================] - 11s 1s/step - loss: 4.6145 - accuracy: 0.0150 - val_loss: 4.6153 - val_accuracy: 0.0070\n",
            "Epoch 57/1000\n",
            "10/10 [==============================] - 11s 1s/step - loss: 4.6152 - accuracy: 0.0136 - val_loss: 4.6150 - val_accuracy: 0.0150\n",
            "Epoch 58/1000\n",
            "10/10 [==============================] - 11s 1s/step - loss: 4.6151 - accuracy: 0.0127 - val_loss: 4.6149 - val_accuracy: 0.0090\n",
            "Epoch 59/1000\n",
            "10/10 [==============================] - 11s 1s/step - loss: 4.6151 - accuracy: 0.0044 - val_loss: 4.6154 - val_accuracy: 0.0110\n",
            "Epoch 60/1000\n",
            "10/10 [==============================] - 11s 1s/step - loss: 4.6152 - accuracy: 0.0157 - val_loss: 4.6157 - val_accuracy: 0.0120\n",
            "Epoch 61/1000\n",
            "10/10 [==============================] - 11s 1s/step - loss: 4.6166 - accuracy: 0.0063 - val_loss: 4.6142 - val_accuracy: 0.0120\n",
            "Epoch 62/1000\n",
            "10/10 [==============================] - 11s 1s/step - loss: 4.6173 - accuracy: 0.0082 - val_loss: 4.6164 - val_accuracy: 0.0090\n",
            "Epoch 63/1000\n",
            "10/10 [==============================] - 11s 1s/step - loss: 4.6136 - accuracy: 0.0067 - val_loss: 4.6149 - val_accuracy: 0.0090\n",
            "Epoch 64/1000\n",
            "10/10 [==============================] - 11s 1s/step - loss: 4.6148 - accuracy: 0.0071 - val_loss: 4.6153 - val_accuracy: 0.0110\n",
            "Epoch 65/1000\n",
            "10/10 [==============================] - 11s 1s/step - loss: 4.6155 - accuracy: 0.0121 - val_loss: 4.6150 - val_accuracy: 0.0090\n",
            "Epoch 66/1000\n",
            "10/10 [==============================] - 11s 1s/step - loss: 4.6142 - accuracy: 0.0127 - val_loss: 4.6144 - val_accuracy: 0.0140\n",
            "Epoch 67/1000\n",
            "10/10 [==============================] - 11s 1s/step - loss: 4.6162 - accuracy: 0.0041 - val_loss: 4.6152 - val_accuracy: 0.0150\n",
            "Epoch 68/1000\n",
            "10/10 [==============================] - 11s 1s/step - loss: 4.6146 - accuracy: 0.0112 - val_loss: 4.6147 - val_accuracy: 0.0110\n",
            "Epoch 69/1000\n",
            "10/10 [==============================] - 11s 1s/step - loss: 4.6154 - accuracy: 0.0075 - val_loss: 4.6149 - val_accuracy: 0.0130\n",
            "Epoch 70/1000\n",
            "10/10 [==============================] - 11s 1s/step - loss: 4.6158 - accuracy: 0.0025 - val_loss: 4.6156 - val_accuracy: 0.0070\n",
            "Epoch 71/1000\n",
            "10/10 [==============================] - 11s 1s/step - loss: 4.6151 - accuracy: 0.0120 - val_loss: 4.6162 - val_accuracy: 0.0120\n"
          ],
          "name": "stdout"
        }
      ]
    },
    {
      "cell_type": "code",
      "metadata": {
        "id": "AHgVeTbp1Y7g"
      },
      "source": [
        ""
      ],
      "execution_count": null,
      "outputs": []
    }
  ]
}